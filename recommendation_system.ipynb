{
  "nbformat": 4,
  "nbformat_minor": 0,
  "metadata": {
    "accelerator": "GPU",
    "colab": {
      "name": "recommendation_system.ipynb",
      "version": "0.3.2",
      "provenance": [],
      "collapsed_sections": [],
      "toc_visible": true
    },
    "kernelspec": {
      "display_name": "Python 3",
      "language": "python",
      "name": "python3"
    },
    "language_info": {
      "codemirror_mode": {
        "name": "ipython",
        "version": 3
      },
      "file_extension": ".py",
      "mimetype": "text/x-python",
      "name": "python",
      "nbconvert_exporter": "python",
      "pygments_lexer": "ipython3",
      "version": "3.6.8"
    }
  },
  "cells": [
    {
      "cell_type": "markdown",
      "metadata": {
        "colab_type": "text",
        "id": "O2uNs1wnfApG"
      },
      "source": [
        "# Recommendation System\n"
      ]
    },
    {
      "cell_type": "markdown",
      "metadata": {
        "colab_type": "text",
        "id": "fbl73ed0a_eV"
      },
      "source": [
        "## Dataset description\n",
        "\n",
        "This data set contains information on user preference data from 73,516 users on 12,294 anime. Each user is able to add anime to their completed list and give it a rating and this data set is a compilation of those ratings.\n",
        "\n",
        "Anime.csv\n",
        "\n",
        "\n",
        "*   anime_id - myanimelist.net's unique id identifying an anime.\n",
        "*   name - full name of anime.\n",
        "*   genre - comma separated list of genres for this anime.\n",
        "*   type - movie, TV, OVA, etc.\n",
        "*   episodes - how many episodes in this show. (1 if movie).\n",
        "*   rating - average rating out of 10 for this anime.\n",
        "*   members - number of community members that are in this anime's \"group\".\n",
        "\n",
        "Rating.csv\n",
        "*   user_id - non identifiable randomly generated user id.\n",
        "*   anime_id - the anime that this user has rated.\n",
        "*   rating - rating out of 10 this user has assigned (-1 if the user watched it but didn't assign a rating).\n",
        "\n",
        "[Source of dataset and more details](https://www.kaggle.com/CooperUnion/anime-recommendations-database)"
      ]
    },
    {
      "cell_type": "markdown",
      "metadata": {
        "colab_type": "text",
        "id": "hMMW2xKSFChH"
      },
      "source": [
        "**Our goal is to build a recommender system to make recommendations to user based on their rating records.**"
      ]
    },
    {
      "cell_type": "markdown",
      "metadata": {
        "colab_type": "text",
        "id": "vsfFTWO9Fj2m"
      },
      "source": [
        "## Importing modules and data"
      ]
    },
    {
      "cell_type": "code",
      "metadata": {
        "colab_type": "code",
        "id": "aY5RqUTNYVv4",
        "outputId": "ba843d3e-0351-419e-93de-c5919974d49a",
        "colab": {
          "base_uri": "https://localhost:8080/",
          "height": 74
        }
      },
      "source": [
        "# Run this cell to mount your Google Drive.\n",
        "from google.colab import drive\n",
        "drive.mount('/content/drive')"
      ],
      "execution_count": 1,
      "outputs": [
        {
          "output_type": "stream",
          "text": [
            "Drive already mounted at /content/drive; to attempt to forcibly remount, call drive.mount(\"/content/drive\", force_remount=True).\n"
          ],
          "name": "stdout"
        }
      ]
    },
    {
      "cell_type": "code",
      "metadata": {
        "colab_type": "code",
        "id": "Gv6bX_mIb8wt",
        "colab": {}
      },
      "source": [
        "import pandas as pd\n",
        "import numpy as np\n",
        "import matplotlib.pyplot as plt\n",
        "import seaborn as sns\n",
        "import time\n",
        "import torch\n",
        "import torch.nn as nn\n",
        "import random\n",
        "from torch.utils.data import Dataset, DataLoader\n",
        "from sklearn.model_selection import train_test_split\n",
        "import sklearn.utils"
      ],
      "execution_count": 0,
      "outputs": []
    },
    {
      "cell_type": "code",
      "metadata": {
        "colab_type": "code",
        "id": "smhlsvpLjYwi",
        "colab": {}
      },
      "source": [
        "USE_CUDA = torch.cuda.is_available()\n",
        "device = torch.device(\"cuda\" if USE_CUDA else \"cpu\")"
      ],
      "execution_count": 0,
      "outputs": []
    },
    {
      "cell_type": "code",
      "metadata": {
        "colab_type": "code",
        "id": "LD8lp3mHcEpP",
        "colab": {}
      },
      "source": [
        "anime = pd.read_csv('./drive/My Drive/Colab Notebooks/anime-recommendations-database/anime.csv')\n",
        "rating = pd.read_csv('./drive/My Drive/Colab Notebooks/anime-recommendations-database/rating.csv')"
      ],
      "execution_count": 0,
      "outputs": []
    },
    {
      "cell_type": "markdown",
      "metadata": {
        "colab_type": "text",
        "id": "u5bguRGefQmg"
      },
      "source": [
        "## Exploring the data"
      ]
    },
    {
      "cell_type": "code",
      "metadata": {
        "colab_type": "code",
        "id": "9WWjOJtjdovG",
        "outputId": "2df1228d-d3c6-47ed-f646-b6ffa2e3d446",
        "colab": {
          "base_uri": "https://localhost:8080/",
          "height": 221
        }
      },
      "source": [
        "anime.info()"
      ],
      "execution_count": 5,
      "outputs": [
        {
          "output_type": "stream",
          "text": [
            "<class 'pandas.core.frame.DataFrame'>\n",
            "RangeIndex: 12294 entries, 0 to 12293\n",
            "Data columns (total 7 columns):\n",
            "anime_id    12294 non-null int64\n",
            "name        12294 non-null object\n",
            "genre       12232 non-null object\n",
            "type        12269 non-null object\n",
            "episodes    12294 non-null object\n",
            "rating      12064 non-null float64\n",
            "members     12294 non-null int64\n",
            "dtypes: float64(1), int64(2), object(4)\n",
            "memory usage: 672.4+ KB\n"
          ],
          "name": "stdout"
        }
      ]
    },
    {
      "cell_type": "code",
      "metadata": {
        "colab_type": "code",
        "id": "5uQ7VUyLeC1a",
        "outputId": "a5ff979d-c0a8-4f7e-d246-a96a8dd2c826",
        "colab": {
          "base_uri": "https://localhost:8080/",
          "height": 153
        }
      },
      "source": [
        "rating.info()"
      ],
      "execution_count": 6,
      "outputs": [
        {
          "output_type": "stream",
          "text": [
            "<class 'pandas.core.frame.DataFrame'>\n",
            "RangeIndex: 7813737 entries, 0 to 7813736\n",
            "Data columns (total 3 columns):\n",
            "user_id     int64\n",
            "anime_id    int64\n",
            "rating      int64\n",
            "dtypes: int64(3)\n",
            "memory usage: 178.8 MB\n"
          ],
          "name": "stdout"
        }
      ]
    },
    {
      "cell_type": "code",
      "metadata": {
        "colab_type": "code",
        "id": "K5m9KsX0cjVs",
        "outputId": "67e040da-dffc-4cee-8127-d079f4b718a9",
        "colab": {
          "base_uri": "https://localhost:8080/",
          "height": 204
        }
      },
      "source": [
        "anime.head()"
      ],
      "execution_count": 7,
      "outputs": [
        {
          "output_type": "execute_result",
          "data": {
            "text/html": [
              "<div>\n",
              "<style scoped>\n",
              "    .dataframe tbody tr th:only-of-type {\n",
              "        vertical-align: middle;\n",
              "    }\n",
              "\n",
              "    .dataframe tbody tr th {\n",
              "        vertical-align: top;\n",
              "    }\n",
              "\n",
              "    .dataframe thead th {\n",
              "        text-align: right;\n",
              "    }\n",
              "</style>\n",
              "<table border=\"1\" class=\"dataframe\">\n",
              "  <thead>\n",
              "    <tr style=\"text-align: right;\">\n",
              "      <th></th>\n",
              "      <th>anime_id</th>\n",
              "      <th>name</th>\n",
              "      <th>genre</th>\n",
              "      <th>type</th>\n",
              "      <th>episodes</th>\n",
              "      <th>rating</th>\n",
              "      <th>members</th>\n",
              "    </tr>\n",
              "  </thead>\n",
              "  <tbody>\n",
              "    <tr>\n",
              "      <th>0</th>\n",
              "      <td>32281</td>\n",
              "      <td>Kimi no Na wa.</td>\n",
              "      <td>Drama, Romance, School, Supernatural</td>\n",
              "      <td>Movie</td>\n",
              "      <td>1</td>\n",
              "      <td>9.37</td>\n",
              "      <td>200630</td>\n",
              "    </tr>\n",
              "    <tr>\n",
              "      <th>1</th>\n",
              "      <td>5114</td>\n",
              "      <td>Fullmetal Alchemist: Brotherhood</td>\n",
              "      <td>Action, Adventure, Drama, Fantasy, Magic, Mili...</td>\n",
              "      <td>TV</td>\n",
              "      <td>64</td>\n",
              "      <td>9.26</td>\n",
              "      <td>793665</td>\n",
              "    </tr>\n",
              "    <tr>\n",
              "      <th>2</th>\n",
              "      <td>28977</td>\n",
              "      <td>Gintama°</td>\n",
              "      <td>Action, Comedy, Historical, Parody, Samurai, S...</td>\n",
              "      <td>TV</td>\n",
              "      <td>51</td>\n",
              "      <td>9.25</td>\n",
              "      <td>114262</td>\n",
              "    </tr>\n",
              "    <tr>\n",
              "      <th>3</th>\n",
              "      <td>9253</td>\n",
              "      <td>Steins;Gate</td>\n",
              "      <td>Sci-Fi, Thriller</td>\n",
              "      <td>TV</td>\n",
              "      <td>24</td>\n",
              "      <td>9.17</td>\n",
              "      <td>673572</td>\n",
              "    </tr>\n",
              "    <tr>\n",
              "      <th>4</th>\n",
              "      <td>9969</td>\n",
              "      <td>Gintama&amp;#039;</td>\n",
              "      <td>Action, Comedy, Historical, Parody, Samurai, S...</td>\n",
              "      <td>TV</td>\n",
              "      <td>51</td>\n",
              "      <td>9.16</td>\n",
              "      <td>151266</td>\n",
              "    </tr>\n",
              "  </tbody>\n",
              "</table>\n",
              "</div>"
            ],
            "text/plain": [
              "   anime_id                              name  ... rating members\n",
              "0     32281                    Kimi no Na wa.  ...   9.37  200630\n",
              "1      5114  Fullmetal Alchemist: Brotherhood  ...   9.26  793665\n",
              "2     28977                          Gintama°  ...   9.25  114262\n",
              "3      9253                       Steins;Gate  ...   9.17  673572\n",
              "4      9969                     Gintama&#039;  ...   9.16  151266\n",
              "\n",
              "[5 rows x 7 columns]"
            ]
          },
          "metadata": {
            "tags": []
          },
          "execution_count": 7
        }
      ]
    },
    {
      "cell_type": "code",
      "metadata": {
        "colab_type": "code",
        "id": "kyhHk3VLduAm",
        "outputId": "9794e6f2-0a57-4d1a-c1dc-3bc0e625bf0e",
        "colab": {
          "base_uri": "https://localhost:8080/",
          "height": 204
        }
      },
      "source": [
        "rating.head()"
      ],
      "execution_count": 8,
      "outputs": [
        {
          "output_type": "execute_result",
          "data": {
            "text/html": [
              "<div>\n",
              "<style scoped>\n",
              "    .dataframe tbody tr th:only-of-type {\n",
              "        vertical-align: middle;\n",
              "    }\n",
              "\n",
              "    .dataframe tbody tr th {\n",
              "        vertical-align: top;\n",
              "    }\n",
              "\n",
              "    .dataframe thead th {\n",
              "        text-align: right;\n",
              "    }\n",
              "</style>\n",
              "<table border=\"1\" class=\"dataframe\">\n",
              "  <thead>\n",
              "    <tr style=\"text-align: right;\">\n",
              "      <th></th>\n",
              "      <th>user_id</th>\n",
              "      <th>anime_id</th>\n",
              "      <th>rating</th>\n",
              "    </tr>\n",
              "  </thead>\n",
              "  <tbody>\n",
              "    <tr>\n",
              "      <th>0</th>\n",
              "      <td>1</td>\n",
              "      <td>20</td>\n",
              "      <td>-1</td>\n",
              "    </tr>\n",
              "    <tr>\n",
              "      <th>1</th>\n",
              "      <td>1</td>\n",
              "      <td>24</td>\n",
              "      <td>-1</td>\n",
              "    </tr>\n",
              "    <tr>\n",
              "      <th>2</th>\n",
              "      <td>1</td>\n",
              "      <td>79</td>\n",
              "      <td>-1</td>\n",
              "    </tr>\n",
              "    <tr>\n",
              "      <th>3</th>\n",
              "      <td>1</td>\n",
              "      <td>226</td>\n",
              "      <td>-1</td>\n",
              "    </tr>\n",
              "    <tr>\n",
              "      <th>4</th>\n",
              "      <td>1</td>\n",
              "      <td>241</td>\n",
              "      <td>-1</td>\n",
              "    </tr>\n",
              "  </tbody>\n",
              "</table>\n",
              "</div>"
            ],
            "text/plain": [
              "   user_id  anime_id  rating\n",
              "0        1        20      -1\n",
              "1        1        24      -1\n",
              "2        1        79      -1\n",
              "3        1       226      -1\n",
              "4        1       241      -1"
            ]
          },
          "metadata": {
            "tags": []
          },
          "execution_count": 8
        }
      ]
    },
    {
      "cell_type": "code",
      "metadata": {
        "colab_type": "code",
        "id": "0jojkwUkdldq",
        "outputId": "dbdddf6f-c830-45c1-a864-393b529ead18",
        "colab": {
          "base_uri": "https://localhost:8080/",
          "height": 297
        }
      },
      "source": [
        "anime.describe()"
      ],
      "execution_count": 9,
      "outputs": [
        {
          "output_type": "execute_result",
          "data": {
            "text/html": [
              "<div>\n",
              "<style scoped>\n",
              "    .dataframe tbody tr th:only-of-type {\n",
              "        vertical-align: middle;\n",
              "    }\n",
              "\n",
              "    .dataframe tbody tr th {\n",
              "        vertical-align: top;\n",
              "    }\n",
              "\n",
              "    .dataframe thead th {\n",
              "        text-align: right;\n",
              "    }\n",
              "</style>\n",
              "<table border=\"1\" class=\"dataframe\">\n",
              "  <thead>\n",
              "    <tr style=\"text-align: right;\">\n",
              "      <th></th>\n",
              "      <th>anime_id</th>\n",
              "      <th>rating</th>\n",
              "      <th>members</th>\n",
              "    </tr>\n",
              "  </thead>\n",
              "  <tbody>\n",
              "    <tr>\n",
              "      <th>count</th>\n",
              "      <td>12294.000000</td>\n",
              "      <td>12064.000000</td>\n",
              "      <td>1.229400e+04</td>\n",
              "    </tr>\n",
              "    <tr>\n",
              "      <th>mean</th>\n",
              "      <td>14058.221653</td>\n",
              "      <td>6.473902</td>\n",
              "      <td>1.807134e+04</td>\n",
              "    </tr>\n",
              "    <tr>\n",
              "      <th>std</th>\n",
              "      <td>11455.294701</td>\n",
              "      <td>1.026746</td>\n",
              "      <td>5.482068e+04</td>\n",
              "    </tr>\n",
              "    <tr>\n",
              "      <th>min</th>\n",
              "      <td>1.000000</td>\n",
              "      <td>1.670000</td>\n",
              "      <td>5.000000e+00</td>\n",
              "    </tr>\n",
              "    <tr>\n",
              "      <th>25%</th>\n",
              "      <td>3484.250000</td>\n",
              "      <td>5.880000</td>\n",
              "      <td>2.250000e+02</td>\n",
              "    </tr>\n",
              "    <tr>\n",
              "      <th>50%</th>\n",
              "      <td>10260.500000</td>\n",
              "      <td>6.570000</td>\n",
              "      <td>1.550000e+03</td>\n",
              "    </tr>\n",
              "    <tr>\n",
              "      <th>75%</th>\n",
              "      <td>24794.500000</td>\n",
              "      <td>7.180000</td>\n",
              "      <td>9.437000e+03</td>\n",
              "    </tr>\n",
              "    <tr>\n",
              "      <th>max</th>\n",
              "      <td>34527.000000</td>\n",
              "      <td>10.000000</td>\n",
              "      <td>1.013917e+06</td>\n",
              "    </tr>\n",
              "  </tbody>\n",
              "</table>\n",
              "</div>"
            ],
            "text/plain": [
              "           anime_id        rating       members\n",
              "count  12294.000000  12064.000000  1.229400e+04\n",
              "mean   14058.221653      6.473902  1.807134e+04\n",
              "std    11455.294701      1.026746  5.482068e+04\n",
              "min        1.000000      1.670000  5.000000e+00\n",
              "25%     3484.250000      5.880000  2.250000e+02\n",
              "50%    10260.500000      6.570000  1.550000e+03\n",
              "75%    24794.500000      7.180000  9.437000e+03\n",
              "max    34527.000000     10.000000  1.013917e+06"
            ]
          },
          "metadata": {
            "tags": []
          },
          "execution_count": 9
        }
      ]
    },
    {
      "cell_type": "code",
      "metadata": {
        "colab_type": "code",
        "id": "qkzHLW0oeBEW",
        "outputId": "f7b9197d-a54e-4c32-cadc-ce7300fa60dd",
        "colab": {
          "base_uri": "https://localhost:8080/",
          "height": 297
        }
      },
      "source": [
        "rating.describe()"
      ],
      "execution_count": 10,
      "outputs": [
        {
          "output_type": "execute_result",
          "data": {
            "text/html": [
              "<div>\n",
              "<style scoped>\n",
              "    .dataframe tbody tr th:only-of-type {\n",
              "        vertical-align: middle;\n",
              "    }\n",
              "\n",
              "    .dataframe tbody tr th {\n",
              "        vertical-align: top;\n",
              "    }\n",
              "\n",
              "    .dataframe thead th {\n",
              "        text-align: right;\n",
              "    }\n",
              "</style>\n",
              "<table border=\"1\" class=\"dataframe\">\n",
              "  <thead>\n",
              "    <tr style=\"text-align: right;\">\n",
              "      <th></th>\n",
              "      <th>user_id</th>\n",
              "      <th>anime_id</th>\n",
              "      <th>rating</th>\n",
              "    </tr>\n",
              "  </thead>\n",
              "  <tbody>\n",
              "    <tr>\n",
              "      <th>count</th>\n",
              "      <td>7.813737e+06</td>\n",
              "      <td>7.813737e+06</td>\n",
              "      <td>7.813737e+06</td>\n",
              "    </tr>\n",
              "    <tr>\n",
              "      <th>mean</th>\n",
              "      <td>3.672796e+04</td>\n",
              "      <td>8.909072e+03</td>\n",
              "      <td>6.144030e+00</td>\n",
              "    </tr>\n",
              "    <tr>\n",
              "      <th>std</th>\n",
              "      <td>2.099795e+04</td>\n",
              "      <td>8.883950e+03</td>\n",
              "      <td>3.727800e+00</td>\n",
              "    </tr>\n",
              "    <tr>\n",
              "      <th>min</th>\n",
              "      <td>1.000000e+00</td>\n",
              "      <td>1.000000e+00</td>\n",
              "      <td>-1.000000e+00</td>\n",
              "    </tr>\n",
              "    <tr>\n",
              "      <th>25%</th>\n",
              "      <td>1.897400e+04</td>\n",
              "      <td>1.240000e+03</td>\n",
              "      <td>6.000000e+00</td>\n",
              "    </tr>\n",
              "    <tr>\n",
              "      <th>50%</th>\n",
              "      <td>3.679100e+04</td>\n",
              "      <td>6.213000e+03</td>\n",
              "      <td>7.000000e+00</td>\n",
              "    </tr>\n",
              "    <tr>\n",
              "      <th>75%</th>\n",
              "      <td>5.475700e+04</td>\n",
              "      <td>1.409300e+04</td>\n",
              "      <td>9.000000e+00</td>\n",
              "    </tr>\n",
              "    <tr>\n",
              "      <th>max</th>\n",
              "      <td>7.351600e+04</td>\n",
              "      <td>3.451900e+04</td>\n",
              "      <td>1.000000e+01</td>\n",
              "    </tr>\n",
              "  </tbody>\n",
              "</table>\n",
              "</div>"
            ],
            "text/plain": [
              "            user_id      anime_id        rating\n",
              "count  7.813737e+06  7.813737e+06  7.813737e+06\n",
              "mean   3.672796e+04  8.909072e+03  6.144030e+00\n",
              "std    2.099795e+04  8.883950e+03  3.727800e+00\n",
              "min    1.000000e+00  1.000000e+00 -1.000000e+00\n",
              "25%    1.897400e+04  1.240000e+03  6.000000e+00\n",
              "50%    3.679100e+04  6.213000e+03  7.000000e+00\n",
              "75%    5.475700e+04  1.409300e+04  9.000000e+00\n",
              "max    7.351600e+04  3.451900e+04  1.000000e+01"
            ]
          },
          "metadata": {
            "tags": []
          },
          "execution_count": 10
        }
      ]
    },
    {
      "cell_type": "code",
      "metadata": {
        "colab_type": "code",
        "id": "HxAYUYmDdqo_",
        "outputId": "6a7d6f2c-65ba-4a1f-8b7e-2e13796f18ce",
        "colab": {
          "base_uri": "https://localhost:8080/",
          "height": 153
        }
      },
      "source": [
        "anime.isna().sum()"
      ],
      "execution_count": 11,
      "outputs": [
        {
          "output_type": "execute_result",
          "data": {
            "text/plain": [
              "anime_id      0\n",
              "name          0\n",
              "genre        62\n",
              "type         25\n",
              "episodes      0\n",
              "rating      230\n",
              "members       0\n",
              "dtype: int64"
            ]
          },
          "metadata": {
            "tags": []
          },
          "execution_count": 11
        }
      ]
    },
    {
      "cell_type": "code",
      "metadata": {
        "colab_type": "code",
        "id": "Jsj5LMqmeEu3",
        "outputId": "52a245d5-296f-4b7d-f032-8fc2b9dc03d7",
        "colab": {
          "base_uri": "https://localhost:8080/",
          "height": 85
        }
      },
      "source": [
        "rating.isna().sum()"
      ],
      "execution_count": 12,
      "outputs": [
        {
          "output_type": "execute_result",
          "data": {
            "text/plain": [
              "user_id     0\n",
              "anime_id    0\n",
              "rating      0\n",
              "dtype: int64"
            ]
          },
          "metadata": {
            "tags": []
          },
          "execution_count": 12
        }
      ]
    },
    {
      "cell_type": "code",
      "metadata": {
        "colab_type": "code",
        "id": "jpHJ2i8zgigP",
        "outputId": "baa4c002-d471-417d-cf8b-559c021d164a",
        "colab": {
          "base_uri": "https://localhost:8080/",
          "height": 34
        }
      },
      "source": [
        "print('Number of animes in the dataset: ', anime.anime_id.unique().shape)"
      ],
      "execution_count": 13,
      "outputs": [
        {
          "output_type": "stream",
          "text": [
            "Number of animes in the dataset:  (12294,)\n"
          ],
          "name": "stdout"
        }
      ]
    },
    {
      "cell_type": "code",
      "metadata": {
        "colab_type": "code",
        "id": "VSAZKJnUeHfj",
        "outputId": "cbd35c98-09c7-45a1-da66-2680f0deaf3c",
        "colab": {
          "base_uri": "https://localhost:8080/",
          "height": 283
        }
      },
      "source": [
        "anime_types = anime.type.value_counts()\n",
        "plt.bar(x=anime_types.index, height = anime_types.values)\n",
        "plt.xlabel('Anime Types')\n",
        "plt.ylabel('Anime Count')\n",
        "plt.show()"
      ],
      "execution_count": 14,
      "outputs": [
        {
          "output_type": "display_data",
          "data": {
            "image/png": "[encoded data removed]",
            "text/plain": [
              "<Figure size 432x288 with 1 Axes>"
            ]
          },
          "metadata": {
            "tags": []
          }
        }
      ]
    },
    {
      "cell_type": "code",
      "metadata": {
        "colab_type": "code",
        "id": "tR0WUTFVg6LH",
        "outputId": "2f7baedc-cf5a-4bf2-d2a5-2f10c2f77400",
        "colab": {
          "base_uri": "https://localhost:8080/",
          "height": 283
        }
      },
      "source": [
        "anime_types_rating = anime.groupby('type')['rating'].mean().sort_values(ascending=False)\n",
        "plt.bar(x=anime_types_rating.index, height=anime_types_rating.values)\n",
        "plt.xlabel('Anime Type')\n",
        "plt.ylabel('Anime Average Rating')\n",
        "plt.show()"
      ],
      "execution_count": 15,
      "outputs": [
        {
          "output_type": "display_data",
          "data": {
            "image/png": "[encoded data removed]",
            "text/plain": [
              "<Figure size 432x288 with 1 Axes>"
            ]
          },
          "metadata": {
            "tags": []
          }
        }
      ]
    },
    {
      "cell_type": "code",
      "metadata": {
        "colab_type": "code",
        "id": "J2Zo_Va6jmbx",
        "colab": {}
      },
      "source": [
        "anime_genre = anime.genre.dropna().apply(lambda x: set(x.split(','))).values\n",
        "genres = dict()\n",
        "for genre in anime_genre:\n",
        "    for g in genre:\n",
        "        if genres.get(g.strip()) == None:\n",
        "            genres[g.strip()] = 0\n",
        "        else:\n",
        "            genres[g.strip()] += 1"
      ],
      "execution_count": 0,
      "outputs": []
    },
    {
      "cell_type": "code",
      "metadata": {
        "colab_type": "code",
        "id": "vfkb7tmTtL3r",
        "colab": {}
      },
      "source": [
        "genres_df = pd.DataFrame.from_dict(genres, orient='index').reset_index().rename(columns={'index': 'genre', 0:'count'})\n",
        "genres_df = genres_df.sort_values(by='count', ascending=False)"
      ],
      "execution_count": 0,
      "outputs": []
    },
    {
      "cell_type": "code",
      "metadata": {
        "colab_type": "code",
        "id": "7XIrbncad-Yk",
        "outputId": "8660a92b-a942-4040-d01c-2bb659be2655",
        "colab": {
          "base_uri": "https://localhost:8080/",
          "height": 718
        }
      },
      "source": [
        "figure, ax = plt.subplots(figsize=(8, 12))\n",
        "sns.barplot(x='count', y='genre', data=genres_df)\n",
        "ax.set(ylabel='Genre', xlabel='Anime Count')\n",
        "plt.show()"
      ],
      "execution_count": 18,
      "outputs": [
        {
          "output_type": "display_data",
          "data": {
            "image/png": "[encoded data removed]",
            "text/plain": [
              "<Figure size 576x864 with 1 Axes>"
            ]
          },
          "metadata": {
            "tags": []
          }
        }
      ]
    },
    {
      "cell_type": "code",
      "metadata": {
        "id": "N5zn5Uq4Dk06",
        "colab_type": "code",
        "colab": {
          "base_uri": "https://localhost:8080/",
          "height": 283
        },
        "outputId": "31b7d0f0-7cc6-4ec2-c8a9-9baab8e54837"
      },
      "source": [
        "plt.bar(rating.groupby('rating').count().index, rating.groupby('rating').count().anime_id)\n",
        "plt.xlabel('Rating')\n",
        "plt.ylabel('Rating Count')\n",
        "plt.show()"
      ],
      "execution_count": 19,
      "outputs": [
        {
          "output_type": "display_data",
          "data": {
            "image/png": "[encoded data removed]",
            "text/plain": [
              "<Figure size 432x288 with 1 Axes>"
            ]
          },
          "metadata": {
            "tags": []
          }
        }
      ]
    },
    {
      "cell_type": "code",
      "metadata": {
        "colab_type": "code",
        "id": "kxzvLxJ5gt_M",
        "outputId": "b5fd6fdf-74bb-425d-d702-c542bacf6e78",
        "colab": {
          "base_uri": "https://localhost:8080/",
          "height": 404
        }
      },
      "source": [
        "plt.figure(figsize=(8,6))\n",
        "plt.plot(anime.index, anime.rating.sort_values(ascending=False))\n",
        "plt.xlabel('Index')\n",
        "plt.ylabel('Anime Average Rating')\n",
        "plt.title('Sorted Rating of Animes')\n",
        "plt.show()"
      ],
      "execution_count": 20,
      "outputs": [
        {
          "output_type": "display_data",
          "data": {
            "image/png": "[encoded data removed]",
            "text/plain": [
              "<Figure size 576x432 with 1 Axes>"
            ]
          },
          "metadata": {
            "tags": []
          }
        }
      ]
    },
    {
      "cell_type": "code",
      "metadata": {
        "id": "uaK1W5BijXgg",
        "colab_type": "code",
        "outputId": "4f84f4fd-92bb-4eb3-cc2d-6d8e8b79aac2",
        "colab": {
          "base_uri": "https://localhost:8080/",
          "height": 621
        }
      },
      "source": [
        "user_rating_count = rating.groupby('user_id').rating.count()\n",
        "\n",
        "figure, ax = plt.subplots(2,1, figsize=(6, 10))\n",
        "ax[0].scatter(range(len(user_rating_count)),user_rating_count, s=1)\n",
        "ax[0].set_xlabel('Index')\n",
        "ax[0].set_ylabel('User Rating Count')\n",
        "ax[0].set_title('Rating Counts of Users')\n",
        "\n",
        "ax[1].scatter(range(len(user_rating_count)),user_rating_count.sort_values(ascending=False), s=1)\n",
        "ax[1].set_xlabel('Index')\n",
        "ax[1].set_ylabel('User Rating Count')\n",
        "ax[1].set_title('Sorted Rating Counts of Users')\n",
        "\n",
        "plt.show()"
      ],
      "execution_count": 21,
      "outputs": [
        {
          "output_type": "display_data",
          "data": {
            "image/png": "[encoded data removed]",
            "text/plain": [
              "<Figure size 432x720 with 2 Axes>"
            ]
          },
          "metadata": {
            "tags": []
          }
        }
      ]
    },
    {
      "cell_type": "code",
      "metadata": {
        "id": "5_1E7HNbvTsC",
        "colab_type": "code",
        "outputId": "c1893a47-57bc-4354-b3ae-32fffd65c668",
        "colab": {
          "base_uri": "https://localhost:8080/",
          "height": 51
        }
      },
      "source": [
        "rated_counts = 10\n",
        "inactive_users = user_rating_count < rated_counts\n",
        "inactive_users = inactive_users[inactive_users]\n",
        "print('Number of users rated less than {} animes: {}'.format(rated_counts,inactive_users.shape[0]))\n",
        "print('There are a lot users rated very few animes')"
      ],
      "execution_count": 22,
      "outputs": [
        {
          "output_type": "stream",
          "text": [
            "Number of users rated less than 10 animes: 11742\n",
            "There are a lot users rated very few animes\n"
          ],
          "name": "stdout"
        }
      ]
    },
    {
      "cell_type": "code",
      "metadata": {
        "id": "rkc5elATXxVL",
        "colab_type": "code",
        "outputId": "fcec87eb-a946-48fa-f1a5-8032eeae6b7f",
        "colab": {
          "base_uri": "https://localhost:8080/",
          "height": 621
        }
      },
      "source": [
        "anime_rating_count = rating.groupby('anime_id').rating.count()\n",
        "\n",
        "figure, ax = plt.subplots(2,1, figsize=(6, 10))\n",
        "ax[0].scatter(range(len(anime_rating_count)),anime_rating_count, s=1)\n",
        "ax[0].set_xlabel('Index')\n",
        "ax[0].set_ylabel('Anime Rating Count')\n",
        "ax[0].set_title('Rating Counts of Animes')\n",
        "\n",
        "ax[1].scatter(range(len(anime_rating_count)),anime_rating_count.sort_values(ascending=False), s=1)\n",
        "ax[1].set_xlabel('Index')\n",
        "ax[1].set_ylabel('Anime Rating Count')\n",
        "ax[1].set_title('Sorted Rating Counts of Animes')\n",
        "plt.show()"
      ],
      "execution_count": 23,
      "outputs": [
        {
          "output_type": "display_data",
          "data": {
            "image/png": "[encoded data removed]",
            "text/plain": [
              "<Figure size 432x720 with 2 Axes>"
            ]
          },
          "metadata": {
            "tags": []
          }
        }
      ]
    },
    {
      "cell_type": "code",
      "metadata": {
        "id": "YTjxK-Okw5lz",
        "colab_type": "code",
        "outputId": "176ce258-3cf7-4666-ea03-18939a64eb92",
        "colab": {
          "base_uri": "https://localhost:8080/",
          "height": 51
        }
      },
      "source": [
        "rated_counts = 10\n",
        "unpopular_animes = anime_rating_count < rated_counts\n",
        "unpopular_animes = unpopular_animes[unpopular_animes]\n",
        "print('Number of animes get rated less than {} times: {}'.format(rated_counts,unpopular_animes.shape[0]))\n",
        "print('There are a lot animes rated very few times')"
      ],
      "execution_count": 24,
      "outputs": [
        {
          "output_type": "stream",
          "text": [
            "Number of animes get rated less than 10 times: 3451\n",
            "There are a lot animes rated very few times\n"
          ],
          "name": "stdout"
        }
      ]
    },
    {
      "cell_type": "markdown",
      "metadata": {
        "id": "A3GLo6J3GHeW",
        "colab_type": "text"
      },
      "source": [
        "**We remove the very popular items from the rating table since users are very likely to discover those items themselves.**"
      ]
    },
    {
      "cell_type": "code",
      "metadata": {
        "id": "Yo3JXMIAhR9D",
        "colab_type": "code",
        "colab": {}
      },
      "source": [
        "popular_animes = anime_rating_count > 20000\n",
        "popular_animes = popular_animes[popular_animes]\n",
        "rating = rating[~ rating.anime_id.isin(popular_animes.index)]"
      ],
      "execution_count": 0,
      "outputs": []
    },
    {
      "cell_type": "code",
      "metadata": {
        "colab_type": "code",
        "id": "dRlKAnY8_rQM",
        "outputId": "fe8b16b6-f708-4ae6-aae0-8b587dc6927e",
        "colab": {
          "base_uri": "https://localhost:8080/",
          "height": 34
        }
      },
      "source": [
        "num_user = rating.user_id.unique().shape[0]\n",
        "print('Number of users: ', num_user)"
      ],
      "execution_count": 26,
      "outputs": [
        {
          "output_type": "stream",
          "text": [
            "Number of users:  72688\n"
          ],
          "name": "stdout"
        }
      ]
    },
    {
      "cell_type": "code",
      "metadata": {
        "colab_type": "code",
        "id": "YXRb2RV0SSIo",
        "outputId": "c29d5d0c-70f3-4981-f9ba-25475f91c0f3",
        "colab": {
          "base_uri": "https://localhost:8080/",
          "height": 34
        }
      },
      "source": [
        "animes_valid = rating.anime_id.unique()\n",
        "num_anime = animes_valid.shape[0]\n",
        "print('Number of animes have been rated: ', num_anime)"
      ],
      "execution_count": 27,
      "outputs": [
        {
          "output_type": "stream",
          "text": [
            "Number of animes have been rated:  11183\n"
          ],
          "name": "stdout"
        }
      ]
    },
    {
      "cell_type": "code",
      "metadata": {
        "colab_type": "code",
        "id": "IU3qbOPpSZMY",
        "colab": {}
      },
      "source": [
        "merged_df = pd.merge(anime, rating, on='anime_id')"
      ],
      "execution_count": 0,
      "outputs": []
    },
    {
      "cell_type": "code",
      "metadata": {
        "colab_type": "code",
        "id": "kcTfbUuQkbnP",
        "outputId": "9dfafbad-681d-461f-ee03-4479c5e69a25",
        "colab": {
          "base_uri": "https://localhost:8080/",
          "height": 204
        }
      },
      "source": [
        "merged_df.head()"
      ],
      "execution_count": 29,
      "outputs": [
        {
          "output_type": "execute_result",
          "data": {
            "text/html": [
              "<div>\n",
              "<style scoped>\n",
              "    .dataframe tbody tr th:only-of-type {\n",
              "        vertical-align: middle;\n",
              "    }\n",
              "\n",
              "    .dataframe tbody tr th {\n",
              "        vertical-align: top;\n",
              "    }\n",
              "\n",
              "    .dataframe thead th {\n",
              "        text-align: right;\n",
              "    }\n",
              "</style>\n",
              "<table border=\"1\" class=\"dataframe\">\n",
              "  <thead>\n",
              "    <tr style=\"text-align: right;\">\n",
              "      <th></th>\n",
              "      <th>anime_id</th>\n",
              "      <th>name</th>\n",
              "      <th>genre</th>\n",
              "      <th>type</th>\n",
              "      <th>episodes</th>\n",
              "      <th>rating_x</th>\n",
              "      <th>members</th>\n",
              "      <th>user_id</th>\n",
              "      <th>rating_y</th>\n",
              "    </tr>\n",
              "  </thead>\n",
              "  <tbody>\n",
              "    <tr>\n",
              "      <th>0</th>\n",
              "      <td>32281</td>\n",
              "      <td>Kimi no Na wa.</td>\n",
              "      <td>Drama, Romance, School, Supernatural</td>\n",
              "      <td>Movie</td>\n",
              "      <td>1</td>\n",
              "      <td>9.37</td>\n",
              "      <td>200630</td>\n",
              "      <td>99</td>\n",
              "      <td>5</td>\n",
              "    </tr>\n",
              "    <tr>\n",
              "      <th>1</th>\n",
              "      <td>32281</td>\n",
              "      <td>Kimi no Na wa.</td>\n",
              "      <td>Drama, Romance, School, Supernatural</td>\n",
              "      <td>Movie</td>\n",
              "      <td>1</td>\n",
              "      <td>9.37</td>\n",
              "      <td>200630</td>\n",
              "      <td>152</td>\n",
              "      <td>10</td>\n",
              "    </tr>\n",
              "    <tr>\n",
              "      <th>2</th>\n",
              "      <td>32281</td>\n",
              "      <td>Kimi no Na wa.</td>\n",
              "      <td>Drama, Romance, School, Supernatural</td>\n",
              "      <td>Movie</td>\n",
              "      <td>1</td>\n",
              "      <td>9.37</td>\n",
              "      <td>200630</td>\n",
              "      <td>244</td>\n",
              "      <td>10</td>\n",
              "    </tr>\n",
              "    <tr>\n",
              "      <th>3</th>\n",
              "      <td>32281</td>\n",
              "      <td>Kimi no Na wa.</td>\n",
              "      <td>Drama, Romance, School, Supernatural</td>\n",
              "      <td>Movie</td>\n",
              "      <td>1</td>\n",
              "      <td>9.37</td>\n",
              "      <td>200630</td>\n",
              "      <td>271</td>\n",
              "      <td>10</td>\n",
              "    </tr>\n",
              "    <tr>\n",
              "      <th>4</th>\n",
              "      <td>32281</td>\n",
              "      <td>Kimi no Na wa.</td>\n",
              "      <td>Drama, Romance, School, Supernatural</td>\n",
              "      <td>Movie</td>\n",
              "      <td>1</td>\n",
              "      <td>9.37</td>\n",
              "      <td>200630</td>\n",
              "      <td>278</td>\n",
              "      <td>-1</td>\n",
              "    </tr>\n",
              "  </tbody>\n",
              "</table>\n",
              "</div>"
            ],
            "text/plain": [
              "   anime_id            name  ... user_id rating_y\n",
              "0     32281  Kimi no Na wa.  ...      99        5\n",
              "1     32281  Kimi no Na wa.  ...     152       10\n",
              "2     32281  Kimi no Na wa.  ...     244       10\n",
              "3     32281  Kimi no Na wa.  ...     271       10\n",
              "4     32281  Kimi no Na wa.  ...     278       -1\n",
              "\n",
              "[5 rows x 9 columns]"
            ]
          },
          "metadata": {
            "tags": []
          },
          "execution_count": 29
        }
      ]
    },
    {
      "cell_type": "code",
      "metadata": {
        "colab_type": "code",
        "id": "3hV79csUkv7E",
        "outputId": "abdd25a0-4ed1-49ff-8acd-d8a68947c9b6",
        "colab": {
          "base_uri": "https://localhost:8080/",
          "height": 221
        }
      },
      "source": [
        "top10rated = merged_df.groupby('name')['rating_x'].count().sort_values(ascending=False).head(10)\n",
        "top10rated"
      ],
      "execution_count": 30,
      "outputs": [
        {
          "output_type": "execute_result",
          "data": {
            "text/plain": [
              "name\n",
              "Soul Eater                    19759\n",
              "Tengen Toppa Gurren Lagann    19337\n",
              "Steins;Gate                   19283\n",
              "Ouran Koukou Host Club        19064\n",
              "Suzumiya Haruhi no Yuuutsu    18764\n",
              "Durarara!!                    18758\n",
              "No Game No Life               18306\n",
              "Tokyo Ghoul                   18150\n",
              "Clannad: After Story          17854\n",
              "Neon Genesis Evangelion       17686\n",
              "Name: rating_x, dtype: int64"
            ]
          },
          "metadata": {
            "tags": []
          },
          "execution_count": 30
        }
      ]
    },
    {
      "cell_type": "markdown",
      "metadata": {
        "colab_type": "text",
        "id": "B9UuaAsiChkq"
      },
      "source": [
        "## Data preparation"
      ]
    },
    {
      "cell_type": "code",
      "metadata": {
        "colab_type": "code",
        "id": "bNngZY7K9PSz",
        "colab": {}
      },
      "source": [
        "num_anime = rating.anime_id.unique().shape[0] # numbers of anime\n",
        "num_user = rating.user_id.unique().shape[0] # numbers of user\n",
        "\n",
        "# Create dictionary to map anime_id to anime index and vice versa\n",
        "# anime index is used for model's input \n",
        "anime_id2idx = dict(zip(np.sort(rating.anime_id.unique()), range(num_anime)))\n",
        "anime_idx2id = {v: k for k, v in anime_id2idx.items()}\n",
        "\n",
        "# Create dictionary to map user_id to user index and vice versa\n",
        "# user index is used for model's input\n",
        "user_id2idx = dict(zip(np.sort(rating.user_id.unique()), range(num_user)))\n",
        "user_idx2id = {v: k for k, v in user_id2idx.items()}\n",
        "\n",
        "# Creat dictionary to map anime_id to anime name\n",
        "anime_id2name = dict(zip(merged_df.anime_id, merged_df.name))"
      ],
      "execution_count": 0,
      "outputs": []
    },
    {
      "cell_type": "code",
      "metadata": {
        "colab_type": "code",
        "id": "Jo1sYOyVE0zM",
        "outputId": "5015f173-743a-4ead-edc6-e39c9b4b97b1",
        "colab": {
          "base_uri": "https://localhost:8080/",
          "height": 179
        }
      },
      "source": [
        "RANDOM_SEED = 2019\n",
        "\n",
        "# Only use data with valid rating\n",
        "rating_filtered = rating[rating.rating != -1]\n",
        "# X = rating_filtered[['user_id', 'anime_id']]\n",
        "rating_filtered.loc[:,'user_id'] = rating_filtered.user_id.apply(lambda x: user_id2idx.get(x))\n",
        "rating_filtered.loc[:,'anime_id'] = rating_filtered.anime_id.apply(lambda x: anime_id2idx.get(x))\n",
        "# y = rating_filtered.rating\n",
        "\n",
        "rating_filtered_train, rating_filtered_val = train_test_split(rating_filtered, test_size=0.3, random_state=RANDOM_SEED)\n",
        "rating_filtered_val, rating_filtered_test = train_test_split(rating_filtered_val, test_size=0.3, random_state=RANDOM_SEED)\n",
        "\n",
        "# For generating training data, validation or testing data\n",
        "def ratingData(rating_data, shuffle):\n",
        "    if shuffle:\n",
        "        rating_data = sklearn.utils.shuffle(rating_data)\n",
        "    user_idx_train = torch.from_numpy(rating_data.user_id.values).to(device)\n",
        "    anime_idx_train = torch.from_numpy(rating_data.anime_id.values).to(device)\n",
        "    target_train = torch.FloatTensor(rating_data.rating.values).to(device)\n",
        "    return user_idx_train, anime_idx_train, target_train\n",
        "\n"
      ],
      "execution_count": 32,
      "outputs": [
        {
          "output_type": "stream",
          "text": [
            "/usr/local/lib/python3.6/dist-packages/pandas/core/indexing.py:635: SettingWithCopyWarning: \n",
            "A value is trying to be set on a copy of a slice from a DataFrame.\n",
            "Try using .loc[row_indexer,col_indexer] = value instead\n",
            "\n",
            "See the caveats in the documentation: http://pandas.pydata.org/pandas-docs/stable/indexing.html#indexing-view-versus-copy\n",
            "  self.obj[item_labels[indexer[info_axis]]] = value\n"
          ],
          "name": "stderr"
        }
      ]
    },
    {
      "cell_type": "markdown",
      "metadata": {
        "colab_type": "text",
        "id": "nx6eoALsCra0"
      },
      "source": [
        "## Building model"
      ]
    },
    {
      "cell_type": "markdown",
      "metadata": {
        "colab_type": "text",
        "id": "pOHTQTEsW5eL"
      },
      "source": [
        "To build a recommender system, we are trying to build a model that predicts the rating of items by users. In order to achieve this, we want our model approxiates the existing rating table, and hopefully, it will generalize to unrated items. \n",
        "\n",
        "In the following, we are going to employ colaborative filtering approach to build our model. The core assumption of colaborative filtering is that users who have similar preferences in the past are likely to have similar preferences in the future.\n",
        "\n",
        "A 'completed' rating table $R$ is a $n_u \\times n_i$ matrix, where $n_u$ is the numbers of user and $n_i$ is the numbers of item. We assume that it can be assembled with two components, namely, the item matrix $\\Theta$ and the user matrix $X$. $\\Theta$ is a $k \\times n_i$ matrix, and $X$ is a $k \\times n_u$ matrix. The $k$-dimensional latent factors of $\\Theta$ can be interpreted as the features of the items, and the $k$-dimensional latent factors of $X$ can be interpreted as users' preferences on those features,  $k$ is can be assumed to be much less than $n_u$ and $n_i$. And we can approximate the rating table $R$ by the product of $X^T$ and $\\Theta$, i.e. $R \\approx X^T\\Theta$.\n",
        "\n",
        "The elements of the matrices $\\Theta$ and $X$ are the parameters that our model is going to learn from the existing rating data. We use mean square error as the metric for the approximation. Suppose that \n",
        "$\\Theta = [\\theta^{(0)} \\ \\theta^{(1)} \\ \\cdots \\ \\theta^{(n_i-1)}]$ and \n",
        "$X = [x^{(0)} \\ x^{(1)} \\ \\cdots \\ x^{(n_u-1)}]$. \n",
        "\n",
        "The predicted rating table $\\hat{R} = X^T \\Theta = \\begin{bmatrix} \n",
        "(x^{(0)})^T \\theta^{(0)} & (x^{(0)})^T \\theta^{(1)} & \\cdots & (x^{(0)})^T \\theta^{(n_i-1)}\\\\                \n",
        "(x^{(1)})^T \\theta^{(0)} & (x^{(1)})^T \\theta^{(1)} & \\cdots & (x^{(1)})^T \\theta^{(n_i-1)} \\\\\n",
        "\\vdots & \\vdots & \\vdots & \\vdots \\\\\n",
        "(x^{(n_u-1)})^T \\theta^{(0)} & (x^{(n_-1)})^T \\theta^{(1)} & \\cdots & (x^{(n_u-1)})^T \\theta^{(n_i-1)}\n",
        "\\end{bmatrix}.$\n",
        "\n",
        "So we train our model by minimizing the objective function $$\\frac{1}{2} \\sum_{p(i,j)=1} \\left( (x^{(i)})^T \\theta^{(j)} - r^{(i,j)} \\right)^2 + \\frac{\\lambda}{2} \\sum_{j=1}^{n_u} \\sum_{k=1}^n (\\theta_k^{(j)})^2 + \\frac{\\lambda}{2} \\sum_{j=1}^{n_u} \\sum_{k=1}^n (x_k^{(j)})^2$$\n",
        "where $p(i,j) = 1$ if user $i$ has rated item $j$ and $p(i,j) = 0 $ otherwise. The presence of $\\frac{\\lambda}{2} \\sum_{j=1}^{n_u} \\sum_{k=1}^n (\\theta_k^{(j)})^2 + \\frac{\\lambda}{2} \\sum_{j=1}^{n_u} \\sum_{k=1}^n (x_k^{(j)})^2$ is for the purpose of weight regularization."
      ]
    },
    {
      "cell_type": "code",
      "metadata": {
        "colab_type": "code",
        "id": "aRdLS3BiQXW2",
        "colab": {}
      },
      "source": [
        "class CFNet(nn.Module):\n",
        "    def __init__(self, num_latent, num_anime, num_user):\n",
        "        super(CFNet, self).__init__()\n",
        "        self.embed_user = nn.Embedding(num_user, num_latent)\n",
        "        self.embed_anime = nn.Embedding(num_anime, num_latent)\n",
        "        \n",
        "    def forward(self, user_idx, anime_idx):\n",
        "        users = self.embed_user(user_idx) # users size = user_idx.size(0) x num_latent\n",
        "        animes = self.embed_anime(anime_idx) # animes size = anime_idx.size(0) x num_latent\n",
        "        # shape of user_idx and shape of anime_idx are broadcastable\n",
        "        ratings = (users * animes).sum(1) # rating size = user_idx.size(0)\n",
        "        return ratings\n",
        "    \n",
        "    def weight_init(self, low, high):\n",
        "        self.embed_user.weight.data.uniform_(low, high)\n",
        "        self.embed_anime.weight.data.uniform_(low, high)\n"
      ],
      "execution_count": 0,
      "outputs": []
    },
    {
      "cell_type": "code",
      "metadata": {
        "colab_type": "code",
        "id": "7UXXDo3BEGFi",
        "colab": {}
      },
      "source": [
        "# Colborative filtering model with bias terms\n",
        "class CFNetwBias(nn.Module):\n",
        "    def __init__(self, num_latent, num_anime, num_user):\n",
        "        super(CFNetwBias, self).__init__()\n",
        "        self.embed_user = nn.Embedding(num_user, num_latent)\n",
        "        self.user_bias = nn.Embedding(num_user, 1)\n",
        "        self.embed_anime = nn.Embedding(num_anime, num_latent)\n",
        "        self.anime_bias = nn.Embedding(num_anime, 1)\n",
        "        \n",
        "    def forward(self, user_idx, anime_idx):\n",
        "        users = self.embed_user(user_idx) # users size = user_idx.size(0) x num_latent\n",
        "        animes = self.embed_anime(anime_idx) # animes size = anime_idx.size(0) x num_latent\n",
        "        bias_users = self.user_bias(user_idx).squeeze() # bias_users size = (user_idx.size(0), )\n",
        "        bias_animes = self.anime_bias(anime_idx).squeeze() # bias_animes size = (anime_idx.size(0), )\n",
        "        # shape of user_idx and shape of anime_idx are broadcastable\n",
        "        ratings = (users * animes).sum(1) + bias_users + bias_animes # rating size = user_idx.size(0)\n",
        "        return ratings\n",
        "    \n",
        "    def weight_init(self, low_w, high_w, low_b, high_b):\n",
        "        self.embed_user.weight.data.uniform_(low_w, high_w)\n",
        "        self.embed_anime.weight.data.uniform_(low_w, high_w)\n",
        "        self.user_bias.weight.data.uniform_(low_b, high_b)\n",
        "        self.anime_bias.weight.data.uniform_(low_b, high_b)\n",
        "        "
      ],
      "execution_count": 0,
      "outputs": []
    },
    {
      "cell_type": "code",
      "metadata": {
        "colab_type": "code",
        "id": "HTRRBTvDzS9E",
        "outputId": "d2cc0079-6dca-4ffa-b7ec-466e4c291f0c",
        "colab": {
          "base_uri": "https://localhost:8080/",
          "height": 85
        }
      },
      "source": [
        "NUM_LATENT = 100 #len(genres)\n",
        "\n",
        "model = CFNet(NUM_LATENT, num_anime, num_user).to(device)\n",
        "model.weight_init(0.0, 0.02)\n",
        "\n",
        "# model = CFNetwBias(NUM_LATENT, num_anime, num_user).to(device)\n",
        "# model.weight_init(0.0, 0.02, -0.01, 0.01)\n",
        "\n",
        "model"
      ],
      "execution_count": 35,
      "outputs": [
        {
          "output_type": "execute_result",
          "data": {
            "text/plain": [
              "CFNet(\n",
              "  (embed_user): Embedding(72688, 100)\n",
              "  (embed_anime): Embedding(11183, 100)\n",
              ")"
            ]
          },
          "metadata": {
            "tags": []
          },
          "execution_count": 35
        }
      ]
    },
    {
      "cell_type": "markdown",
      "metadata": {
        "colab_type": "text",
        "id": "lSLKr_c9M3cj"
      },
      "source": [
        "## Model training"
      ]
    },
    {
      "cell_type": "code",
      "metadata": {
        "colab_type": "code",
        "id": "FfYTMoSA_105",
        "colab": {}
      },
      "source": [
        "criterion = nn.MSELoss().to(device)\n",
        "wd = 1e-6\n",
        "lr = 0.001\n",
        "optimizer = torch.optim.Adam(model.parameters(), lr=0.1, weight_decay = 1e-6)"
      ],
      "execution_count": 0,
      "outputs": []
    },
    {
      "cell_type": "code",
      "metadata": {
        "colab_type": "code",
        "id": "mefCgdmEAyUp",
        "colab": {}
      },
      "source": [
        "train_loss = []\n",
        "def train(user_idx, anime_idx, target, criterion, optimizer):\n",
        "    model.train()\n",
        "    prediction = model(user_idx, anime_idx)\n",
        "    loss = criterion(prediction, target)\n",
        "    optimizer.zero_grad()\n",
        "    loss.backward()\n",
        "    optimizer.step()\n",
        "    train_loss.append(loss.item())\n",
        "    print('\\nEpoch: {}/{}\\nTraining Loss: {:.4f}\\t'.format(epoch+1, NUM_EPOCHS, loss.item()), end=\"\")\n",
        "\n",
        "val_loss = []\n",
        "def validate(user_idx, anime_idx, target, criterion):\n",
        "    model.eval()\n",
        "    prediction = model(user_idx, anime_idx)\n",
        "    loss = criterion(prediction, target)\n",
        "    val_loss.append(loss.item())\n",
        "    print('Validation Loss: {:.4f}'.format(loss.item()))"
      ],
      "execution_count": 0,
      "outputs": []
    },
    {
      "cell_type": "code",
      "metadata": {
        "colab_type": "code",
        "id": "M5yiSGPJY8a5",
        "outputId": "d880bb43-d51f-4110-b750-d1e5c1cd3e43",
        "colab": {
          "base_uri": "https://localhost:8080/",
          "height": 1000
        }
      },
      "source": [
        "%%time\n",
        "NUM_EPOCHS = 40  \n",
        "print('Train on {} samples, validate on {} samples'.format(len(rating_filtered_train), len(rating_filtered_val)))\n",
        "for epoch in range(NUM_EPOCHS):\n",
        "    epoch_start_time = time.time()\n",
        "    user_idx_train, anime_idx_train, target_train = ratingData(rating_filtered_train, shuffle=True)\n",
        "    train(user_idx_train, anime_idx_train, target_train, criterion, optimizer)\n",
        "    user_idx_val, anime_idx_val, target_val = ratingData(rating_filtered_val, shuffle=False)\n",
        "    validate(user_idx_val, anime_idx_val, target_val, criterion)\n",
        "    epoch_end_time = time.time() - epoch_start_time\n",
        "    print('Time taken for epoch {}: {:3f} seconds'.format(epoch+1, epoch_end_time))"
      ],
      "execution_count": 38,
      "outputs": [
        {
          "output_type": "stream",
          "text": [
            "Train on 4173495 samples, validate on 1252049 samples\n",
            "\n",
            "Epoch: 1/40\n",
            "Training Loss: 62.6176\tValidation Loss: 47.0590\n",
            "Time taken for epoch 1: 0.758383 seconds\n",
            "\n",
            "Epoch: 2/40\n",
            "Training Loss: 47.0289\tValidation Loss: 21.4127\n",
            "Time taken for epoch 2: 0.636931 seconds\n",
            "\n",
            "Epoch: 3/40\n",
            "Training Loss: 21.3219\tValidation Loss: 2.8567\n",
            "Time taken for epoch 3: 0.636850 seconds\n",
            "\n",
            "Epoch: 4/40\n",
            "Training Loss: 2.7431\tValidation Loss: 20.4618\n",
            "Time taken for epoch 4: 0.667927 seconds\n",
            "\n",
            "Epoch: 5/40\n",
            "Training Loss: 20.3906\tValidation Loss: 16.2110\n",
            "Time taken for epoch 5: 0.627727 seconds\n",
            "\n",
            "Epoch: 6/40\n",
            "Training Loss: 16.0853\tValidation Loss: 4.2691\n",
            "Time taken for epoch 6: 0.632459 seconds\n",
            "\n",
            "Epoch: 7/40\n",
            "Training Loss: 4.1026\tValidation Loss: 2.4363\n",
            "Time taken for epoch 7: 0.635184 seconds\n",
            "\n",
            "Epoch: 8/40\n",
            "Training Loss: 2.2728\tValidation Loss: 7.2064\n",
            "Time taken for epoch 8: 0.627767 seconds\n",
            "\n",
            "Epoch: 9/40\n",
            "Training Loss: 7.0651\tValidation Loss: 11.1936\n",
            "Time taken for epoch 9: 0.647588 seconds\n",
            "\n",
            "Epoch: 10/40\n",
            "Training Loss: 11.0695\tValidation Loss: 11.6089\n",
            "Time taken for epoch 10: 0.641713 seconds\n",
            "\n",
            "Epoch: 11/40\n",
            "Training Loss: 11.4882\tValidation Loss: 8.7899\n",
            "Time taken for epoch 11: 0.630172 seconds\n",
            "\n",
            "Epoch: 12/40\n",
            "Training Loss: 8.6589\tValidation Loss: 4.6165\n",
            "Time taken for epoch 12: 0.643656 seconds\n",
            "\n",
            "Epoch: 13/40\n",
            "Training Loss: 4.4670\tValidation Loss: 1.9070\n",
            "Time taken for epoch 13: 0.627607 seconds\n",
            "\n",
            "Epoch: 14/40\n",
            "Training Loss: 1.7406\tValidation Loss: 2.7951\n",
            "Time taken for epoch 14: 0.643940 seconds\n",
            "\n",
            "Epoch: 15/40\n",
            "Training Loss: 2.6258\tValidation Loss: 5.7652\n",
            "Time taken for epoch 15: 0.642142 seconds\n",
            "\n",
            "Epoch: 16/40\n",
            "Training Loss: 5.6107\tValidation Loss: 6.5443\n",
            "Time taken for epoch 16: 0.634868 seconds\n",
            "\n",
            "Epoch: 17/40\n",
            "Training Loss: 6.4093\tValidation Loss: 4.3118\n",
            "Time taken for epoch 17: 0.651151 seconds\n",
            "\n",
            "Epoch: 18/40\n",
            "Training Loss: 4.1867\tValidation Loss: 2.1136\n",
            "Time taken for epoch 18: 0.633239 seconds\n",
            "\n",
            "Epoch: 19/40\n",
            "Training Loss: 1.9894\tValidation Loss: 1.9857\n",
            "Time taken for epoch 19: 0.631255 seconds\n",
            "\n",
            "Epoch: 20/40\n",
            "Training Loss: 1.8601\tValidation Loss: 3.2738\n",
            "Time taken for epoch 20: 0.664222 seconds\n",
            "\n",
            "Epoch: 21/40\n",
            "Training Loss: 3.1476\tValidation Loss: 4.3695\n",
            "Time taken for epoch 21: 0.634484 seconds\n",
            "\n",
            "Epoch: 22/40\n",
            "Training Loss: 4.2427\tValidation Loss: 4.3376\n",
            "Time taken for epoch 22: 0.651073 seconds\n",
            "\n",
            "Epoch: 23/40\n",
            "Training Loss: 4.2080\tValidation Loss: 3.2819\n",
            "Time taken for epoch 23: 0.650266 seconds\n",
            "\n",
            "Epoch: 24/40\n",
            "Training Loss: 3.1460\tValidation Loss: 2.0602\n",
            "Time taken for epoch 24: 0.631610 seconds\n",
            "\n",
            "Epoch: 25/40\n",
            "Training Loss: 1.9150\tValidation Loss: 1.6619\n",
            "Time taken for epoch 25: 0.644214 seconds\n",
            "\n",
            "Epoch: 26/40\n",
            "Training Loss: 1.5056\tValidation Loss: 2.3094\n",
            "Time taken for epoch 26: 0.638003 seconds\n",
            "\n",
            "Epoch: 27/40\n",
            "Training Loss: 2.1434\tValidation Loss: 3.0697\n",
            "Time taken for epoch 27: 0.635526 seconds\n",
            "\n",
            "Epoch: 28/40\n",
            "Training Loss: 2.8991\tValidation Loss: 2.9415\n",
            "Time taken for epoch 28: 0.650031 seconds\n",
            "\n",
            "Epoch: 29/40\n",
            "Training Loss: 2.7733\tValidation Loss: 2.1470\n",
            "Time taken for epoch 29: 0.638553 seconds\n",
            "\n",
            "Epoch: 30/40\n",
            "Training Loss: 1.9866\tValidation Loss: 1.6397\n",
            "Time taken for epoch 30: 0.641511 seconds\n",
            "\n",
            "Epoch: 31/40\n",
            "Training Loss: 1.4890\tValidation Loss: 1.8252\n",
            "Time taken for epoch 31: 0.650501 seconds\n",
            "\n",
            "Epoch: 32/40\n",
            "Training Loss: 1.6835\tValidation Loss: 2.3073\n",
            "Time taken for epoch 32: 0.630263 seconds\n",
            "\n",
            "Epoch: 33/40\n",
            "Training Loss: 2.1718\tValidation Loss: 2.5182\n",
            "Time taken for epoch 33: 0.642418 seconds\n",
            "\n",
            "Epoch: 34/40\n",
            "Training Loss: 2.3858\tValidation Loss: 2.2659\n",
            "Time taken for epoch 34: 0.637030 seconds\n",
            "\n",
            "Epoch: 35/40\n",
            "Training Loss: 2.1337\tValidation Loss: 1.8151\n",
            "Time taken for epoch 35: 0.627283 seconds\n",
            "\n",
            "Epoch: 36/40\n",
            "Training Loss: 1.6812\tValidation Loss: 1.5962\n",
            "Time taken for epoch 36: 0.654924 seconds\n",
            "\n",
            "Epoch: 37/40\n",
            "Training Loss: 1.4594\tValidation Loss: 1.7659\n",
            "Time taken for epoch 37: 0.665621 seconds\n",
            "\n",
            "Epoch: 38/40\n",
            "Training Loss: 1.6250\tValidation Loss: 2.0255\n",
            "Time taken for epoch 38: 0.632066 seconds\n",
            "\n",
            "Epoch: 39/40\n",
            "Training Loss: 1.8796\tValidation Loss: 2.0057\n",
            "Time taken for epoch 39: 0.623648 seconds\n",
            "\n",
            "Epoch: 40/40\n",
            "Training Loss: 1.8549\tValidation Loss: 1.7502\n",
            "Time taken for epoch 40: 0.617781 seconds\n",
            "CPU times: user 22.2 s, sys: 3.55 s, total: 25.7 s\n",
            "Wall time: 25.7 s\n"
          ],
          "name": "stdout"
        }
      ]
    },
    {
      "cell_type": "markdown",
      "metadata": {
        "colab_type": "text",
        "id": "bIc8RZYQM_wd"
      },
      "source": [
        "## Model evaluation and prediction"
      ]
    },
    {
      "cell_type": "code",
      "metadata": {
        "colab_type": "code",
        "id": "t1zMqR5R9Kwe",
        "outputId": "77106961-4484-4173-e00e-34b66a9d8c52",
        "colab": {
          "base_uri": "https://localhost:8080/",
          "height": 500
        }
      },
      "source": [
        "plt.figure(figsize=(10,8))\n",
        "plt.plot(train_loss, label='train')\n",
        "plt.plot(val_loss, label='val')\n",
        "plt.xlabel('Epoch')\n",
        "plt.ylabel('Loss')\n",
        "plt.legend()\n",
        "plt.show()"
      ],
      "execution_count": 39,
      "outputs": [
        {
          "output_type": "display_data",
          "data": {
            "image/png": "[encoded data removed]",
            "text/plain": [
              "<Figure size 720x576 with 1 Axes>"
            ]
          },
          "metadata": {
            "tags": []
          }
        }
      ]
    },
    {
      "cell_type": "code",
      "metadata": {
        "colab_type": "code",
        "id": "wTR9-v9kj2XR",
        "outputId": "dbf31616-31e3-4f0e-bfce-1c0541001164",
        "colab": {
          "base_uri": "https://localhost:8080/",
          "height": 442
        }
      },
      "source": [
        "model.eval()\n",
        "user_idx_test, anime_idx_test, target_test = ratingData(rating_filtered_test, shuffle=False)\n",
        "prediction = model(user_idx_test, anime_idx_test)\n",
        "results = pd.DataFrame({\n",
        "                        'target': target_test.cpu().detach().numpy(),\n",
        "                        'prediction': prediction.cpu().detach().numpy(),\n",
        "                        })\n",
        "show = 20\n",
        "print('Prediction on test set (only first {}/{} data are shown)\\n'.format(show, len(rating_filtered_test)))\n",
        "print(results.head(show))\n",
        "print('\\nLoss:\\t', criterion(prediction, target_test).item())"
      ],
      "execution_count": 40,
      "outputs": [
        {
          "output_type": "stream",
          "text": [
            "Prediction on test set (only first 20/536593 data are shown)\n",
            "\n",
            "    target  prediction\n",
            "0     10.0   11.654836\n",
            "1      9.0    8.589710\n",
            "2      7.0    7.468309\n",
            "3      8.0    6.483028\n",
            "4      4.0    7.276264\n",
            "5      8.0    7.534023\n",
            "6      9.0    7.730207\n",
            "7      8.0    8.884698\n",
            "8      8.0    8.585397\n",
            "9      9.0    8.632640\n",
            "10    10.0    9.662571\n",
            "11    10.0    9.110395\n",
            "12     7.0    6.499087\n",
            "13     7.0    7.659541\n",
            "14    10.0    8.887939\n",
            "15     7.0    7.768051\n",
            "16    10.0    8.976501\n",
            "17     9.0    9.422602\n",
            "18     8.0    7.703848\n",
            "19     9.0    7.566945\n",
            "\n",
            "Loss:\t 1.742210030555725\n"
          ],
          "name": "stdout"
        }
      ]
    },
    {
      "cell_type": "markdown",
      "metadata": {
        "colab_type": "text",
        "id": "leoV4rMfUMbA"
      },
      "source": [
        "## Result"
      ]
    },
    {
      "cell_type": "code",
      "metadata": {
        "colab_type": "code",
        "id": "5ZbF8RDAULYN",
        "colab": {}
      },
      "source": [
        "# Get Recommendation\n",
        "animes_idx = torch.arange(num_anime).to(device)\n",
        "def getRecommendation(user_id, animes_idx, min_score, top_num, loose):\n",
        "    \"\"\"\n",
        "    Get top_num numbers of recommendation with predicted rating \n",
        "    at least min_score for a single user with user id = user_id.\n",
        "    If loose is set to True, then return randomly selected items \n",
        "    with predicted rating at least min_score, otherwise, return \n",
        "    items with top_num highest predicted rating.\n",
        "    \"\"\"\n",
        "    model.eval()\n",
        "    user_idx = user_id2idx[user_id]\n",
        "    user_idx = torch.tensor([user_idx]).to(device)\n",
        "    with torch.no_grad(): \n",
        "        pred = model(animes_idx, user_idx)\n",
        "    \n",
        "    pred = pred.cpu().numpy()\n",
        "    recommend = list(enumerate(pred))\n",
        "    recommend = [elm for elm in recommend if elm[1] > min_score]\n",
        "    if len(recommend) >= top_num:\n",
        "        if loose: \n",
        "            recommend = random.sample(recommend, top_num)\n",
        "        else:\n",
        "            recommend = sorted(recommend, key=lambda x: x[1], reverse=True)\n",
        "            recommend = recommend[0:top_num]\n",
        "    elif 0 < len(recommend) < top_num:\n",
        "        pass\n",
        "    else:\n",
        "        return []  \n",
        "    \n",
        "    output = []\n",
        "    for (idx, value) in recommend:\n",
        "        anime_id = anime_idx2id.get(idx)\n",
        "        name = anime_id2name.get(anime_id)\n",
        "        output.append((name, value))\n",
        "    return output \n",
        "        "
      ],
      "execution_count": 0,
      "outputs": []
    },
    {
      "cell_type": "code",
      "metadata": {
        "colab_type": "code",
        "id": "gpor03iSd3Zq",
        "outputId": "1e18da07-46a3-4e2b-ac93-e2d53be3cef4",
        "colab": {
          "base_uri": "https://localhost:8080/",
          "height": 411
        }
      },
      "source": [
        "print('3 recommendations to user 1 to user 20 with corresponding predicted ratings\\n')\n",
        "for user_id in range(1,21):\n",
        "    if user_id in user_id2idx.keys():\n",
        "        print('user {}:'.format(user_id), getRecommendation(user_id, animes_idx, 9, 3, 1))"
      ],
      "execution_count": 43,
      "outputs": [
        {
          "output_type": "stream",
          "text": [
            "3 recommendations to user 1 to user 20 with corresponding predicted ratings\n",
            "\n",
            "user 1: [('Sensei no Ojikan: Doki Doki School Hours', 11.008116), ('Mahoutsukai Tai!', 9.077692), ('Hoshi no Koe', 10.490263)]\n",
            "user 2: [('Maji de Watashi ni Koi Shinasai!', 10.765514), ('Kiku-chan to Ookami', 10.561085), ('Kaiba', 10.986845)]\n",
            "user 3: [('Inukami!', 9.096806), ('Hatsukoi Monster', 9.144476), ('Naniwa Yuukyouden: Nekketsu!! Bakushou Mankai-hen', 11.017128)]\n",
            "user 4: [('Binan Koukou Chikyuu Bouei-bu LOVE! LOVE!', 10.496847), ('Tatakae!! Ramenman', 9.198267), ('Keroro Gunsou Movie 2: Shinkai no Princess de Arimasu!', 9.623068)]\n",
            "user 5: [('Aikatsu Stars! Movie', 9.497541), ('Kamen Rider SD Kaiki?! Kumo Otoko', 9.618336), ('Futari wa Precure: Max Heart Movie 2 - Yukizora no Tomodachi', 9.36416)]\n",
            "user 6: [('Nerawareta Megami Tenshi Angeltia: Mamotta Ningentachi ni Uragirarete', 9.767053), ('Bishoujo Senshi Sailor Moon S: Kaguya Hime no Koibito', 9.826014), ('Weiß Kreuz', 9.8775015)]\n",
            "user 7: [('Ikkyuu-san: Ooabare Yancha-hime', 10.827755), ('Houkago 2: Saiyuri', 10.976206), ('Big Order', 9.380621)]\n",
            "user 8: [('Haru no Uta', 9.132639), ('Mazinkaiser: Shitou! Ankoku Dai Shogun', 9.281678), ('Little Charo: Touhoku-hen', 9.177972)]\n",
            "user 9: [('Potemayo', 9.506196), ('Battle Athletess Daiundoukai (TV)', 9.625423), ('Bungou Stray Dogs', 10.551457)]\n",
            "user 10: [('Magical Twilight', 9.394254), ('Majokko Megu-chan', 9.7783375), ('Gundam: G no Reconguista - From the Past to the Future', 9.5690565)]\n",
            "user 11: [('Stratos 4 OVA', 9.220044), ('Sankarea', 10.299142), ('Eine Kleine', 9.859519)]\n",
            "user 12: [('Hikari no Densetsu', 9.032431), ('Nurse Witch Komugi-chan Magikarte Z Special', 9.069524), ('Pro Yakyuu wo 10-bai Tanoshiku Miru Houhou Part 2', 9.042603)]\n",
            "user 13: [('Manga Aesop Monogatari (TV)', 9.302617), ('Hone Hone Rock', 9.636656), ('Rurouni Kenshin: Meiji Kenkaku Romantan - Ishinshishi e no Chinkonka', 9.941255)]\n",
            "user 14: [('Pochacco no Ninjin Hata wa Oosawagi', 9.710531), ('Captain Future: Kareinaru Taiyokei Race', 9.515967), ('Fly, Space Battleship Geobukseon', 9.143785)]\n",
            "user 15: [('Wangpai Yushi Di 0 Ji', 9.356736), ('Ramayana: The Legend of Prince Rama', 10.15733), ('Seimei no Kagaku: Micro Patrol', 9.042009)]\n",
            "user 16: [('Boukyaku no Senritsu', 9.021828), ('To Heart 2: Dungeon Travelers', 9.510316), ('Kimi ni Todoke 2nd Season', 9.231658)]\n",
            "user 17: [('Ryouki no Ori: Dai 2 Shou', 9.418657), ('Rurouni Kenshin: Meiji Kenkaku Romantan - Seisou-hen', 9.557328), ('Kuusou Kagaku Sekai Gulliver Boy', 9.024184)]\n",
            "user 18: [('Amaenaide yo!! Katsu!!: Damasarenaide yo!!', 10.197558), ('Donburi Kazoku', 9.497133), ('Omoide Poroporo', 9.58568)]\n",
            "user 19: [('Shining May', 9.218985), ('Pokemon: Ash&#039;s Journey', 10.234923), ('Mahou no Tenshi Creamy Mami: Long Goodbye', 9.952782)]\n",
            "user 20: [('Nijiiro Days', 9.327578), ('Grisaia no Meikyuu Special', 9.296805), ('Ai Tenchi Muyou! Recaps', 9.593386)]\n"
          ],
          "name": "stdout"
        }
      ]
    }
  ]
}