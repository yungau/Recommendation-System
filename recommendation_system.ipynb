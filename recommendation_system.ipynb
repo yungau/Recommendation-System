{
  "nbformat": 4,
  "nbformat_minor": 0,
  "metadata": {
    "accelerator": "GPU",
    "colab": {
      "name": "recommendation_system.ipynb",
      "version": "0.3.2",
      "provenance": [],
      "collapsed_sections": [],
      "toc_visible": true
    },
    "kernelspec": {
      "display_name": "Python 3",
      "language": "python",
      "name": "python3"
    },
    "language_info": {
      "codemirror_mode": {
        "name": "ipython",
        "version": 3
      },
      "file_extension": ".py",
      "mimetype": "text/x-python",
      "name": "python",
      "nbconvert_exporter": "python",
      "pygments_lexer": "ipython3",
      "version": "3.6.8"
    }
  },
  "cells": [
    {
      "cell_type": "markdown",
      "metadata": {
        "colab_type": "text",
        "id": "O2uNs1wnfApG"
      },
      "source": [
        "# Recommendation System\n"
      ]
    },
    {
      "cell_type": "markdown",
      "metadata": {
        "colab_type": "text",
        "id": "fbl73ed0a_eV"
      },
      "source": [
        "## Dataset description\n",
        "\n",
        "This data set contains information on user preference data from 73,516 users on 12,294 anime. Each user is able to add anime to their completed list and give it a rating and this data set is a compilation of those ratings.\n",
        "\n",
        "Anime.csv\n",
        "\n",
        "\n",
        "*   anime_id - myanimelist.net's unique id identifying an anime.\n",
        "*   name - full name of anime.\n",
        "*   genre - comma separated list of genres for this anime.\n",
        "*   type - movie, TV, OVA, etc.\n",
        "*   episodes - how many episodes in this show. (1 if movie).\n",
        "*   rating - average rating out of 10 for this anime.\n",
        "*   members - number of community members that are in this anime's \"group\".\n",
        "\n",
        "Rating.csv\n",
        "*   user_id - non identifiable randomly generated user id.\n",
        "*   anime_id - the anime that this user has rated.\n",
        "*   rating - rating out of 10 this user has assigned (-1 if the user watched it but didn't assign a rating).\n",
        "\n",
        "[Source of dataset and more details](https://www.kaggle.com/CooperUnion/anime-recommendations-database)"
      ]
    },
    {
      "cell_type": "markdown",
      "metadata": {
        "colab_type": "text",
        "id": "hMMW2xKSFChH"
      },
      "source": [
        "**Our goal is to build a recommender system to make recommendations to user based on their rating records.**"
      ]
    },
    {
      "cell_type": "markdown",
      "metadata": {
        "colab_type": "text",
        "id": "vsfFTWO9Fj2m"
      },
      "source": [
        "## Importing modules and data"
      ]
    },
    {
      "cell_type": "code",
      "metadata": {
        "colab_type": "code",
        "id": "aY5RqUTNYVv4",
        "outputId": "2b0c3798-2b64-4dc6-e76e-267592e0459e",
        "colab": {
          "base_uri": "https://localhost:8080/",
          "height": 74
        }
      },
      "source": [
        "# Run this cell to mount your Google Drive.\n",
        "from google.colab import drive\n",
        "drive.mount('/content/drive')"
      ],
      "execution_count": 1,
      "outputs": [
        {
          "output_type": "stream",
          "text": [
            "Drive already mounted at /content/drive; to attempt to forcibly remount, call drive.mount(\"/content/drive\", force_remount=True).\n"
          ],
          "name": "stdout"
        }
      ]
    },
    {
      "cell_type": "code",
      "metadata": {
        "colab_type": "code",
        "id": "Gv6bX_mIb8wt",
        "colab": {}
      },
      "source": [
        "import pandas as pd\n",
        "import numpy as np\n",
        "import matplotlib.pyplot as plt\n",
        "import seaborn as sns\n",
        "import time\n",
        "import torch\n",
        "import torch.nn as nn\n",
        "import random\n",
        "from torch.utils.data import Dataset, DataLoader\n",
        "from sklearn.model_selection import train_test_split\n",
        "import sklearn.utils"
      ],
      "execution_count": 0,
      "outputs": []
    },
    {
      "cell_type": "code",
      "metadata": {
        "colab_type": "code",
        "id": "smhlsvpLjYwi",
        "colab": {}
      },
      "source": [
        "USE_CUDA = torch.cuda.is_available()\n",
        "device = torch.device(\"cuda\" if USE_CUDA else \"cpu\")"
      ],
      "execution_count": 0,
      "outputs": []
    },
    {
      "cell_type": "code",
      "metadata": {
        "colab_type": "code",
        "id": "LD8lp3mHcEpP",
        "colab": {}
      },
      "source": [
        "anime = pd.read_csv('./drive/My Drive/Colab Notebooks/anime-recommendations-database/anime.csv')\n",
        "rating = pd.read_csv('./drive/My Drive/Colab Notebooks/anime-recommendations-database/rating.csv')"
      ],
      "execution_count": 0,
      "outputs": []
    },
    {
      "cell_type": "markdown",
      "metadata": {
        "colab_type": "text",
        "id": "u5bguRGefQmg"
      },
      "source": [
        "## Exploring the data"
      ]
    },
    {
      "cell_type": "code",
      "metadata": {
        "colab_type": "code",
        "id": "9WWjOJtjdovG",
        "outputId": "d1935538-c480-42dd-823f-8d07795a42db",
        "colab": {
          "base_uri": "https://localhost:8080/",
          "height": 221
        }
      },
      "source": [
        "anime.info()"
      ],
      "execution_count": 5,
      "outputs": [
        {
          "output_type": "stream",
          "text": [
            "<class 'pandas.core.frame.DataFrame'>\n",
            "RangeIndex: 12294 entries, 0 to 12293\n",
            "Data columns (total 7 columns):\n",
            "anime_id    12294 non-null int64\n",
            "name        12294 non-null object\n",
            "genre       12232 non-null object\n",
            "type        12269 non-null object\n",
            "episodes    12294 non-null object\n",
            "rating      12064 non-null float64\n",
            "members     12294 non-null int64\n",
            "dtypes: float64(1), int64(2), object(4)\n",
            "memory usage: 672.4+ KB\n"
          ],
          "name": "stdout"
        }
      ]
    },
    {
      "cell_type": "code",
      "metadata": {
        "colab_type": "code",
        "id": "5uQ7VUyLeC1a",
        "outputId": "024f79fb-6762-420e-9406-38d7e9b1937d",
        "colab": {
          "base_uri": "https://localhost:8080/",
          "height": 153
        }
      },
      "source": [
        "rating.info()"
      ],
      "execution_count": 6,
      "outputs": [
        {
          "output_type": "stream",
          "text": [
            "<class 'pandas.core.frame.DataFrame'>\n",
            "RangeIndex: 7813737 entries, 0 to 7813736\n",
            "Data columns (total 3 columns):\n",
            "user_id     int64\n",
            "anime_id    int64\n",
            "rating      int64\n",
            "dtypes: int64(3)\n",
            "memory usage: 178.8 MB\n"
          ],
          "name": "stdout"
        }
      ]
    },
    {
      "cell_type": "code",
      "metadata": {
        "colab_type": "code",
        "id": "K5m9KsX0cjVs",
        "outputId": "0f743d08-ac44-49a1-ccce-01fdcf644022",
        "colab": {
          "base_uri": "https://localhost:8080/",
          "height": 204
        }
      },
      "source": [
        "anime.head()"
      ],
      "execution_count": 7,
      "outputs": [
        {
          "output_type": "execute_result",
          "data": {
            "text/html": [
              "<div>\n",
              "<style scoped>\n",
              "    .dataframe tbody tr th:only-of-type {\n",
              "        vertical-align: middle;\n",
              "    }\n",
              "\n",
              "    .dataframe tbody tr th {\n",
              "        vertical-align: top;\n",
              "    }\n",
              "\n",
              "    .dataframe thead th {\n",
              "        text-align: right;\n",
              "    }\n",
              "</style>\n",
              "<table border=\"1\" class=\"dataframe\">\n",
              "  <thead>\n",
              "    <tr style=\"text-align: right;\">\n",
              "      <th></th>\n",
              "      <th>anime_id</th>\n",
              "      <th>name</th>\n",
              "      <th>genre</th>\n",
              "      <th>type</th>\n",
              "      <th>episodes</th>\n",
              "      <th>rating</th>\n",
              "      <th>members</th>\n",
              "    </tr>\n",
              "  </thead>\n",
              "  <tbody>\n",
              "    <tr>\n",
              "      <th>0</th>\n",
              "      <td>32281</td>\n",
              "      <td>Kimi no Na wa.</td>\n",
              "      <td>Drama, Romance, School, Supernatural</td>\n",
              "      <td>Movie</td>\n",
              "      <td>1</td>\n",
              "      <td>9.37</td>\n",
              "      <td>200630</td>\n",
              "    </tr>\n",
              "    <tr>\n",
              "      <th>1</th>\n",
              "      <td>5114</td>\n",
              "      <td>Fullmetal Alchemist: Brotherhood</td>\n",
              "      <td>Action, Adventure, Drama, Fantasy, Magic, Mili...</td>\n",
              "      <td>TV</td>\n",
              "      <td>64</td>\n",
              "      <td>9.26</td>\n",
              "      <td>793665</td>\n",
              "    </tr>\n",
              "    <tr>\n",
              "      <th>2</th>\n",
              "      <td>28977</td>\n",
              "      <td>Gintama°</td>\n",
              "      <td>Action, Comedy, Historical, Parody, Samurai, S...</td>\n",
              "      <td>TV</td>\n",
              "      <td>51</td>\n",
              "      <td>9.25</td>\n",
              "      <td>114262</td>\n",
              "    </tr>\n",
              "    <tr>\n",
              "      <th>3</th>\n",
              "      <td>9253</td>\n",
              "      <td>Steins;Gate</td>\n",
              "      <td>Sci-Fi, Thriller</td>\n",
              "      <td>TV</td>\n",
              "      <td>24</td>\n",
              "      <td>9.17</td>\n",
              "      <td>673572</td>\n",
              "    </tr>\n",
              "    <tr>\n",
              "      <th>4</th>\n",
              "      <td>9969</td>\n",
              "      <td>Gintama&amp;#039;</td>\n",
              "      <td>Action, Comedy, Historical, Parody, Samurai, S...</td>\n",
              "      <td>TV</td>\n",
              "      <td>51</td>\n",
              "      <td>9.16</td>\n",
              "      <td>151266</td>\n",
              "    </tr>\n",
              "  </tbody>\n",
              "</table>\n",
              "</div>"
            ],
            "text/plain": [
              "   anime_id                              name  ... rating members\n",
              "0     32281                    Kimi no Na wa.  ...   9.37  200630\n",
              "1      5114  Fullmetal Alchemist: Brotherhood  ...   9.26  793665\n",
              "2     28977                          Gintama°  ...   9.25  114262\n",
              "3      9253                       Steins;Gate  ...   9.17  673572\n",
              "4      9969                     Gintama&#039;  ...   9.16  151266\n",
              "\n",
              "[5 rows x 7 columns]"
            ]
          },
          "metadata": {
            "tags": []
          },
          "execution_count": 7
        }
      ]
    },
    {
      "cell_type": "code",
      "metadata": {
        "colab_type": "code",
        "id": "kyhHk3VLduAm",
        "outputId": "f2889e1d-bf39-4566-c656-ad41dafbee5c",
        "colab": {
          "base_uri": "https://localhost:8080/",
          "height": 204
        }
      },
      "source": [
        "rating.head()"
      ],
      "execution_count": 8,
      "outputs": [
        {
          "output_type": "execute_result",
          "data": {
            "text/html": [
              "<div>\n",
              "<style scoped>\n",
              "    .dataframe tbody tr th:only-of-type {\n",
              "        vertical-align: middle;\n",
              "    }\n",
              "\n",
              "    .dataframe tbody tr th {\n",
              "        vertical-align: top;\n",
              "    }\n",
              "\n",
              "    .dataframe thead th {\n",
              "        text-align: right;\n",
              "    }\n",
              "</style>\n",
              "<table border=\"1\" class=\"dataframe\">\n",
              "  <thead>\n",
              "    <tr style=\"text-align: right;\">\n",
              "      <th></th>\n",
              "      <th>user_id</th>\n",
              "      <th>anime_id</th>\n",
              "      <th>rating</th>\n",
              "    </tr>\n",
              "  </thead>\n",
              "  <tbody>\n",
              "    <tr>\n",
              "      <th>0</th>\n",
              "      <td>1</td>\n",
              "      <td>20</td>\n",
              "      <td>-1</td>\n",
              "    </tr>\n",
              "    <tr>\n",
              "      <th>1</th>\n",
              "      <td>1</td>\n",
              "      <td>24</td>\n",
              "      <td>-1</td>\n",
              "    </tr>\n",
              "    <tr>\n",
              "      <th>2</th>\n",
              "      <td>1</td>\n",
              "      <td>79</td>\n",
              "      <td>-1</td>\n",
              "    </tr>\n",
              "    <tr>\n",
              "      <th>3</th>\n",
              "      <td>1</td>\n",
              "      <td>226</td>\n",
              "      <td>-1</td>\n",
              "    </tr>\n",
              "    <tr>\n",
              "      <th>4</th>\n",
              "      <td>1</td>\n",
              "      <td>241</td>\n",
              "      <td>-1</td>\n",
              "    </tr>\n",
              "  </tbody>\n",
              "</table>\n",
              "</div>"
            ],
            "text/plain": [
              "   user_id  anime_id  rating\n",
              "0        1        20      -1\n",
              "1        1        24      -1\n",
              "2        1        79      -1\n",
              "3        1       226      -1\n",
              "4        1       241      -1"
            ]
          },
          "metadata": {
            "tags": []
          },
          "execution_count": 8
        }
      ]
    },
    {
      "cell_type": "code",
      "metadata": {
        "colab_type": "code",
        "id": "0jojkwUkdldq",
        "outputId": "bfbed93a-86ef-4eb5-90b1-94284de9a58e",
        "colab": {
          "base_uri": "https://localhost:8080/",
          "height": 297
        }
      },
      "source": [
        "anime.describe()"
      ],
      "execution_count": 9,
      "outputs": [
        {
          "output_type": "execute_result",
          "data": {
            "text/html": [
              "<div>\n",
              "<style scoped>\n",
              "    .dataframe tbody tr th:only-of-type {\n",
              "        vertical-align: middle;\n",
              "    }\n",
              "\n",
              "    .dataframe tbody tr th {\n",
              "        vertical-align: top;\n",
              "    }\n",
              "\n",
              "    .dataframe thead th {\n",
              "        text-align: right;\n",
              "    }\n",
              "</style>\n",
              "<table border=\"1\" class=\"dataframe\">\n",
              "  <thead>\n",
              "    <tr style=\"text-align: right;\">\n",
              "      <th></th>\n",
              "      <th>anime_id</th>\n",
              "      <th>rating</th>\n",
              "      <th>members</th>\n",
              "    </tr>\n",
              "  </thead>\n",
              "  <tbody>\n",
              "    <tr>\n",
              "      <th>count</th>\n",
              "      <td>12294.000000</td>\n",
              "      <td>12064.000000</td>\n",
              "      <td>1.229400e+04</td>\n",
              "    </tr>\n",
              "    <tr>\n",
              "      <th>mean</th>\n",
              "      <td>14058.221653</td>\n",
              "      <td>6.473902</td>\n",
              "      <td>1.807134e+04</td>\n",
              "    </tr>\n",
              "    <tr>\n",
              "      <th>std</th>\n",
              "      <td>11455.294701</td>\n",
              "      <td>1.026746</td>\n",
              "      <td>5.482068e+04</td>\n",
              "    </tr>\n",
              "    <tr>\n",
              "      <th>min</th>\n",
              "      <td>1.000000</td>\n",
              "      <td>1.670000</td>\n",
              "      <td>5.000000e+00</td>\n",
              "    </tr>\n",
              "    <tr>\n",
              "      <th>25%</th>\n",
              "      <td>3484.250000</td>\n",
              "      <td>5.880000</td>\n",
              "      <td>2.250000e+02</td>\n",
              "    </tr>\n",
              "    <tr>\n",
              "      <th>50%</th>\n",
              "      <td>10260.500000</td>\n",
              "      <td>6.570000</td>\n",
              "      <td>1.550000e+03</td>\n",
              "    </tr>\n",
              "    <tr>\n",
              "      <th>75%</th>\n",
              "      <td>24794.500000</td>\n",
              "      <td>7.180000</td>\n",
              "      <td>9.437000e+03</td>\n",
              "    </tr>\n",
              "    <tr>\n",
              "      <th>max</th>\n",
              "      <td>34527.000000</td>\n",
              "      <td>10.000000</td>\n",
              "      <td>1.013917e+06</td>\n",
              "    </tr>\n",
              "  </tbody>\n",
              "</table>\n",
              "</div>"
            ],
            "text/plain": [
              "           anime_id        rating       members\n",
              "count  12294.000000  12064.000000  1.229400e+04\n",
              "mean   14058.221653      6.473902  1.807134e+04\n",
              "std    11455.294701      1.026746  5.482068e+04\n",
              "min        1.000000      1.670000  5.000000e+00\n",
              "25%     3484.250000      5.880000  2.250000e+02\n",
              "50%    10260.500000      6.570000  1.550000e+03\n",
              "75%    24794.500000      7.180000  9.437000e+03\n",
              "max    34527.000000     10.000000  1.013917e+06"
            ]
          },
          "metadata": {
            "tags": []
          },
          "execution_count": 9
        }
      ]
    },
    {
      "cell_type": "code",
      "metadata": {
        "colab_type": "code",
        "id": "qkzHLW0oeBEW",
        "outputId": "5a548507-7eb5-4bca-def2-7f1867d421b0",
        "colab": {
          "base_uri": "https://localhost:8080/",
          "height": 297
        }
      },
      "source": [
        "rating.describe()"
      ],
      "execution_count": 10,
      "outputs": [
        {
          "output_type": "execute_result",
          "data": {
            "text/html": [
              "<div>\n",
              "<style scoped>\n",
              "    .dataframe tbody tr th:only-of-type {\n",
              "        vertical-align: middle;\n",
              "    }\n",
              "\n",
              "    .dataframe tbody tr th {\n",
              "        vertical-align: top;\n",
              "    }\n",
              "\n",
              "    .dataframe thead th {\n",
              "        text-align: right;\n",
              "    }\n",
              "</style>\n",
              "<table border=\"1\" class=\"dataframe\">\n",
              "  <thead>\n",
              "    <tr style=\"text-align: right;\">\n",
              "      <th></th>\n",
              "      <th>user_id</th>\n",
              "      <th>anime_id</th>\n",
              "      <th>rating</th>\n",
              "    </tr>\n",
              "  </thead>\n",
              "  <tbody>\n",
              "    <tr>\n",
              "      <th>count</th>\n",
              "      <td>7.813737e+06</td>\n",
              "      <td>7.813737e+06</td>\n",
              "      <td>7.813737e+06</td>\n",
              "    </tr>\n",
              "    <tr>\n",
              "      <th>mean</th>\n",
              "      <td>3.672796e+04</td>\n",
              "      <td>8.909072e+03</td>\n",
              "      <td>6.144030e+00</td>\n",
              "    </tr>\n",
              "    <tr>\n",
              "      <th>std</th>\n",
              "      <td>2.099795e+04</td>\n",
              "      <td>8.883950e+03</td>\n",
              "      <td>3.727800e+00</td>\n",
              "    </tr>\n",
              "    <tr>\n",
              "      <th>min</th>\n",
              "      <td>1.000000e+00</td>\n",
              "      <td>1.000000e+00</td>\n",
              "      <td>-1.000000e+00</td>\n",
              "    </tr>\n",
              "    <tr>\n",
              "      <th>25%</th>\n",
              "      <td>1.897400e+04</td>\n",
              "      <td>1.240000e+03</td>\n",
              "      <td>6.000000e+00</td>\n",
              "    </tr>\n",
              "    <tr>\n",
              "      <th>50%</th>\n",
              "      <td>3.679100e+04</td>\n",
              "      <td>6.213000e+03</td>\n",
              "      <td>7.000000e+00</td>\n",
              "    </tr>\n",
              "    <tr>\n",
              "      <th>75%</th>\n",
              "      <td>5.475700e+04</td>\n",
              "      <td>1.409300e+04</td>\n",
              "      <td>9.000000e+00</td>\n",
              "    </tr>\n",
              "    <tr>\n",
              "      <th>max</th>\n",
              "      <td>7.351600e+04</td>\n",
              "      <td>3.451900e+04</td>\n",
              "      <td>1.000000e+01</td>\n",
              "    </tr>\n",
              "  </tbody>\n",
              "</table>\n",
              "</div>"
            ],
            "text/plain": [
              "            user_id      anime_id        rating\n",
              "count  7.813737e+06  7.813737e+06  7.813737e+06\n",
              "mean   3.672796e+04  8.909072e+03  6.144030e+00\n",
              "std    2.099795e+04  8.883950e+03  3.727800e+00\n",
              "min    1.000000e+00  1.000000e+00 -1.000000e+00\n",
              "25%    1.897400e+04  1.240000e+03  6.000000e+00\n",
              "50%    3.679100e+04  6.213000e+03  7.000000e+00\n",
              "75%    5.475700e+04  1.409300e+04  9.000000e+00\n",
              "max    7.351600e+04  3.451900e+04  1.000000e+01"
            ]
          },
          "metadata": {
            "tags": []
          },
          "execution_count": 10
        }
      ]
    },
    {
      "cell_type": "code",
      "metadata": {
        "colab_type": "code",
        "id": "HxAYUYmDdqo_",
        "outputId": "9c6b374a-614a-4390-c68e-e478e22ba36c",
        "colab": {
          "base_uri": "https://localhost:8080/",
          "height": 153
        }
      },
      "source": [
        "anime.isna().sum()"
      ],
      "execution_count": 11,
      "outputs": [
        {
          "output_type": "execute_result",
          "data": {
            "text/plain": [
              "anime_id      0\n",
              "name          0\n",
              "genre        62\n",
              "type         25\n",
              "episodes      0\n",
              "rating      230\n",
              "members       0\n",
              "dtype: int64"
            ]
          },
          "metadata": {
            "tags": []
          },
          "execution_count": 11
        }
      ]
    },
    {
      "cell_type": "code",
      "metadata": {
        "colab_type": "code",
        "id": "Jsj5LMqmeEu3",
        "outputId": "51a0340f-0cfc-4651-c03b-5fd5ff7a3d51",
        "colab": {
          "base_uri": "https://localhost:8080/",
          "height": 85
        }
      },
      "source": [
        "rating.isna().sum()"
      ],
      "execution_count": 12,
      "outputs": [
        {
          "output_type": "execute_result",
          "data": {
            "text/plain": [
              "user_id     0\n",
              "anime_id    0\n",
              "rating      0\n",
              "dtype: int64"
            ]
          },
          "metadata": {
            "tags": []
          },
          "execution_count": 12
        }
      ]
    },
    {
      "cell_type": "code",
      "metadata": {
        "colab_type": "code",
        "id": "jpHJ2i8zgigP",
        "outputId": "f43ec543-474c-4e82-e5b4-e44e77001172",
        "colab": {
          "base_uri": "https://localhost:8080/",
          "height": 34
        }
      },
      "source": [
        "print('Number of animes in the dataset: ', anime.anime_id.unique().shape)"
      ],
      "execution_count": 13,
      "outputs": [
        {
          "output_type": "stream",
          "text": [
            "Number of animes in the dataset:  (12294,)\n"
          ],
          "name": "stdout"
        }
      ]
    },
    {
      "cell_type": "code",
      "metadata": {
        "colab_type": "code",
        "id": "VSAZKJnUeHfj",
        "outputId": "e93b167d-6082-44b2-8cc7-1530de6c3f49",
        "colab": {
          "base_uri": "https://localhost:8080/",
          "height": 283
        }
      },
      "source": [
        "anime_types = anime.type.value_counts()\n",
        "plt.bar(x=anime_types.index, height = anime_types.values)\n",
        "plt.xlabel('Anime Types')\n",
        "plt.ylabel('Anime Count')\n",
        "plt.show()"
      ],
      "execution_count": 14,
      "outputs": [
        {
          "output_type": "display_data",
          "data": {
            "image/png": "[encoded data removed]",
            "text/plain": [
              "<Figure size 432x288 with 1 Axes>"
            ]
          },
          "metadata": {
            "tags": []
          }
        }
      ]
    },
    {
      "cell_type": "code",
      "metadata": {
        "colab_type": "code",
        "id": "tR0WUTFVg6LH",
        "outputId": "097a1c0e-9ca6-4363-a0ae-40e26bc6d6b2",
        "colab": {
          "base_uri": "https://localhost:8080/",
          "height": 283
        }
      },
      "source": [
        "anime_types_rating = anime.groupby('type')['rating'].mean().sort_values(ascending=False)\n",
        "plt.bar(x=anime_types_rating.index, height=anime_types_rating.values)\n",
        "plt.xlabel('Anime Type')\n",
        "plt.ylabel('Anime Average Rating')\n",
        "plt.show()"
      ],
      "execution_count": 15,
      "outputs": [
        {
          "output_type": "display_data",
          "data": {
            "image/png": "[encoded data removed]",
            "text/plain": [
              "<Figure size 432x288 with 1 Axes>"
            ]
          },
          "metadata": {
            "tags": []
          }
        }
      ]
    },
    {
      "cell_type": "code",
      "metadata": {
        "id": "N5zn5Uq4Dk06",
        "colab_type": "code",
        "outputId": "3837fbca-539c-4f36-9d1e-60bfdfd316f8",
        "colab": {
          "base_uri": "https://localhost:8080/",
          "height": 283
        }
      },
      "source": [
        "plt.bar(rating.groupby('rating').count().index, rating.groupby('rating').count().anime_id)\n",
        "plt.xlabel('Rating')\n",
        "plt.ylabel('Rating Count')\n",
        "plt.show()"
      ],
      "execution_count": 16,
      "outputs": [
        {
          "output_type": "display_data",
          "data": {
            "image/png": "[encoded data removed]",
            "text/plain": [
              "<Figure size 432x288 with 1 Axes>"
            ]
          },
          "metadata": {
            "tags": []
          }
        }
      ]
    },
    {
      "cell_type": "code",
      "metadata": {
        "colab_type": "code",
        "id": "J2Zo_Va6jmbx",
        "colab": {}
      },
      "source": [
        "anime_genre = anime.genre.dropna().apply(lambda x: set(x.split(','))).values\n",
        "genres = dict()\n",
        "for genre in anime_genre:\n",
        "    for g in genre:\n",
        "        if genres.get(g.strip()) == None:\n",
        "            genres[g.strip()] = 0\n",
        "        else:\n",
        "            genres[g.strip()] += 1"
      ],
      "execution_count": 0,
      "outputs": []
    },
    {
      "cell_type": "code",
      "metadata": {
        "colab_type": "code",
        "id": "vfkb7tmTtL3r",
        "colab": {}
      },
      "source": [
        "genres_df = pd.DataFrame.from_dict(genres, orient='index').reset_index().rename(columns={'index': 'genre', 0:'count'})\n",
        "genres_df = genres_df.sort_values(by='count', ascending=False)"
      ],
      "execution_count": 0,
      "outputs": []
    },
    {
      "cell_type": "code",
      "metadata": {
        "colab_type": "code",
        "id": "7XIrbncad-Yk",
        "outputId": "9b0c3fd7-73f5-43b9-deb9-90d980dfa27d",
        "colab": {
          "base_uri": "https://localhost:8080/",
          "height": 718
        }
      },
      "source": [
        "figure, ax = plt.subplots(figsize=(8, 12))\n",
        "sns.barplot(x='count', y='genre', data=genres_df)\n",
        "ax.set(ylabel='Genre', xlabel='Anime Count')\n",
        "plt.show()"
      ],
      "execution_count": 19,
      "outputs": [
        {
          "output_type": "display_data",
          "data": {
            "image/png": "[encoded data removed]",
            "text/plain": [
              "<Figure size 576x864 with 1 Axes>"
            ]
          },
          "metadata": {
            "tags": []
          }
        }
      ]
    },
    {
      "cell_type": "code",
      "metadata": {
        "colab_type": "code",
        "id": "kxzvLxJ5gt_M",
        "outputId": "946d7c17-e5e5-4dc9-f4b5-85a144762ff5",
        "colab": {
          "base_uri": "https://localhost:8080/",
          "height": 404
        }
      },
      "source": [
        "plt.figure(figsize=(8,6))\n",
        "plt.plot(anime.index, anime.rating.sort_values(ascending=False))\n",
        "plt.xlabel('Index')\n",
        "plt.ylabel('Anime Average Rating')\n",
        "plt.title('Sorted Rating of Animes')\n",
        "plt.show()"
      ],
      "execution_count": 20,
      "outputs": [
        {
          "output_type": "display_data",
          "data": {
            "image/png": "[encoded data removed]",
            "text/plain": [
              "<Figure size 576x432 with 1 Axes>"
            ]
          },
          "metadata": {
            "tags": []
          }
        }
      ]
    },
    {
      "cell_type": "code",
      "metadata": {
        "id": "uaK1W5BijXgg",
        "colab_type": "code",
        "outputId": "e7ec32a0-396e-49c1-8042-66c6207c0ecf",
        "colab": {
          "base_uri": "https://localhost:8080/",
          "height": 621
        }
      },
      "source": [
        "user_rating_count = rating.groupby('user_id').rating.count()\n",
        "\n",
        "figure, ax = plt.subplots(2,1, figsize=(6, 10))\n",
        "ax[0].scatter(range(len(user_rating_count)),user_rating_count, s=1)\n",
        "ax[0].set_xlabel('Index')\n",
        "ax[0].set_ylabel('User Rating Count')\n",
        "ax[0].set_title('Rating Counts of Users')\n",
        "\n",
        "ax[1].scatter(range(len(user_rating_count)),user_rating_count.sort_values(ascending=False), s=1)\n",
        "ax[1].set_xlabel('Index')\n",
        "ax[1].set_ylabel('User Rating Count')\n",
        "ax[1].set_title('Sorted Rating Counts of Users')\n",
        "\n",
        "plt.show()"
      ],
      "execution_count": 21,
      "outputs": [
        {
          "output_type": "display_data",
          "data": {
            "image/png": "[encoded data removed]",
            "text/plain": [
              "<Figure size 432x720 with 2 Axes>"
            ]
          },
          "metadata": {
            "tags": []
          }
        }
      ]
    },
    {
      "cell_type": "code",
      "metadata": {
        "id": "5_1E7HNbvTsC",
        "colab_type": "code",
        "outputId": "64e250ec-3928-40d4-d2bc-53aa4c85c9e1",
        "colab": {
          "base_uri": "https://localhost:8080/",
          "height": 51
        }
      },
      "source": [
        "rated_counts = 10\n",
        "inactive_users = user_rating_count < rated_counts\n",
        "inactive_users = inactive_users[inactive_users]\n",
        "print('Number of users rated less than {} animes: {}'.format(rated_counts,inactive_users.shape[0]))\n",
        "print('There are a lot users rated very few animes')"
      ],
      "execution_count": 22,
      "outputs": [
        {
          "output_type": "stream",
          "text": [
            "Number of users rated less than 10 animes: 11742\n",
            "There are a lot users rated very few animes\n"
          ],
          "name": "stdout"
        }
      ]
    },
    {
      "cell_type": "code",
      "metadata": {
        "id": "rkc5elATXxVL",
        "colab_type": "code",
        "outputId": "797b25eb-f9fc-4a05-bc99-146a3f01b8a7",
        "colab": {
          "base_uri": "https://localhost:8080/",
          "height": 621
        }
      },
      "source": [
        "anime_rating_count = rating.groupby('anime_id').rating.count()\n",
        "\n",
        "figure, ax = plt.subplots(2,1, figsize=(6, 10))\n",
        "ax[0].scatter(range(len(anime_rating_count)),anime_rating_count, s=1)\n",
        "ax[0].set_xlabel('Index')\n",
        "ax[0].set_ylabel('Anime Rating Count')\n",
        "ax[0].set_title('Rating Counts of Animes')\n",
        "\n",
        "ax[1].scatter(range(len(anime_rating_count)),anime_rating_count.sort_values(ascending=False), s=1)\n",
        "ax[1].set_xlabel('Index')\n",
        "ax[1].set_ylabel('Anime Rating Count')\n",
        "ax[1].set_title('Sorted Rating Counts of Animes')\n",
        "plt.show()"
      ],
      "execution_count": 23,
      "outputs": [
        {
          "output_type": "display_data",
          "data": {
            "image/png": "[encoded data removed]",
            "text/plain": [
              "<Figure size 432x720 with 2 Axes>"
            ]
          },
          "metadata": {
            "tags": []
          }
        }
      ]
    },
    {
      "cell_type": "code",
      "metadata": {
        "id": "YTjxK-Okw5lz",
        "colab_type": "code",
        "outputId": "96ee8acc-1988-4eb6-ec77-c8eb070da20e",
        "colab": {
          "base_uri": "https://localhost:8080/",
          "height": 51
        }
      },
      "source": [
        "rated_counts = 10\n",
        "unpopular_animes = anime_rating_count < rated_counts\n",
        "unpopular_animes = unpopular_animes[unpopular_animes]\n",
        "print('Number of animes get rated less than {} times: {}'.format(rated_counts,unpopular_animes.shape[0]))\n",
        "print('There are a lot animes rated very few times')"
      ],
      "execution_count": 24,
      "outputs": [
        {
          "output_type": "stream",
          "text": [
            "Number of animes get rated less than 10 times: 3451\n",
            "There are a lot animes rated very few times\n"
          ],
          "name": "stdout"
        }
      ]
    },
    {
      "cell_type": "code",
      "metadata": {
        "colab_type": "code",
        "id": "IU3qbOPpSZMY",
        "colab": {
          "base_uri": "https://localhost:8080/",
          "height": 204
        },
        "outputId": "60a1fd8e-15a8-4d36-8fc6-26b98293b8d5"
      },
      "source": [
        "merged_df = pd.merge(anime, rating, on='anime_id')\n",
        "merged_df.head()"
      ],
      "execution_count": 25,
      "outputs": [
        {
          "output_type": "execute_result",
          "data": {
            "text/html": [
              "<div>\n",
              "<style scoped>\n",
              "    .dataframe tbody tr th:only-of-type {\n",
              "        vertical-align: middle;\n",
              "    }\n",
              "\n",
              "    .dataframe tbody tr th {\n",
              "        vertical-align: top;\n",
              "    }\n",
              "\n",
              "    .dataframe thead th {\n",
              "        text-align: right;\n",
              "    }\n",
              "</style>\n",
              "<table border=\"1\" class=\"dataframe\">\n",
              "  <thead>\n",
              "    <tr style=\"text-align: right;\">\n",
              "      <th></th>\n",
              "      <th>anime_id</th>\n",
              "      <th>name</th>\n",
              "      <th>genre</th>\n",
              "      <th>type</th>\n",
              "      <th>episodes</th>\n",
              "      <th>rating_x</th>\n",
              "      <th>members</th>\n",
              "      <th>user_id</th>\n",
              "      <th>rating_y</th>\n",
              "    </tr>\n",
              "  </thead>\n",
              "  <tbody>\n",
              "    <tr>\n",
              "      <th>0</th>\n",
              "      <td>32281</td>\n",
              "      <td>Kimi no Na wa.</td>\n",
              "      <td>Drama, Romance, School, Supernatural</td>\n",
              "      <td>Movie</td>\n",
              "      <td>1</td>\n",
              "      <td>9.37</td>\n",
              "      <td>200630</td>\n",
              "      <td>99</td>\n",
              "      <td>5</td>\n",
              "    </tr>\n",
              "    <tr>\n",
              "      <th>1</th>\n",
              "      <td>32281</td>\n",
              "      <td>Kimi no Na wa.</td>\n",
              "      <td>Drama, Romance, School, Supernatural</td>\n",
              "      <td>Movie</td>\n",
              "      <td>1</td>\n",
              "      <td>9.37</td>\n",
              "      <td>200630</td>\n",
              "      <td>152</td>\n",
              "      <td>10</td>\n",
              "    </tr>\n",
              "    <tr>\n",
              "      <th>2</th>\n",
              "      <td>32281</td>\n",
              "      <td>Kimi no Na wa.</td>\n",
              "      <td>Drama, Romance, School, Supernatural</td>\n",
              "      <td>Movie</td>\n",
              "      <td>1</td>\n",
              "      <td>9.37</td>\n",
              "      <td>200630</td>\n",
              "      <td>244</td>\n",
              "      <td>10</td>\n",
              "    </tr>\n",
              "    <tr>\n",
              "      <th>3</th>\n",
              "      <td>32281</td>\n",
              "      <td>Kimi no Na wa.</td>\n",
              "      <td>Drama, Romance, School, Supernatural</td>\n",
              "      <td>Movie</td>\n",
              "      <td>1</td>\n",
              "      <td>9.37</td>\n",
              "      <td>200630</td>\n",
              "      <td>271</td>\n",
              "      <td>10</td>\n",
              "    </tr>\n",
              "    <tr>\n",
              "      <th>4</th>\n",
              "      <td>32281</td>\n",
              "      <td>Kimi no Na wa.</td>\n",
              "      <td>Drama, Romance, School, Supernatural</td>\n",
              "      <td>Movie</td>\n",
              "      <td>1</td>\n",
              "      <td>9.37</td>\n",
              "      <td>200630</td>\n",
              "      <td>278</td>\n",
              "      <td>-1</td>\n",
              "    </tr>\n",
              "  </tbody>\n",
              "</table>\n",
              "</div>"
            ],
            "text/plain": [
              "   anime_id            name  ... user_id rating_y\n",
              "0     32281  Kimi no Na wa.  ...      99        5\n",
              "1     32281  Kimi no Na wa.  ...     152       10\n",
              "2     32281  Kimi no Na wa.  ...     244       10\n",
              "3     32281  Kimi no Na wa.  ...     271       10\n",
              "4     32281  Kimi no Na wa.  ...     278       -1\n",
              "\n",
              "[5 rows x 9 columns]"
            ]
          },
          "metadata": {
            "tags": []
          },
          "execution_count": 25
        }
      ]
    },
    {
      "cell_type": "code",
      "metadata": {
        "colab_type": "code",
        "id": "3hV79csUkv7E",
        "outputId": "44347031-4013-4fe4-92d9-f60b1f546f41",
        "colab": {
          "base_uri": "https://localhost:8080/",
          "height": 221
        }
      },
      "source": [
        "top10rated = merged_df.groupby('name')['rating_x'].count().sort_values(ascending=False).head(10)\n",
        "top10rated"
      ],
      "execution_count": 26,
      "outputs": [
        {
          "output_type": "execute_result",
          "data": {
            "text/plain": [
              "name\n",
              "Death Note                          39340\n",
              "Sword Art Online                    30583\n",
              "Shingeki no Kyojin                  29584\n",
              "Code Geass: Hangyaku no Lelouch     27718\n",
              "Elfen Lied                          27506\n",
              "Angel Beats!                        27183\n",
              "Naruto                              25925\n",
              "Fullmetal Alchemist                 25032\n",
              "Fullmetal Alchemist: Brotherhood    24574\n",
              "Toradora!                           24283\n",
              "Name: rating_x, dtype: int64"
            ]
          },
          "metadata": {
            "tags": []
          },
          "execution_count": 26
        }
      ]
    },
    {
      "cell_type": "markdown",
      "metadata": {
        "id": "A3GLo6J3GHeW",
        "colab_type": "text"
      },
      "source": [
        "**We remove the very popular items from the rating table since users are very likely to discover those items themselves.**"
      ]
    },
    {
      "cell_type": "code",
      "metadata": {
        "id": "Yo3JXMIAhR9D",
        "colab_type": "code",
        "colab": {}
      },
      "source": [
        "rated_counts = 20000\n",
        "popular_animes = anime_rating_count > rated_counts\n",
        "popular_animes = popular_animes[popular_animes]\n",
        "rating = rating[~ rating.anime_id.isin(popular_animes.index)]"
      ],
      "execution_count": 0,
      "outputs": []
    },
    {
      "cell_type": "code",
      "metadata": {
        "colab_type": "code",
        "id": "dRlKAnY8_rQM",
        "outputId": "31aea87b-e41e-4e71-bf52-e463ddf756e5",
        "colab": {
          "base_uri": "https://localhost:8080/",
          "height": 34
        }
      },
      "source": [
        "num_user = rating.user_id.unique().shape[0]\n",
        "print('Number of users: ', num_user)"
      ],
      "execution_count": 28,
      "outputs": [
        {
          "output_type": "stream",
          "text": [
            "Number of users:  72688\n"
          ],
          "name": "stdout"
        }
      ]
    },
    {
      "cell_type": "code",
      "metadata": {
        "colab_type": "code",
        "id": "YXRb2RV0SSIo",
        "outputId": "d2a284b5-d1a9-4644-b2b2-a067e55f2511",
        "colab": {
          "base_uri": "https://localhost:8080/",
          "height": 34
        }
      },
      "source": [
        "animes_valid = rating.anime_id.unique()\n",
        "num_anime = animes_valid.shape[0]\n",
        "print('Number of animes have been rated: ', num_anime)"
      ],
      "execution_count": 29,
      "outputs": [
        {
          "output_type": "stream",
          "text": [
            "Number of animes have been rated:  11183\n"
          ],
          "name": "stdout"
        }
      ]
    },
    {
      "cell_type": "markdown",
      "metadata": {
        "colab_type": "text",
        "id": "B9UuaAsiChkq"
      },
      "source": [
        "## Data preparation"
      ]
    },
    {
      "cell_type": "code",
      "metadata": {
        "colab_type": "code",
        "id": "bNngZY7K9PSz",
        "colab": {}
      },
      "source": [
        "num_anime = rating.anime_id.unique().shape[0] # numbers of anime\n",
        "num_user = rating.user_id.unique().shape[0] # numbers of user\n",
        "\n",
        "# Create dictionary to map anime_id to anime index and vice versa\n",
        "# anime index is used for model's input \n",
        "anime_id2idx = dict(zip(np.sort(rating.anime_id.unique()), range(num_anime)))\n",
        "anime_idx2id = {v: k for k, v in anime_id2idx.items()}\n",
        "\n",
        "# Create dictionary to map user_id to user index and vice versa\n",
        "# user index is used for model's input\n",
        "user_id2idx = dict(zip(np.sort(rating.user_id.unique()), range(num_user)))\n",
        "user_idx2id = {v: k for k, v in user_id2idx.items()}\n",
        "\n",
        "# Creat dictionary to map anime_id to anime name\n",
        "anime_id2name = dict(zip(merged_df.anime_id, merged_df.name))"
      ],
      "execution_count": 0,
      "outputs": []
    },
    {
      "cell_type": "code",
      "metadata": {
        "colab_type": "code",
        "id": "Jo1sYOyVE0zM",
        "outputId": "f1d0cdab-6595-4a59-b8aa-eb078aaf2952",
        "colab": {
          "base_uri": "https://localhost:8080/",
          "height": 179
        }
      },
      "source": [
        "RANDOM_SEED = 2019\n",
        "\n",
        "# Only use data with valid rating\n",
        "rating_filtered = rating[rating.rating != -1]\n",
        "# X = rating_filtered[['user_id', 'anime_id']]\n",
        "rating_filtered.loc[:,'user_id'] = rating_filtered.user_id.apply(lambda x: user_id2idx.get(x))\n",
        "rating_filtered.loc[:,'anime_id'] = rating_filtered.anime_id.apply(lambda x: anime_id2idx.get(x))\n",
        "# y = rating_filtered.rating\n",
        "\n",
        "rating_filtered_train, rating_filtered_val = train_test_split(rating_filtered, test_size=0.3, random_state=RANDOM_SEED)\n",
        "rating_filtered_val, rating_filtered_test = train_test_split(rating_filtered_val, test_size=0.3, random_state=RANDOM_SEED)\n",
        "\n",
        "# For generating training data, validation or testing data\n",
        "def ratingData(rating_data, shuffle):\n",
        "    if shuffle:\n",
        "        rating_data = sklearn.utils.shuffle(rating_data)\n",
        "    user_idx_train = torch.from_numpy(rating_data.user_id.values).to(device)\n",
        "    anime_idx_train = torch.from_numpy(rating_data.anime_id.values).to(device)\n",
        "    target_train = torch.FloatTensor(rating_data.rating.values).to(device)\n",
        "    return user_idx_train, anime_idx_train, target_train\n",
        "\n"
      ],
      "execution_count": 31,
      "outputs": [
        {
          "output_type": "stream",
          "text": [
            "/usr/local/lib/python3.6/dist-packages/pandas/core/indexing.py:635: SettingWithCopyWarning: \n",
            "A value is trying to be set on a copy of a slice from a DataFrame.\n",
            "Try using .loc[row_indexer,col_indexer] = value instead\n",
            "\n",
            "See the caveats in the documentation: http://pandas.pydata.org/pandas-docs/stable/indexing.html#indexing-view-versus-copy\n",
            "  self.obj[item_labels[indexer[info_axis]]] = value\n"
          ],
          "name": "stderr"
        }
      ]
    },
    {
      "cell_type": "markdown",
      "metadata": {
        "colab_type": "text",
        "id": "nx6eoALsCra0"
      },
      "source": [
        "## Building model"
      ]
    },
    {
      "cell_type": "markdown",
      "metadata": {
        "colab_type": "text",
        "id": "pOHTQTEsW5eL"
      },
      "source": [
        "To build a recommender system, we are trying to build a model that predicts the rating of items by users. In order to achieve this, we want our model approxiates the existing rating table, and hopefully, it will generalize to unrated items. \n",
        "\n",
        "In the following, we are going to employ colaborative filtering approach to build our model. The core assumption of colaborative filtering is that users who have similar preferences in the past are likely to have similar preferences in the future.\n",
        "\n",
        "A 'completed' rating table $R$ is a $n_u \\times n_i$ matrix, where $n_u$ is the numbers of user and $n_i$ is the numbers of item. We assume that it can be assembled with two components, namely, the item matrix $\\Theta$ and the user matrix $X$. $\\Theta$ is a $k \\times n_i$ matrix, and $X$ is a $k \\times n_u$ matrix. The $k$-dimensional latent factors of $\\Theta$ can be interpreted as the features of the items, and the $k$-dimensional latent factors of $X$ can be interpreted as users' preferences on those features,  $k$ is can be assumed to be much less than $n_u$ and $n_i$. And we can approximate the rating table $R$ by the product of $X^T$ and $\\Theta$, i.e. $R \\approx X^T\\Theta$.\n",
        "\n",
        "The elements of the matrices $\\Theta$ and $X$ are the parameters that our model is going to learn from the existing rating data. We use mean square error as the metric for the approximation. Suppose that \n",
        "$\\Theta = [\\theta^{(0)} \\ \\theta^{(1)} \\ \\cdots \\ \\theta^{(n_i-1)}]$ and \n",
        "$X = [x^{(0)} \\ x^{(1)} \\ \\cdots \\ x^{(n_u-1)}]$. \n",
        "\n",
        "The predicted rating table $\\hat{R} = X^T \\Theta = \\begin{bmatrix} \n",
        "(x^{(0)})^T \\theta^{(0)} & (x^{(0)})^T \\theta^{(1)} & \\cdots & (x^{(0)})^T \\theta^{(n_i-1)}\\\\                \n",
        "(x^{(1)})^T \\theta^{(0)} & (x^{(1)})^T \\theta^{(1)} & \\cdots & (x^{(1)})^T \\theta^{(n_i-1)} \\\\\n",
        "\\vdots & \\vdots & \\vdots & \\vdots \\\\\n",
        "(x^{(n_u-1)})^T \\theta^{(0)} & (x^{(n_-1)})^T \\theta^{(1)} & \\cdots & (x^{(n_u-1)})^T \\theta^{(n_i-1)}\n",
        "\\end{bmatrix}.$\n",
        "\n",
        "So we train our model by minimizing the objective function $$\\frac{1}{2} \\sum_{p(i,j)=1} \\left( (x^{(i)})^T \\theta^{(j)} - r^{(i,j)} \\right)^2 + \\frac{\\lambda}{2} \\sum_{j=1}^{n_u} \\sum_{k=1}^n (\\theta_k^{(j)})^2 + \\frac{\\lambda}{2} \\sum_{j=1}^{n_u} \\sum_{k=1}^n (x_k^{(j)})^2$$\n",
        "where $p(i,j) = 1$ if user $i$ has rated item $j$ and $p(i,j) = 0 $ otherwise. The presence of $\\frac{\\lambda}{2} \\sum_{j=1}^{n_u} \\sum_{k=1}^n (\\theta_k^{(j)})^2 + \\frac{\\lambda}{2} \\sum_{j=1}^{n_u} \\sum_{k=1}^n (x_k^{(j)})^2$ is for the purpose of weight regularization."
      ]
    },
    {
      "cell_type": "code",
      "metadata": {
        "colab_type": "code",
        "id": "aRdLS3BiQXW2",
        "colab": {}
      },
      "source": [
        "class CFNet(nn.Module):\n",
        "    def __init__(self, num_latent, num_anime, num_user):\n",
        "        super(CFNet, self).__init__()\n",
        "        self.embed_user = nn.Embedding(num_user, num_latent)\n",
        "        self.embed_anime = nn.Embedding(num_anime, num_latent)\n",
        "        \n",
        "    def forward(self, user_idx, anime_idx):\n",
        "        users = self.embed_user(user_idx) # users size = user_idx.size(0) x num_latent\n",
        "        animes = self.embed_anime(anime_idx) # animes size = anime_idx.size(0) x num_latent\n",
        "        # shape of user_idx and shape of anime_idx are broadcastable\n",
        "        ratings = (users * animes).sum(1) # rating size = user_idx.size(0)\n",
        "        return ratings\n",
        "    \n",
        "    def weight_init(self, low, high):\n",
        "        self.embed_user.weight.data.uniform_(low, high)\n",
        "        self.embed_anime.weight.data.uniform_(low, high)\n"
      ],
      "execution_count": 0,
      "outputs": []
    },
    {
      "cell_type": "code",
      "metadata": {
        "colab_type": "code",
        "id": "7UXXDo3BEGFi",
        "colab": {}
      },
      "source": [
        "# Colborative filtering model with bias terms\n",
        "class CFNetwBias(nn.Module):\n",
        "    def __init__(self, num_latent, num_anime, num_user):\n",
        "        super(CFNetwBias, self).__init__()\n",
        "        self.embed_user = nn.Embedding(num_user, num_latent)\n",
        "        self.user_bias = nn.Embedding(num_user, 1)\n",
        "        self.embed_anime = nn.Embedding(num_anime, num_latent)\n",
        "        self.anime_bias = nn.Embedding(num_anime, 1)\n",
        "        \n",
        "    def forward(self, user_idx, anime_idx):\n",
        "        users = self.embed_user(user_idx) # users size = user_idx.size(0) x num_latent\n",
        "        animes = self.embed_anime(anime_idx) # animes size = anime_idx.size(0) x num_latent\n",
        "        bias_users = self.user_bias(user_idx).squeeze() # bias_users size = (user_idx.size(0), )\n",
        "        bias_animes = self.anime_bias(anime_idx).squeeze() # bias_animes size = (anime_idx.size(0), )\n",
        "        # shape of user_idx and shape of anime_idx are broadcastable\n",
        "        ratings = (users * animes).sum(1) + bias_users + bias_animes # rating size = user_idx.size(0)\n",
        "        return ratings\n",
        "    \n",
        "    def weight_init(self, low_w, high_w, low_b, high_b):\n",
        "        self.embed_user.weight.data.uniform_(low_w, high_w)\n",
        "        self.embed_anime.weight.data.uniform_(low_w, high_w)\n",
        "        self.user_bias.weight.data.uniform_(low_b, high_b)\n",
        "        self.anime_bias.weight.data.uniform_(low_b, high_b)\n",
        "        "
      ],
      "execution_count": 0,
      "outputs": []
    },
    {
      "cell_type": "code",
      "metadata": {
        "colab_type": "code",
        "id": "HTRRBTvDzS9E",
        "outputId": "95723022-7a42-4a71-8837-5ad37488809c",
        "colab": {
          "base_uri": "https://localhost:8080/",
          "height": 85
        }
      },
      "source": [
        "NUM_LATENT = 100 #len(genres)\n",
        "\n",
        "model = CFNet(NUM_LATENT, num_anime, num_user).to(device)\n",
        "model.weight_init(0.0, 0.02)\n",
        "\n",
        "# model = CFNetwBias(NUM_LATENT, num_anime, num_user).to(device)\n",
        "# model.weight_init(0.0, 0.02, -0.01, 0.01)\n",
        "\n",
        "model"
      ],
      "execution_count": 34,
      "outputs": [
        {
          "output_type": "execute_result",
          "data": {
            "text/plain": [
              "CFNet(\n",
              "  (embed_user): Embedding(72688, 100)\n",
              "  (embed_anime): Embedding(11183, 100)\n",
              ")"
            ]
          },
          "metadata": {
            "tags": []
          },
          "execution_count": 34
        }
      ]
    },
    {
      "cell_type": "markdown",
      "metadata": {
        "colab_type": "text",
        "id": "lSLKr_c9M3cj"
      },
      "source": [
        "## Model training"
      ]
    },
    {
      "cell_type": "code",
      "metadata": {
        "colab_type": "code",
        "id": "FfYTMoSA_105",
        "colab": {}
      },
      "source": [
        "criterion = nn.MSELoss().to(device)\n",
        "wd = 1e-6\n",
        "lr = 0.001\n",
        "optimizer = torch.optim.Adam(model.parameters(), lr=0.1, weight_decay = 1e-6)"
      ],
      "execution_count": 0,
      "outputs": []
    },
    {
      "cell_type": "code",
      "metadata": {
        "colab_type": "code",
        "id": "mefCgdmEAyUp",
        "colab": {}
      },
      "source": [
        "train_loss = []\n",
        "def train(user_idx, anime_idx, target, criterion, optimizer):\n",
        "    model.train()\n",
        "    prediction = model(user_idx, anime_idx)\n",
        "    loss = criterion(prediction, target)\n",
        "    optimizer.zero_grad()\n",
        "    loss.backward()\n",
        "    optimizer.step()\n",
        "    train_loss.append(loss.item())\n",
        "    print('\\nEpoch: {}/{}\\nTraining Loss: {:.4f}\\t'.format(epoch+1, NUM_EPOCHS, loss.item()), end=\"\")\n",
        "\n",
        "val_loss = []\n",
        "def validate(user_idx, anime_idx, target, criterion):\n",
        "    model.eval()\n",
        "    prediction = model(user_idx, anime_idx)\n",
        "    loss = criterion(prediction, target)\n",
        "    val_loss.append(loss.item())\n",
        "    print('Validation Loss: {:.4f}'.format(loss.item()))"
      ],
      "execution_count": 0,
      "outputs": []
    },
    {
      "cell_type": "code",
      "metadata": {
        "colab_type": "code",
        "id": "M5yiSGPJY8a5",
        "outputId": "9f8d2942-4001-4717-f73d-90cb102f3182",
        "colab": {
          "base_uri": "https://localhost:8080/",
          "height": 1000
        }
      },
      "source": [
        "%%time\n",
        "NUM_EPOCHS = 40  \n",
        "print('Train on {} samples, validate on {} samples'.format(len(rating_filtered_train), len(rating_filtered_val)))\n",
        "for epoch in range(NUM_EPOCHS):\n",
        "    epoch_start_time = time.time()\n",
        "    user_idx_train, anime_idx_train, target_train = ratingData(rating_filtered_train, shuffle=True)\n",
        "    train(user_idx_train, anime_idx_train, target_train, criterion, optimizer)\n",
        "    user_idx_val, anime_idx_val, target_val = ratingData(rating_filtered_val, shuffle=False)\n",
        "    validate(user_idx_val, anime_idx_val, target_val, criterion)\n",
        "    epoch_end_time = time.time() - epoch_start_time\n",
        "    print('Time taken for epoch {}: {:3f} seconds'.format(epoch+1, epoch_end_time))"
      ],
      "execution_count": 37,
      "outputs": [
        {
          "output_type": "stream",
          "text": [
            "Train on 4173495 samples, validate on 1252049 samples\n",
            "\n",
            "Epoch: 1/40\n",
            "Training Loss: 62.6178\tValidation Loss: 47.0630\n",
            "Time taken for epoch 1: 0.861281 seconds\n",
            "\n",
            "Epoch: 2/40\n",
            "Training Loss: 47.0328\tValidation Loss: 21.4187\n",
            "Time taken for epoch 2: 0.727348 seconds\n",
            "\n",
            "Epoch: 3/40\n",
            "Training Loss: 21.3278\tValidation Loss: 2.8579\n",
            "Time taken for epoch 3: 0.733209 seconds\n",
            "\n",
            "Epoch: 4/40\n",
            "Training Loss: 2.7441\tValidation Loss: 20.4575\n",
            "Time taken for epoch 4: 0.724337 seconds\n",
            "\n",
            "Epoch: 5/40\n",
            "Training Loss: 20.3862\tValidation Loss: 16.2132\n",
            "Time taken for epoch 5: 0.721673 seconds\n",
            "\n",
            "Epoch: 6/40\n",
            "Training Loss: 16.0875\tValidation Loss: 4.2710\n",
            "Time taken for epoch 6: 0.725876 seconds\n",
            "\n",
            "Epoch: 7/40\n",
            "Training Loss: 4.1046\tValidation Loss: 2.4357\n",
            "Time taken for epoch 7: 0.724271 seconds\n",
            "\n",
            "Epoch: 8/40\n",
            "Training Loss: 2.2722\tValidation Loss: 7.2048\n",
            "Time taken for epoch 8: 0.721262 seconds\n",
            "\n",
            "Epoch: 9/40\n",
            "Training Loss: 7.0636\tValidation Loss: 11.1926\n",
            "Time taken for epoch 9: 0.736721 seconds\n",
            "\n",
            "Epoch: 10/40\n",
            "Training Loss: 11.0685\tValidation Loss: 11.6088\n",
            "Time taken for epoch 10: 0.732077 seconds\n",
            "\n",
            "Epoch: 11/40\n",
            "Training Loss: 11.4881\tValidation Loss: 8.7904\n",
            "Time taken for epoch 11: 0.719113 seconds\n",
            "\n",
            "Epoch: 12/40\n",
            "Training Loss: 8.6594\tValidation Loss: 4.6172\n",
            "Time taken for epoch 12: 0.709622 seconds\n",
            "\n",
            "Epoch: 13/40\n",
            "Training Loss: 4.4676\tValidation Loss: 1.9072\n",
            "Time taken for epoch 13: 0.725358 seconds\n",
            "\n",
            "Epoch: 14/40\n",
            "Training Loss: 1.7407\tValidation Loss: 2.7945\n",
            "Time taken for epoch 14: 0.735742 seconds\n",
            "\n",
            "Epoch: 15/40\n",
            "Training Loss: 2.6252\tValidation Loss: 5.7645\n",
            "Time taken for epoch 15: 0.707666 seconds\n",
            "\n",
            "Epoch: 16/40\n",
            "Training Loss: 5.6100\tValidation Loss: 6.5443\n",
            "Time taken for epoch 16: 0.721750 seconds\n",
            "\n",
            "Epoch: 17/40\n",
            "Training Loss: 6.4093\tValidation Loss: 4.3122\n",
            "Time taken for epoch 17: 0.731478 seconds\n",
            "\n",
            "Epoch: 18/40\n",
            "Training Loss: 4.1872\tValidation Loss: 2.1139\n",
            "Time taken for epoch 18: 0.738178 seconds\n",
            "\n",
            "Epoch: 19/40\n",
            "Training Loss: 1.9897\tValidation Loss: 1.9856\n",
            "Time taken for epoch 19: 0.745428 seconds\n",
            "\n",
            "Epoch: 20/40\n",
            "Training Loss: 1.8600\tValidation Loss: 3.2735\n",
            "Time taken for epoch 20: 0.723061 seconds\n",
            "\n",
            "Epoch: 21/40\n",
            "Training Loss: 3.1473\tValidation Loss: 4.3693\n",
            "Time taken for epoch 21: 0.718475 seconds\n",
            "\n",
            "Epoch: 22/40\n",
            "Training Loss: 4.2425\tValidation Loss: 4.3376\n",
            "Time taken for epoch 22: 0.718435 seconds\n",
            "\n",
            "Epoch: 23/40\n",
            "Training Loss: 4.2079\tValidation Loss: 3.2819\n",
            "Time taken for epoch 23: 0.703914 seconds\n",
            "\n",
            "Epoch: 24/40\n",
            "Training Loss: 3.1461\tValidation Loss: 2.0603\n",
            "Time taken for epoch 24: 0.719402 seconds\n",
            "\n",
            "Epoch: 25/40\n",
            "Training Loss: 1.9151\tValidation Loss: 1.6620\n",
            "Time taken for epoch 25: 0.715973 seconds\n",
            "\n",
            "Epoch: 26/40\n",
            "Training Loss: 1.5057\tValidation Loss: 2.3094\n",
            "Time taken for epoch 26: 0.725183 seconds\n",
            "\n",
            "Epoch: 27/40\n",
            "Training Loss: 2.1434\tValidation Loss: 3.0696\n",
            "Time taken for epoch 27: 0.718656 seconds\n",
            "\n",
            "Epoch: 28/40\n",
            "Training Loss: 2.8990\tValidation Loss: 2.9413\n",
            "Time taken for epoch 28: 0.727695 seconds\n",
            "\n",
            "Epoch: 29/40\n",
            "Training Loss: 2.7732\tValidation Loss: 2.1470\n",
            "Time taken for epoch 29: 0.711302 seconds\n",
            "\n",
            "Epoch: 30/40\n",
            "Training Loss: 1.9865\tValidation Loss: 1.6397\n",
            "Time taken for epoch 30: 0.751604 seconds\n",
            "\n",
            "Epoch: 31/40\n",
            "Training Loss: 1.4890\tValidation Loss: 1.8252\n",
            "Time taken for epoch 31: 0.739511 seconds\n",
            "\n",
            "Epoch: 32/40\n",
            "Training Loss: 1.6835\tValidation Loss: 2.3073\n",
            "Time taken for epoch 32: 0.714193 seconds\n",
            "\n",
            "Epoch: 33/40\n",
            "Training Loss: 2.1718\tValidation Loss: 2.5183\n",
            "Time taken for epoch 33: 0.754622 seconds\n",
            "\n",
            "Epoch: 34/40\n",
            "Training Loss: 2.3858\tValidation Loss: 2.2659\n",
            "Time taken for epoch 34: 0.749529 seconds\n",
            "\n",
            "Epoch: 35/40\n",
            "Training Loss: 2.1337\tValidation Loss: 1.8150\n",
            "Time taken for epoch 35: 0.717827 seconds\n",
            "\n",
            "Epoch: 36/40\n",
            "Training Loss: 1.6811\tValidation Loss: 1.5962\n",
            "Time taken for epoch 36: 0.720289 seconds\n",
            "\n",
            "Epoch: 37/40\n",
            "Training Loss: 1.4594\tValidation Loss: 1.7659\n",
            "Time taken for epoch 37: 0.763837 seconds\n",
            "\n",
            "Epoch: 38/40\n",
            "Training Loss: 1.6250\tValidation Loss: 2.0256\n",
            "Time taken for epoch 38: 0.720239 seconds\n",
            "\n",
            "Epoch: 39/40\n",
            "Training Loss: 1.8796\tValidation Loss: 2.0057\n",
            "Time taken for epoch 39: 0.721992 seconds\n",
            "\n",
            "Epoch: 40/40\n",
            "Training Loss: 1.8549\tValidation Loss: 1.7501\n",
            "Time taken for epoch 40: 0.712363 seconds\n",
            "CPU times: user 25.4 s, sys: 3.71 s, total: 29.1 s\n",
            "Wall time: 29.2 s\n"
          ],
          "name": "stdout"
        }
      ]
    },
    {
      "cell_type": "markdown",
      "metadata": {
        "colab_type": "text",
        "id": "bIc8RZYQM_wd"
      },
      "source": [
        "## Model evaluation and prediction"
      ]
    },
    {
      "cell_type": "code",
      "metadata": {
        "colab_type": "code",
        "id": "t1zMqR5R9Kwe",
        "outputId": "85c13561-99c0-4b77-afd7-062307ba5ead",
        "colab": {
          "base_uri": "https://localhost:8080/",
          "height": 500
        }
      },
      "source": [
        "plt.figure(figsize=(10,8))\n",
        "plt.plot(train_loss, label='train')\n",
        "plt.plot(val_loss, label='val')\n",
        "plt.xlabel('Epoch')\n",
        "plt.ylabel('Loss')\n",
        "plt.legend()\n",
        "plt.show()"
      ],
      "execution_count": 38,
      "outputs": [
        {
          "output_type": "display_data",
          "data": {
            "image/png": "[encoded data removed]",
            "text/plain": [
              "<Figure size 720x576 with 1 Axes>"
            ]
          },
          "metadata": {
            "tags": []
          }
        }
      ]
    },
    {
      "cell_type": "code",
      "metadata": {
        "colab_type": "code",
        "id": "wTR9-v9kj2XR",
        "outputId": "743197da-4c7c-44ed-e44c-f2196c6bbe5a",
        "colab": {
          "base_uri": "https://localhost:8080/",
          "height": 442
        }
      },
      "source": [
        "model.eval()\n",
        "user_idx_test, anime_idx_test, target_test = ratingData(rating_filtered_test, shuffle=False)\n",
        "prediction = model(user_idx_test, anime_idx_test)\n",
        "results = pd.DataFrame({\n",
        "                        'target': target_test.cpu().detach().numpy(),\n",
        "                        'prediction': prediction.cpu().detach().numpy(),\n",
        "                        })\n",
        "show = 20\n",
        "print('Prediction on test set (only first {}/{} data are shown)\\n'.format(show, len(rating_filtered_test)))\n",
        "print(results.head(show))\n",
        "print('\\nLoss:\\t', criterion(prediction, target_test).item())"
      ],
      "execution_count": 39,
      "outputs": [
        {
          "output_type": "stream",
          "text": [
            "Prediction on test set (only first 20/536593 data are shown)\n",
            "\n",
            "    target  prediction\n",
            "0     10.0   11.657722\n",
            "1      9.0    8.583645\n",
            "2      7.0    7.474059\n",
            "3      8.0    6.482013\n",
            "4      4.0    7.269354\n",
            "5      8.0    7.532748\n",
            "6      9.0    7.729774\n",
            "7      8.0    8.878865\n",
            "8      8.0    8.587132\n",
            "9      9.0    8.634794\n",
            "10    10.0    9.658484\n",
            "11    10.0    9.109024\n",
            "12     7.0    6.497032\n",
            "13     7.0    7.659997\n",
            "14    10.0    8.888504\n",
            "15     7.0    7.768362\n",
            "16    10.0    8.972826\n",
            "17     9.0    9.424631\n",
            "18     8.0    7.705443\n",
            "19     9.0    7.568118\n",
            "\n",
            "Loss:\t 1.7421770095825195\n"
          ],
          "name": "stdout"
        }
      ]
    },
    {
      "cell_type": "markdown",
      "metadata": {
        "colab_type": "text",
        "id": "leoV4rMfUMbA"
      },
      "source": [
        "## Result"
      ]
    },
    {
      "cell_type": "code",
      "metadata": {
        "colab_type": "code",
        "id": "5ZbF8RDAULYN",
        "colab": {}
      },
      "source": [
        "# Get Recommendation\n",
        "animes_idx = torch.arange(num_anime).to(device)\n",
        "def getRecommendation(user_id, animes_idx, min_score, top_num, loose):\n",
        "    \"\"\"\n",
        "    Get top_num numbers of recommendation with predicted rating \n",
        "    at least min_score for a single user with user id = user_id.\n",
        "    If loose is set to True, then return randomly selected items \n",
        "    with predicted rating at least min_score, otherwise, return \n",
        "    items with top_num highest predicted rating.\n",
        "    \"\"\"\n",
        "    model.eval()\n",
        "    user_idx = user_id2idx[user_id]\n",
        "    user_idx = torch.tensor([user_idx]).to(device)\n",
        "    with torch.no_grad(): \n",
        "        pred = model(animes_idx, user_idx)\n",
        "    \n",
        "    pred = pred.cpu().numpy()\n",
        "    recommend = list(enumerate(pred))\n",
        "    recommend = [elm for elm in recommend if elm[1] > min_score]\n",
        "    if len(recommend) >= top_num:\n",
        "        if loose: \n",
        "            recommend = random.sample(recommend, top_num)\n",
        "        else:\n",
        "            recommend = sorted(recommend, key=lambda x: x[1], reverse=True)\n",
        "            recommend = recommend[0:top_num]\n",
        "    elif 0 < len(recommend) < top_num:\n",
        "        pass\n",
        "    else:\n",
        "        return []  \n",
        "    \n",
        "    output = []\n",
        "    for (idx, value) in recommend:\n",
        "        anime_id = anime_idx2id.get(idx)\n",
        "        name = anime_id2name.get(anime_id)\n",
        "        output.append((name, value))\n",
        "    return output \n",
        "        "
      ],
      "execution_count": 0,
      "outputs": []
    },
    {
      "cell_type": "code",
      "metadata": {
        "colab_type": "code",
        "id": "gpor03iSd3Zq",
        "outputId": "17767aca-bac6-4f38-9948-b52831de58a9",
        "colab": {
          "base_uri": "https://localhost:8080/",
          "height": 411
        }
      },
      "source": [
        "print('3 recommendations to user 1 to user 20 with corresponding predicted ratings\\n')\n",
        "for user_id in range(1,21):\n",
        "    if user_id in user_id2idx.keys():\n",
        "        print('user {}:'.format(user_id), getRecommendation(user_id, animes_idx, 9, 3, 1))"
      ],
      "execution_count": 41,
      "outputs": [
        {
          "output_type": "stream",
          "text": [
            "3 recommendations to user 1 to user 20 with corresponding predicted ratings\n",
            "\n",
            "user 1: [('Choboraunyopomi Gekijou Dai Ni Maku Ai Mai Mii: Mousou Catastrophe Special', 11.059573), ('Hello!! Kiniro Mosaic', 9.231737), ('JU Chuuko Jidousha Hanbaishi x Peeping Life', 10.5176935)]\n",
            "user 2: [('Megumi to Taiyou: Kajuu Gummi Tweet Love Story', 9.254423), ('Kyoto Animation: Kasa-hen', 10.204439), ('Detective Conan Movie 03: The Last Wizard of the Century', 9.356138)]\n",
            "user 3: [('Aoi Blink', 10.455996), ('Stitch!: Itazura Alien no Daibouken', 9.133165), ('HenSemi (TV)', 9.086636)]\n",
            "user 4: [('Hello Kitty no Alps no Shoujo Heidi', 9.419233), ('Futari wa Precure: Max Heart Movie 2 - Yukizora no Tomodachi', 10.018498), ('Space Travelers The Animation', 9.506765)]\n",
            "user 5: [('Tottoko Hamtarou Movie 3: Ham Ham Grand Prix Aurora Tani no Kiseki - Ribon-chan Kiki Ippatsu!', 9.117214), ('Doraemon (1979)', 9.597187), ('Sola Specials', 9.153886)]\n",
            "user 6: [('Ano Natsu de Matteru: Bokutachi wa Koukou Saigo no Natsu wo Sugoshinagara, Ano Natsu de Matteiru.', 9.288788), ('91 Days Recap', 9.509718), ('Mogu Mogu', 9.28863)]\n",
            "user 7: [('Danganronpa 3: The End of Kibougamine Gakuen - Zetsubou-hen', 9.512702), ('Itsudatte My Santa!', 9.28381), ('Mai-HiME Specials', 9.187969)]\n",
            "user 8: [('Taiho Shichau zo Special', 10.031443), ('Uchuu no Kishi Tekkaman Blade OVA: Burning Clock', 9.7173), ('Dareka no Manazashi', 9.235358)]\n",
            "user 9: [('Choubatsu Yobikou', 10.954374), ('Reideen', 9.705685), ('Maya no Isshou', 9.08443)]\n",
            "user 10: [('Sousei Kishi Gaiarth', 9.83881), ('Layton Kyouju to Eien no Utahime', 9.618927), ('Kyoufu Densetsu Kaiki! Frankenstein', 11.169281)]\n",
            "user 11: [('Oda Nobuna no Yabou Soushuuhen', 9.461777), ('Hiatari Ryoukou! Yume no Naka ni Kimi ga Ita', 9.565795), ('Happy ComeCome', 9.165184)]\n",
            "user 12: [('Just Awake', 9.382444), ('Injuu Daikessen', 9.131755), ('Gekiganger 3: The Movie', 9.108656)]\n",
            "user 13: [('To LOVE-Ru OVA', 9.01385), ('Ninja Mono', 9.770855), ('Tales of Zestiria the X: Saiyaku no Jidai', 9.2386055)]\n",
            "user 14: [('Ganbare!! Tabuchi-kun!! Aa Tsuppari Jinsei', 9.378393), ('Heart no Kuni no Alice: Wonderful Wonder World', 10.370607), ('Space Travelers The Animation', 9.598686)]\n",
            "user 15: [('Salad Land', 9.442249), ('Ningyohime Marina no Bouken', 9.249783), ('Soap no Moko-chan', 9.877495)]\n",
            "user 16: [('Kyoto Animation: Hana-hen', 9.350564), ('Ao Haru Ride OVA', 9.254974), ('Sei Brunehilde Gakuen Shoujo Kishidan to Junpaku no Panty The Animation', 9.22085)]\n",
            "user 17: [('Kyou, Koi wo Hajimemasu', 9.675592), ('Nitaboh', 10.306807), ('Eikoku Koi Monogatari Emma', 9.940154)]\n",
            "user 18: [('Nemure Omoi Ko, Sora no Shitone ni', 10.1935005), ('Karigurashi no Arrietty', 10.551484), ('Kinnikuman: Kinnikusei Oui Soudatsu-hen', 9.292757)]\n",
            "user 19: [('Haikyuu!! Movie 1: Owari to Hajimari', 9.216253), ('Kaminari Boy Pikkaribee★', 9.504219), ('Aoi Sekai no Chuushin de', 10.306587)]\n",
            "user 20: [('Hitou Meguri Kakure Yu: Mao-hen', 9.262777), ('Kentoushi', 9.155443), ('Wake Up, Girls!', 9.259251)]\n"
          ],
          "name": "stdout"
        }
      ]
    }
  ]
}