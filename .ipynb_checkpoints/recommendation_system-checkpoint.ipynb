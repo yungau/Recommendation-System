{
 "cells": [
  {
   "cell_type": "markdown",
   "metadata": {
    "colab_type": "text",
    "id": "O2uNs1wnfApG"
   },
   "source": [
    "# Recommendation System\n"
   ]
  },
  {
   "cell_type": "markdown",
   "metadata": {
    "colab_type": "text",
    "id": "SfvbrjbyXc8E"
   },
   "source": [
    "## Dataset description\n",
    "\n",
    "This data set contains information on user preference data from 73,516 users on 12,294 anime. Each user is able to add anime to their completed list and give it a rating and this data set is a compilation of those ratings.\n"
   ]
  },
  {
   "cell_type": "markdown",
   "metadata": {
    "colab_type": "text",
    "id": "fbl73ed0a_eV"
   },
   "source": [
    "## Dataset description\n",
    "\n",
    "Anime.csv\n",
    "\n",
    "\n",
    "*   anime_id - myanimelist.net's unique id identifying an anime.\n",
    "*   name - full name of anime.\n",
    "*   genre - comma separated list of genres for this anime.\n",
    "*   type - movie, TV, OVA, etc.\n",
    "*   episodes - how many episodes in this show. (1 if movie).\n",
    "*   rating - average rating out of 10 for this anime.\n",
    "*   members - number of community members that are in this anime's \"group\".\n",
    "\n",
    "Rating.csv\n",
    "*   user_id - non identifiable randomly generated user id.\n",
    "*   anime_id - the anime that this user has rated.\n",
    "*   rating - rating out of 10 this user has assigned (-1 if the user watched it but didn't assign a rating).\n",
    "\n",
    "[details](https://www.kaggle.com/CooperUnion/anime-recommendations-database)"
   ]
  },
  {
   "cell_type": "markdown",
   "metadata": {
    "colab_type": "text",
    "id": "hMMW2xKSFChH"
   },
   "source": [
    "**Our goal is to build a recommender system to make recommendations to user based on their rating records.**"
   ]
  },
  {
   "cell_type": "markdown",
   "metadata": {
    "colab_type": "text",
    "id": "vsfFTWO9Fj2m"
   },
   "source": [
    "## Importing modules and data"
   ]
  },
  {
   "cell_type": "code",
   "execution_count": 1,
   "metadata": {
    "colab": {
     "base_uri": "https://localhost:8080/",
     "height": 209
    },
    "colab_type": "code",
    "id": "aY5RqUTNYVv4",
    "outputId": "12c227ac-a5f0-4a71-829a-70912a8dfd83"
   },
   "outputs": [
    {
     "name": "stdout",
     "output_type": "stream",
     "text": [
      "Go to this URL in a browser: https://accounts.google.com/o/oauth2/auth?client_id=947318989803-6bn6qk8qdgf4n4g3pfee6491hc0brc4i.apps.googleusercontent.com&redirect_uri=urn%3Aietf%3Awg%3Aoauth%3A2.0%3Aoob&scope=email%20https%3A%2F%2Fwww.googleapis.com%2Fauth%2Fdocs.test%20https%3A%2F%2Fwww.googleapis.com%2Fauth%2Fdrive%20https%3A%2F%2Fwww.googleapis.com%2Fauth%2Fdrive.photos.readonly%20https%3A%2F%2Fwww.googleapis.com%2Fauth%2Fpeopleapi.readonly&response_type=code\n",
      "\n",
      "Enter your authorization code:\n",
      "··········\n",
      "Mounted at /content/drive\n"
     ]
    }
   ],
   "source": [
    "# Run this cell to mount your Google Drive.\n",
    "from google.colab import drive\n",
    "drive.mount('/content/drive')"
   ]
  },
  {
   "cell_type": "code",
   "execution_count": null,
   "metadata": {
    "colab": {},
    "colab_type": "code",
    "id": "Gv6bX_mIb8wt"
   },
   "outputs": [],
   "source": [
    "import pandas as pd\n",
    "import numpy as np\n",
    "import matplotlib.pyplot as plt\n",
    "import seaborn as sns\n",
    "import time\n",
    "import torch\n",
    "import torch.nn as nn\n",
    "import random\n",
    "from torch.utils.data import Dataset, DataLoader\n",
    "from sklearn.model_selection import train_test_split\n",
    "import sklearn.utils"
   ]
  },
  {
   "cell_type": "code",
   "execution_count": null,
   "metadata": {
    "colab": {},
    "colab_type": "code",
    "id": "smhlsvpLjYwi"
   },
   "outputs": [],
   "source": [
    "USE_CUDA = torch.cuda.is_available()\n",
    "device = torch.device(\"cuda\" if USE_CUDA else \"cpu\")"
   ]
  },
  {
   "cell_type": "code",
   "execution_count": null,
   "metadata": {
    "colab": {},
    "colab_type": "code",
    "id": "LD8lp3mHcEpP"
   },
   "outputs": [],
   "source": [
    "anime = pd.read_csv('./drive/My Drive/Colab Notebooks/anime-recommendations-database/anime.csv')\n",
    "rating = pd.read_csv('./drive/My Drive/Colab Notebooks/anime-recommendations-database/rating.csv')"
   ]
  },
  {
   "cell_type": "markdown",
   "metadata": {
    "colab_type": "text",
    "id": "u5bguRGefQmg"
   },
   "source": [
    "## Exploring the data"
   ]
  },
  {
   "cell_type": "code",
   "execution_count": null,
   "metadata": {
    "colab": {
     "base_uri": "https://localhost:8080/",
     "height": 268
    },
    "colab_type": "code",
    "id": "9WWjOJtjdovG",
    "outputId": "56c17ad8-c53e-4cd5-c805-a8ead64ac9a0"
   },
   "outputs": [
    {
     "name": "stdout",
     "output_type": "stream",
     "text": [
      "<class 'pandas.core.frame.DataFrame'>\n",
      "RangeIndex: 12294 entries, 0 to 12293\n",
      "Data columns (total 7 columns):\n",
      "anime_id    12294 non-null int64\n",
      "name        12294 non-null object\n",
      "genre       12232 non-null object\n",
      "type        12269 non-null object\n",
      "episodes    12294 non-null object\n",
      "rating      12064 non-null float64\n",
      "members     12294 non-null int64\n",
      "dtypes: float64(1), int64(2), object(4)\n",
      "memory usage: 672.4+ KB\n"
     ]
    }
   ],
   "source": [
    "anime.info()"
   ]
  },
  {
   "cell_type": "code",
   "execution_count": null,
   "metadata": {
    "colab": {
     "base_uri": "https://localhost:8080/",
     "height": 199
    },
    "colab_type": "code",
    "id": "5uQ7VUyLeC1a",
    "outputId": "473416bd-bbb6-4f42-99dc-0e4c4976cce9"
   },
   "outputs": [
    {
     "name": "stdout",
     "output_type": "stream",
     "text": [
      "<class 'pandas.core.frame.DataFrame'>\n",
      "RangeIndex: 7813737 entries, 0 to 7813736\n",
      "Data columns (total 3 columns):\n",
      "user_id     int64\n",
      "anime_id    int64\n",
      "rating      int64\n",
      "dtypes: int64(3)\n",
      "memory usage: 178.8 MB\n"
     ]
    }
   ],
   "source": [
    "rating.info()"
   ]
  },
  {
   "cell_type": "code",
   "execution_count": null,
   "metadata": {
    "colab": {
     "base_uri": "https://localhost:8080/",
     "height": 372
    },
    "colab_type": "code",
    "id": "K5m9KsX0cjVs",
    "outputId": "f8f45362-80e8-4193-b740-a2ffcddf04db"
   },
   "outputs": [
    {
     "data": {
      "text/html": [
       "<div>\n",
       "<style scoped>\n",
       "    .dataframe tbody tr th:only-of-type {\n",
       "        vertical-align: middle;\n",
       "    }\n",
       "\n",
       "    .dataframe tbody tr th {\n",
       "        vertical-align: top;\n",
       "    }\n",
       "\n",
       "    .dataframe thead th {\n",
       "        text-align: right;\n",
       "    }\n",
       "</style>\n",
       "<table border=\"1\" class=\"dataframe\">\n",
       "  <thead>\n",
       "    <tr style=\"text-align: right;\">\n",
       "      <th></th>\n",
       "      <th>anime_id</th>\n",
       "      <th>name</th>\n",
       "      <th>genre</th>\n",
       "      <th>type</th>\n",
       "      <th>episodes</th>\n",
       "      <th>rating</th>\n",
       "      <th>members</th>\n",
       "    </tr>\n",
       "  </thead>\n",
       "  <tbody>\n",
       "    <tr>\n",
       "      <th>0</th>\n",
       "      <td>32281</td>\n",
       "      <td>Kimi no Na wa.</td>\n",
       "      <td>Drama, Romance, School, Supernatural</td>\n",
       "      <td>Movie</td>\n",
       "      <td>1</td>\n",
       "      <td>9.37</td>\n",
       "      <td>200630</td>\n",
       "    </tr>\n",
       "    <tr>\n",
       "      <th>1</th>\n",
       "      <td>5114</td>\n",
       "      <td>Fullmetal Alchemist: Brotherhood</td>\n",
       "      <td>Action, Adventure, Drama, Fantasy, Magic, Mili...</td>\n",
       "      <td>TV</td>\n",
       "      <td>64</td>\n",
       "      <td>9.26</td>\n",
       "      <td>793665</td>\n",
       "    </tr>\n",
       "    <tr>\n",
       "      <th>2</th>\n",
       "      <td>28977</td>\n",
       "      <td>Gintama°</td>\n",
       "      <td>Action, Comedy, Historical, Parody, Samurai, S...</td>\n",
       "      <td>TV</td>\n",
       "      <td>51</td>\n",
       "      <td>9.25</td>\n",
       "      <td>114262</td>\n",
       "    </tr>\n",
       "    <tr>\n",
       "      <th>3</th>\n",
       "      <td>9253</td>\n",
       "      <td>Steins;Gate</td>\n",
       "      <td>Sci-Fi, Thriller</td>\n",
       "      <td>TV</td>\n",
       "      <td>24</td>\n",
       "      <td>9.17</td>\n",
       "      <td>673572</td>\n",
       "    </tr>\n",
       "    <tr>\n",
       "      <th>4</th>\n",
       "      <td>9969</td>\n",
       "      <td>Gintama&amp;#039;</td>\n",
       "      <td>Action, Comedy, Historical, Parody, Samurai, S...</td>\n",
       "      <td>TV</td>\n",
       "      <td>51</td>\n",
       "      <td>9.16</td>\n",
       "      <td>151266</td>\n",
       "    </tr>\n",
       "  </tbody>\n",
       "</table>\n",
       "</div>"
      ],
      "text/plain": [
       "   anime_id                              name  ... rating members\n",
       "0     32281                    Kimi no Na wa.  ...   9.37  200630\n",
       "1      5114  Fullmetal Alchemist: Brotherhood  ...   9.26  793665\n",
       "2     28977                          Gintama°  ...   9.25  114262\n",
       "3      9253                       Steins;Gate  ...   9.17  673572\n",
       "4      9969                     Gintama&#039;  ...   9.16  151266\n",
       "\n",
       "[5 rows x 7 columns]"
      ]
     },
     "execution_count": 6,
     "metadata": {
      "tags": []
     },
     "output_type": "execute_result"
    }
   ],
   "source": [
    "anime.head()"
   ]
  },
  {
   "cell_type": "code",
   "execution_count": null,
   "metadata": {
    "colab": {
     "base_uri": "https://localhost:8080/",
     "height": 248
    },
    "colab_type": "code",
    "id": "kyhHk3VLduAm",
    "outputId": "5622125e-b89a-42fd-8f2c-98e1c94b21a4"
   },
   "outputs": [
    {
     "data": {
      "text/html": [
       "<div>\n",
       "<style scoped>\n",
       "    .dataframe tbody tr th:only-of-type {\n",
       "        vertical-align: middle;\n",
       "    }\n",
       "\n",
       "    .dataframe tbody tr th {\n",
       "        vertical-align: top;\n",
       "    }\n",
       "\n",
       "    .dataframe thead th {\n",
       "        text-align: right;\n",
       "    }\n",
       "</style>\n",
       "<table border=\"1\" class=\"dataframe\">\n",
       "  <thead>\n",
       "    <tr style=\"text-align: right;\">\n",
       "      <th></th>\n",
       "      <th>user_id</th>\n",
       "      <th>anime_id</th>\n",
       "      <th>rating</th>\n",
       "    </tr>\n",
       "  </thead>\n",
       "  <tbody>\n",
       "    <tr>\n",
       "      <th>0</th>\n",
       "      <td>1</td>\n",
       "      <td>20</td>\n",
       "      <td>-1</td>\n",
       "    </tr>\n",
       "    <tr>\n",
       "      <th>1</th>\n",
       "      <td>1</td>\n",
       "      <td>24</td>\n",
       "      <td>-1</td>\n",
       "    </tr>\n",
       "    <tr>\n",
       "      <th>2</th>\n",
       "      <td>1</td>\n",
       "      <td>79</td>\n",
       "      <td>-1</td>\n",
       "    </tr>\n",
       "    <tr>\n",
       "      <th>3</th>\n",
       "      <td>1</td>\n",
       "      <td>226</td>\n",
       "      <td>-1</td>\n",
       "    </tr>\n",
       "    <tr>\n",
       "      <th>4</th>\n",
       "      <td>1</td>\n",
       "      <td>241</td>\n",
       "      <td>-1</td>\n",
       "    </tr>\n",
       "  </tbody>\n",
       "</table>\n",
       "</div>"
      ],
      "text/plain": [
       "   user_id  anime_id  rating\n",
       "0        1        20      -1\n",
       "1        1        24      -1\n",
       "2        1        79      -1\n",
       "3        1       226      -1\n",
       "4        1       241      -1"
      ]
     },
     "execution_count": 7,
     "metadata": {
      "tags": []
     },
     "output_type": "execute_result"
    }
   ],
   "source": [
    "rating.head()"
   ]
  },
  {
   "cell_type": "code",
   "execution_count": null,
   "metadata": {
    "colab": {
     "base_uri": "https://localhost:8080/",
     "height": 344
    },
    "colab_type": "code",
    "id": "0jojkwUkdldq",
    "outputId": "bde8316c-449e-4784-ba9a-e1be949b5551"
   },
   "outputs": [
    {
     "data": {
      "text/html": [
       "<div>\n",
       "<style scoped>\n",
       "    .dataframe tbody tr th:only-of-type {\n",
       "        vertical-align: middle;\n",
       "    }\n",
       "\n",
       "    .dataframe tbody tr th {\n",
       "        vertical-align: top;\n",
       "    }\n",
       "\n",
       "    .dataframe thead th {\n",
       "        text-align: right;\n",
       "    }\n",
       "</style>\n",
       "<table border=\"1\" class=\"dataframe\">\n",
       "  <thead>\n",
       "    <tr style=\"text-align: right;\">\n",
       "      <th></th>\n",
       "      <th>anime_id</th>\n",
       "      <th>rating</th>\n",
       "      <th>members</th>\n",
       "    </tr>\n",
       "  </thead>\n",
       "  <tbody>\n",
       "    <tr>\n",
       "      <th>count</th>\n",
       "      <td>12294.000000</td>\n",
       "      <td>12064.000000</td>\n",
       "      <td>1.229400e+04</td>\n",
       "    </tr>\n",
       "    <tr>\n",
       "      <th>mean</th>\n",
       "      <td>14058.221653</td>\n",
       "      <td>6.473902</td>\n",
       "      <td>1.807134e+04</td>\n",
       "    </tr>\n",
       "    <tr>\n",
       "      <th>std</th>\n",
       "      <td>11455.294701</td>\n",
       "      <td>1.026746</td>\n",
       "      <td>5.482068e+04</td>\n",
       "    </tr>\n",
       "    <tr>\n",
       "      <th>min</th>\n",
       "      <td>1.000000</td>\n",
       "      <td>1.670000</td>\n",
       "      <td>5.000000e+00</td>\n",
       "    </tr>\n",
       "    <tr>\n",
       "      <th>25%</th>\n",
       "      <td>3484.250000</td>\n",
       "      <td>5.880000</td>\n",
       "      <td>2.250000e+02</td>\n",
       "    </tr>\n",
       "    <tr>\n",
       "      <th>50%</th>\n",
       "      <td>10260.500000</td>\n",
       "      <td>6.570000</td>\n",
       "      <td>1.550000e+03</td>\n",
       "    </tr>\n",
       "    <tr>\n",
       "      <th>75%</th>\n",
       "      <td>24794.500000</td>\n",
       "      <td>7.180000</td>\n",
       "      <td>9.437000e+03</td>\n",
       "    </tr>\n",
       "    <tr>\n",
       "      <th>max</th>\n",
       "      <td>34527.000000</td>\n",
       "      <td>10.000000</td>\n",
       "      <td>1.013917e+06</td>\n",
       "    </tr>\n",
       "  </tbody>\n",
       "</table>\n",
       "</div>"
      ],
      "text/plain": [
       "           anime_id        rating       members\n",
       "count  12294.000000  12064.000000  1.229400e+04\n",
       "mean   14058.221653      6.473902  1.807134e+04\n",
       "std    11455.294701      1.026746  5.482068e+04\n",
       "min        1.000000      1.670000  5.000000e+00\n",
       "25%     3484.250000      5.880000  2.250000e+02\n",
       "50%    10260.500000      6.570000  1.550000e+03\n",
       "75%    24794.500000      7.180000  9.437000e+03\n",
       "max    34527.000000     10.000000  1.013917e+06"
      ]
     },
     "execution_count": 8,
     "metadata": {
      "tags": []
     },
     "output_type": "execute_result"
    }
   ],
   "source": [
    "anime.describe()"
   ]
  },
  {
   "cell_type": "code",
   "execution_count": null,
   "metadata": {
    "colab": {
     "base_uri": "https://localhost:8080/",
     "height": 344
    },
    "colab_type": "code",
    "id": "qkzHLW0oeBEW",
    "outputId": "52fe92d8-f3ee-48cd-ec8c-239d1b9b8eab"
   },
   "outputs": [
    {
     "data": {
      "text/html": [
       "<div>\n",
       "<style scoped>\n",
       "    .dataframe tbody tr th:only-of-type {\n",
       "        vertical-align: middle;\n",
       "    }\n",
       "\n",
       "    .dataframe tbody tr th {\n",
       "        vertical-align: top;\n",
       "    }\n",
       "\n",
       "    .dataframe thead th {\n",
       "        text-align: right;\n",
       "    }\n",
       "</style>\n",
       "<table border=\"1\" class=\"dataframe\">\n",
       "  <thead>\n",
       "    <tr style=\"text-align: right;\">\n",
       "      <th></th>\n",
       "      <th>user_id</th>\n",
       "      <th>anime_id</th>\n",
       "      <th>rating</th>\n",
       "    </tr>\n",
       "  </thead>\n",
       "  <tbody>\n",
       "    <tr>\n",
       "      <th>count</th>\n",
       "      <td>7.813737e+06</td>\n",
       "      <td>7.813737e+06</td>\n",
       "      <td>7.813737e+06</td>\n",
       "    </tr>\n",
       "    <tr>\n",
       "      <th>mean</th>\n",
       "      <td>3.672796e+04</td>\n",
       "      <td>8.909072e+03</td>\n",
       "      <td>6.144030e+00</td>\n",
       "    </tr>\n",
       "    <tr>\n",
       "      <th>std</th>\n",
       "      <td>2.099795e+04</td>\n",
       "      <td>8.883950e+03</td>\n",
       "      <td>3.727800e+00</td>\n",
       "    </tr>\n",
       "    <tr>\n",
       "      <th>min</th>\n",
       "      <td>1.000000e+00</td>\n",
       "      <td>1.000000e+00</td>\n",
       "      <td>-1.000000e+00</td>\n",
       "    </tr>\n",
       "    <tr>\n",
       "      <th>25%</th>\n",
       "      <td>1.897400e+04</td>\n",
       "      <td>1.240000e+03</td>\n",
       "      <td>6.000000e+00</td>\n",
       "    </tr>\n",
       "    <tr>\n",
       "      <th>50%</th>\n",
       "      <td>3.679100e+04</td>\n",
       "      <td>6.213000e+03</td>\n",
       "      <td>7.000000e+00</td>\n",
       "    </tr>\n",
       "    <tr>\n",
       "      <th>75%</th>\n",
       "      <td>5.475700e+04</td>\n",
       "      <td>1.409300e+04</td>\n",
       "      <td>9.000000e+00</td>\n",
       "    </tr>\n",
       "    <tr>\n",
       "      <th>max</th>\n",
       "      <td>7.351600e+04</td>\n",
       "      <td>3.451900e+04</td>\n",
       "      <td>1.000000e+01</td>\n",
       "    </tr>\n",
       "  </tbody>\n",
       "</table>\n",
       "</div>"
      ],
      "text/plain": [
       "            user_id      anime_id        rating\n",
       "count  7.813737e+06  7.813737e+06  7.813737e+06\n",
       "mean   3.672796e+04  8.909072e+03  6.144030e+00\n",
       "std    2.099795e+04  8.883950e+03  3.727800e+00\n",
       "min    1.000000e+00  1.000000e+00 -1.000000e+00\n",
       "25%    1.897400e+04  1.240000e+03  6.000000e+00\n",
       "50%    3.679100e+04  6.213000e+03  7.000000e+00\n",
       "75%    5.475700e+04  1.409300e+04  9.000000e+00\n",
       "max    7.351600e+04  3.451900e+04  1.000000e+01"
      ]
     },
     "execution_count": 9,
     "metadata": {
      "tags": []
     },
     "output_type": "execute_result"
    }
   ],
   "source": [
    "rating.describe()"
   ]
  },
  {
   "cell_type": "code",
   "execution_count": null,
   "metadata": {
    "colab": {
     "base_uri": "https://localhost:8080/",
     "height": 199
    },
    "colab_type": "code",
    "id": "HxAYUYmDdqo_",
    "outputId": "be4e80a1-a0c8-41fb-c6fa-4f38ba15fc8c"
   },
   "outputs": [
    {
     "data": {
      "text/plain": [
       "anime_id      0\n",
       "name          0\n",
       "genre        62\n",
       "type         25\n",
       "episodes      0\n",
       "rating      230\n",
       "members       0\n",
       "dtype: int64"
      ]
     },
     "execution_count": 10,
     "metadata": {
      "tags": []
     },
     "output_type": "execute_result"
    }
   ],
   "source": [
    "anime.isna().sum()"
   ]
  },
  {
   "cell_type": "code",
   "execution_count": null,
   "metadata": {
    "colab": {
     "base_uri": "https://localhost:8080/",
     "height": 128
    },
    "colab_type": "code",
    "id": "Jsj5LMqmeEu3",
    "outputId": "d1c742b1-e31e-48fa-a114-d1a569c1543c"
   },
   "outputs": [
    {
     "data": {
      "text/plain": [
       "user_id     0\n",
       "anime_id    0\n",
       "rating      0\n",
       "dtype: int64"
      ]
     },
     "execution_count": 11,
     "metadata": {
      "tags": []
     },
     "output_type": "execute_result"
    }
   ],
   "source": [
    "rating.isna().sum()"
   ]
  },
  {
   "cell_type": "code",
   "execution_count": null,
   "metadata": {
    "colab": {
     "base_uri": "https://localhost:8080/",
     "height": 76
    },
    "colab_type": "code",
    "id": "jpHJ2i8zgigP",
    "outputId": "d54bfee7-a259-4f61-d72f-70557662ff12"
   },
   "outputs": [
    {
     "name": "stdout",
     "output_type": "stream",
     "text": [
      "Number of animes in the dataset:  (12294,)\n"
     ]
    }
   ],
   "source": [
    "print('Number of animes in the dataset: ', anime.anime_id.unique().shape)"
   ]
  },
  {
   "cell_type": "code",
   "execution_count": null,
   "metadata": {
    "colab": {
     "base_uri": "https://localhost:8080/",
     "height": 303
    },
    "colab_type": "code",
    "id": "VSAZKJnUeHfj",
    "outputId": "9171e9fb-fc79-4c2b-fdc3-37a382ae9b8d"
   },
   "outputs": [
    {
     "data": {
      "image/png": "[encoded data removed]",
      "text/plain": [
       "<Figure size 432x288 with 1 Axes>"
      ]
     },
     "metadata": {
      "tags": []
     },
     "output_type": "display_data"
    }
   ],
   "source": [
    "anime_types = anime.type.value_counts()\n",
    "plt.bar(x=anime_types.index, height = anime_types.values)\n",
    "plt.xlabel('Anime Types')\n",
    "plt.ylabel('Anime Count')\n",
    "plt.show()"
   ]
  },
  {
   "cell_type": "code",
   "execution_count": null,
   "metadata": {
    "colab": {
     "base_uri": "https://localhost:8080/",
     "height": 303
    },
    "colab_type": "code",
    "id": "tR0WUTFVg6LH",
    "outputId": "04c0e26d-8f98-407c-8696-d14b1bc45afb"
   },
   "outputs": [
    {
     "data": {
      "image/png": "[encoded data removed]",
      "text/plain": [
       "<Figure size 432x288 with 1 Axes>"
      ]
     },
     "metadata": {
      "tags": []
     },
     "output_type": "display_data"
    }
   ],
   "source": [
    "anime_types_rating = anime.groupby('type')['rating'].mean().sort_values(ascending=False)\n",
    "plt.bar(x=anime_types_rating.index, height=anime_types_rating.values)\n",
    "plt.xlabel('Anime Type')\n",
    "plt.ylabel('Anime Average Rating')\n",
    "plt.show()"
   ]
  },
  {
   "cell_type": "code",
   "execution_count": null,
   "metadata": {
    "colab": {},
    "colab_type": "code",
    "id": "J2Zo_Va6jmbx"
   },
   "outputs": [],
   "source": [
    "anime_genre = anime.genre.dropna().apply(lambda x: set(x.split(','))).values\n",
    "genres = dict()\n",
    "for genre in anime_genre:\n",
    "    for g in genre:\n",
    "        if genres.get(g.strip()) == None:\n",
    "            genres[g.strip()] = 0\n",
    "        else:\n",
    "            genres[g.strip()] += 1"
   ]
  },
  {
   "cell_type": "code",
   "execution_count": null,
   "metadata": {
    "colab": {},
    "colab_type": "code",
    "id": "vfkb7tmTtL3r"
   },
   "outputs": [],
   "source": [
    "genres_df = pd.DataFrame.from_dict(genres, orient='index').reset_index().rename(columns={'index': 'genre', 0:'count'})\n",
    "genres_df = genres_df.sort_values(by='count', ascending=False)"
   ]
  },
  {
   "cell_type": "code",
   "execution_count": null,
   "metadata": {
    "colab": {
     "base_uri": "https://localhost:8080/",
     "height": 738
    },
    "colab_type": "code",
    "id": "7XIrbncad-Yk",
    "outputId": "7cbd596f-2e4d-4a51-a264-29c9ea4fc76c"
   },
   "outputs": [
    {
     "data": {
      "image/png": "[encoded data removed]",
      "text/plain": [
       "<Figure size 576x864 with 1 Axes>"
      ]
     },
     "metadata": {
      "tags": []
     },
     "output_type": "display_data"
    }
   ],
   "source": [
    "figure, ax = plt.subplots(figsize=(8, 12))\n",
    "sns.barplot(x='count', y='genre', data=genres_df)\n",
    "ax.set(ylabel='Genre', xlabel='Anime Count')\n",
    "plt.show()"
   ]
  },
  {
   "cell_type": "code",
   "execution_count": null,
   "metadata": {
    "colab": {
     "base_uri": "https://localhost:8080/",
     "height": 444
    },
    "colab_type": "code",
    "id": "kxzvLxJ5gt_M",
    "outputId": "afea55aa-d1d7-4e8f-a9cd-d689d5b38a79"
   },
   "outputs": [
    {
     "data": {
      "image/png": "[encoded data removed]",
      "text/plain": [
       "<Figure size 576x432 with 1 Axes>"
      ]
     },
     "metadata": {
      "tags": []
     },
     "output_type": "display_data"
    }
   ],
   "source": [
    "plt.figure(figsize=(8,6))\n",
    "plt.scatter(anime.index, anime.rating, s=1)\n",
    "plt.xlabel('Index')\n",
    "plt.ylabel('Anime Rating')\n",
    "plt.title('Rating of Animes')\n",
    "plt.show()"
   ]
  },
  {
   "cell_type": "code",
   "execution_count": null,
   "metadata": {
    "colab": {
     "base_uri": "https://localhost:8080/",
     "height": 76
    },
    "colab_type": "code",
    "id": "dRlKAnY8_rQM",
    "outputId": "59050019-6656-448d-e246-074507a11032"
   },
   "outputs": [
    {
     "name": "stdout",
     "output_type": "stream",
     "text": [
      "Number of users:  73515\n"
     ]
    }
   ],
   "source": [
    "num_user = rating.user_id.unique().shape[0]\n",
    "print('Number of users: ', num_user)"
   ]
  },
  {
   "cell_type": "code",
   "execution_count": null,
   "metadata": {
    "colab": {
     "base_uri": "https://localhost:8080/",
     "height": 76
    },
    "colab_type": "code",
    "id": "YXRb2RV0SSIo",
    "outputId": "3659d80c-d4a0-4922-b1ce-a45f4874033a"
   },
   "outputs": [
    {
     "name": "stdout",
     "output_type": "stream",
     "text": [
      "Number of animes have been rated:  11200\n"
     ]
    }
   ],
   "source": [
    "animes_valid = rating.anime_id.unique()\n",
    "num_anime = animes_valid.shape[0]\n",
    "print('Number of animes have been rated: ', num_anime)"
   ]
  },
  {
   "cell_type": "code",
   "execution_count": null,
   "metadata": {
    "colab": {},
    "colab_type": "code",
    "id": "IU3qbOPpSZMY"
   },
   "outputs": [],
   "source": [
    "merged_df = pd.merge(anime, rating, on='anime_id')"
   ]
  },
  {
   "cell_type": "code",
   "execution_count": 6,
   "metadata": {
    "colab": {
     "base_uri": "https://localhost:8080/",
     "height": 512
    },
    "colab_type": "code",
    "id": "kcTfbUuQkbnP",
    "outputId": "18d2bf57-eb33-4e2c-89d7-73ea9d098315"
   },
   "outputs": [
    {
     "data": {
      "text/html": [
       "<div>\n",
       "<style scoped>\n",
       "    .dataframe tbody tr th:only-of-type {\n",
       "        vertical-align: middle;\n",
       "    }\n",
       "\n",
       "    .dataframe tbody tr th {\n",
       "        vertical-align: top;\n",
       "    }\n",
       "\n",
       "    .dataframe thead th {\n",
       "        text-align: right;\n",
       "    }\n",
       "</style>\n",
       "<table border=\"1\" class=\"dataframe\">\n",
       "  <thead>\n",
       "    <tr style=\"text-align: right;\">\n",
       "      <th></th>\n",
       "      <th>anime_id</th>\n",
       "      <th>name</th>\n",
       "      <th>genre</th>\n",
       "      <th>type</th>\n",
       "      <th>episodes</th>\n",
       "      <th>rating_x</th>\n",
       "      <th>members</th>\n",
       "      <th>user_id</th>\n",
       "      <th>rating_y</th>\n",
       "    </tr>\n",
       "  </thead>\n",
       "  <tbody>\n",
       "    <tr>\n",
       "      <th>0</th>\n",
       "      <td>32281</td>\n",
       "      <td>Kimi no Na wa.</td>\n",
       "      <td>Drama, Romance, School, Supernatural</td>\n",
       "      <td>Movie</td>\n",
       "      <td>1</td>\n",
       "      <td>9.37</td>\n",
       "      <td>200630</td>\n",
       "      <td>99</td>\n",
       "      <td>5</td>\n",
       "    </tr>\n",
       "    <tr>\n",
       "      <th>1</th>\n",
       "      <td>32281</td>\n",
       "      <td>Kimi no Na wa.</td>\n",
       "      <td>Drama, Romance, School, Supernatural</td>\n",
       "      <td>Movie</td>\n",
       "      <td>1</td>\n",
       "      <td>9.37</td>\n",
       "      <td>200630</td>\n",
       "      <td>152</td>\n",
       "      <td>10</td>\n",
       "    </tr>\n",
       "    <tr>\n",
       "      <th>2</th>\n",
       "      <td>32281</td>\n",
       "      <td>Kimi no Na wa.</td>\n",
       "      <td>Drama, Romance, School, Supernatural</td>\n",
       "      <td>Movie</td>\n",
       "      <td>1</td>\n",
       "      <td>9.37</td>\n",
       "      <td>200630</td>\n",
       "      <td>244</td>\n",
       "      <td>10</td>\n",
       "    </tr>\n",
       "    <tr>\n",
       "      <th>3</th>\n",
       "      <td>32281</td>\n",
       "      <td>Kimi no Na wa.</td>\n",
       "      <td>Drama, Romance, School, Supernatural</td>\n",
       "      <td>Movie</td>\n",
       "      <td>1</td>\n",
       "      <td>9.37</td>\n",
       "      <td>200630</td>\n",
       "      <td>271</td>\n",
       "      <td>10</td>\n",
       "    </tr>\n",
       "    <tr>\n",
       "      <th>4</th>\n",
       "      <td>32281</td>\n",
       "      <td>Kimi no Na wa.</td>\n",
       "      <td>Drama, Romance, School, Supernatural</td>\n",
       "      <td>Movie</td>\n",
       "      <td>1</td>\n",
       "      <td>9.37</td>\n",
       "      <td>200630</td>\n",
       "      <td>278</td>\n",
       "      <td>-1</td>\n",
       "    </tr>\n",
       "  </tbody>\n",
       "</table>\n",
       "</div>"
      ],
      "text/plain": [
       "   anime_id            name  ... user_id rating_y\n",
       "0     32281  Kimi no Na wa.  ...      99        5\n",
       "1     32281  Kimi no Na wa.  ...     152       10\n",
       "2     32281  Kimi no Na wa.  ...     244       10\n",
       "3     32281  Kimi no Na wa.  ...     271       10\n",
       "4     32281  Kimi no Na wa.  ...     278       -1\n",
       "\n",
       "[5 rows x 9 columns]"
      ]
     },
     "execution_count": 6,
     "metadata": {
      "tags": []
     },
     "output_type": "execute_result"
    }
   ],
   "source": [
    "merged_df.head()"
   ]
  },
  {
   "cell_type": "code",
   "execution_count": null,
   "metadata": {
    "colab": {
     "base_uri": "https://localhost:8080/",
     "height": 268
    },
    "colab_type": "code",
    "id": "3hV79csUkv7E",
    "outputId": "0b457392-3684-4999-cd96-fc499d85d00e"
   },
   "outputs": [
    {
     "data": {
      "text/plain": [
       "name\n",
       "Death Note                          39340\n",
       "Sword Art Online                    30583\n",
       "Shingeki no Kyojin                  29584\n",
       "Code Geass: Hangyaku no Lelouch     27718\n",
       "Elfen Lied                          27506\n",
       "Angel Beats!                        27183\n",
       "Naruto                              25925\n",
       "Fullmetal Alchemist                 25032\n",
       "Fullmetal Alchemist: Brotherhood    24574\n",
       "Toradora!                           24283\n",
       "Name: rating_x, dtype: int64"
      ]
     },
     "execution_count": 23,
     "metadata": {
      "tags": []
     },
     "output_type": "execute_result"
    }
   ],
   "source": [
    "top10rated = merged_df.groupby('name')['rating_x'].count().sort_values(ascending=False).head(10)\n",
    "top10rated"
   ]
  },
  {
   "cell_type": "markdown",
   "metadata": {
    "colab_type": "text",
    "id": "B9UuaAsiChkq"
   },
   "source": [
    "## Data preparation"
   ]
  },
  {
   "cell_type": "code",
   "execution_count": null,
   "metadata": {
    "colab": {},
    "colab_type": "code",
    "id": "bNngZY7K9PSz"
   },
   "outputs": [],
   "source": [
    "num_anime = rating.anime_id.unique().shape[0] # numbers of anime\n",
    "num_user = rating.user_id.unique().shape[0] # numbers of user\n",
    "\n",
    "# Create dictionary to map anime_id to anime index and vice versa\n",
    "# anime index is used for model's input \n",
    "anime_id2idx = dict(zip(np.sort(rating.anime_id.unique()), range(num_anime)))\n",
    "anime_idx2id = {v: k for k, v in anime_id2idx.items()}\n",
    "\n",
    "# Create dictionary to map user_id to user index and vice versa\n",
    "# user index is used for model's input\n",
    "user_id2idx = dict(zip(np.sort(rating.user_id.unique()), range(num_user)))\n",
    "user_idx2id = {v: k for k, v in user_id2idx.items()}\n",
    "\n",
    "# Creat dictionary to map anime_id to anime name\n",
    "anime_id2name = dict(zip(merged_df.anime_id, merged_df.name))"
   ]
  },
  {
   "cell_type": "code",
   "execution_count": 26,
   "metadata": {
    "colab": {
     "base_uri": "https://localhost:8080/",
     "height": 184
    },
    "colab_type": "code",
    "id": "Jo1sYOyVE0zM",
    "outputId": "b87a2f9a-f4e4-44dd-d5df-5801196208d2"
   },
   "outputs": [
    {
     "name": "stderr",
     "output_type": "stream",
     "text": [
      "/usr/local/lib/python3.6/dist-packages/pandas/core/indexing.py:635: SettingWithCopyWarning: \n",
      "A value is trying to be set on a copy of a slice from a DataFrame.\n",
      "Try using .loc[row_indexer,col_indexer] = value instead\n",
      "\n",
      "See the caveats in the documentation: http://pandas.pydata.org/pandas-docs/stable/indexing.html#indexing-view-versus-copy\n",
      "  self.obj[item_labels[indexer[info_axis]]] = value\n"
     ]
    }
   ],
   "source": [
    "RANDOM_SEED = 2019\n",
    "\n",
    "# Only use data with valid rating\n",
    "rating_filtered = rating[rating.rating != -1]\n",
    "# X = rating_filtered[['user_id', 'anime_id']]\n",
    "rating_filtered.loc[:,'user_id'] = rating_filtered.user_id.apply(lambda x: user_id2idx.get(x))\n",
    "rating_filtered.loc[:,'anime_id'] = rating_filtered.anime_id.apply(lambda x: anime_id2idx.get(x))\n",
    "# y = rating_filtered.rating\n",
    "\n",
    "rating_filtered_train, rating_filtered_val = train_test_split(rating_filtered, test_size=0.3, random_state=RANDOM_SEED)\n",
    "rating_filtered_val, rating_filtered_test = train_test_split(rating_filtered_val, test_size=0.3, random_state=RANDOM_SEED)\n",
    "\n",
    "# For generating training data, validation or testing data\n",
    "def ratingData(rating_data, shuffle):\n",
    "    if shuffle:\n",
    "        rating_data = sklearn.utils.shuffle(rating_data)\n",
    "    user_idx_train = torch.from_numpy(rating_data.user_id.values).to(device)\n",
    "    anime_idx_train = torch.from_numpy(rating_data.anime_id.values).to(device)\n",
    "    target_train = torch.FloatTensor(rating_data.rating.values).to(device)\n",
    "    return user_idx_train, anime_idx_train, target_train\n",
    "\n"
   ]
  },
  {
   "cell_type": "markdown",
   "metadata": {
    "colab_type": "text",
    "id": "nx6eoALsCra0"
   },
   "source": [
    "## Building model"
   ]
  },
  {
   "cell_type": "markdown",
   "metadata": {
    "colab_type": "text",
    "id": "pOHTQTEsW5eL"
   },
   "source": [
    "To build a recommender system, we are trying to build a model that predicts the rating of items by users. In order to achieve this, we want our model approxiates the existing rating table, and hopefully, it will generalize to unrated items. \n",
    "\n",
    "In the following, we are going to employ colaborative filtering approach to build our model. The core assumption of colaborative filtering is that users who have similar preferences in the past are likely to have similar preferences in the future.\n",
    "\n",
    "A 'completed' rating table $R$ is a $n_u \\times n_i$ matrix, where $n_u$ is the numbers of user and $n_i$ is the numbers of item. We assume that it can be assembled with two components, namely, the item matrix $\\Theta$ and the user matrix $X$. $\\Theta$ is a $k \\times n_i$ matrix, and $X$ is a $k \\times n_u$ matrix. The $k$-dimensional latent factors of $\\Theta$ can be interpreted as the features of the items, and the $k$-dimensional latent factors of $X$ can be interpreted as users' preferences on those features,  $k$ is can be assumed to be much less than $n_u$ and $n_i$. And we can approximate the rating table $R$ by the product of $X^T$ and $\\Theta$, i.e. $R \\approx X^T\\Theta$.\n",
    "\n",
    "The elements of the matrices $\\Theta$ and $X$ are the parameters that our model is going to learn from the existing rating data. We use mean square error as the metric for the approximation. Suppose that \n",
    "$\\Theta = [\\theta^{(0)} \\ \\theta^{(1)} \\ \\cdots \\ \\theta^{(n_i-1)}]$ and \n",
    "$X = [x^{(0)} \\ x^{(1)} \\ \\cdots \\ x^{(n_u-1)}]$. \n",
    "\n",
    "The predicted rating table $\\hat{R} = X^T \\Theta = \\begin{bmatrix} \n",
    "(x^{(0)})^T \\theta^{(0)} & (x^{(0)})^T \\theta^{(1)} & \\cdots & (x^{(0)})^T \\theta^{(n_i-1)}\\\\                \n",
    "(x^{(1)})^T \\theta^{(0)} & (x^{(1)})^T \\theta^{(1)} & \\cdots & (x^{(1)})^T \\theta^{(n_i-1)} \\\\\n",
    "\\vdots & \\vdots & \\vdots & \\vdots \\\\\n",
    "(x^{(n_u-1)})^T \\theta^{(0)} & (x^{(n_-1)})^T \\theta^{(1)} & \\cdots & (x^{(n_u-1)})^T \\theta^{(n_i-1)}\n",
    "\\end{bmatrix}.$\n",
    "\n",
    "So we train our model by minimizing the objective function $$\\frac{1}{2} \\sum_{p(i,j)=1} \\left( (x^{(i)})^T \\theta^{(j)} - r^{(i,j)} \\right)^2 + \\frac{\\lambda}{2} \\sum_{j=1}^{n_u} \\sum_{k=1}^n (\\theta_k^{(j)})^2 + \\frac{\\lambda}{2} \\sum_{j=1}^{n_u} \\sum_{k=1}^n (x_k^{(j)})^2$$\n",
    "where $p(i,j) = 1$ if user $i$ has rated item $j$ and $p(i,j) = 0 $ otherwise. The presence of $\\frac{\\lambda}{2} \\sum_{j=1}^{n_u} \\sum_{k=1}^n (\\theta_k^{(j)})^2 + \\frac{\\lambda}{2} \\sum_{j=1}^{n_u} \\sum_{k=1}^n (x_k^{(j)})^2$ is for the purpose of weight regularization."
   ]
  },
  {
   "cell_type": "code",
   "execution_count": null,
   "metadata": {
    "colab": {},
    "colab_type": "code",
    "id": "aRdLS3BiQXW2"
   },
   "outputs": [],
   "source": [
    "class CFNet(nn.Module):\n",
    "    def __init__(self, num_latent, num_anime, num_user):\n",
    "        super(CFNet, self).__init__()\n",
    "        self.embed_user = nn.Embedding(num_user, num_latent)\n",
    "        self.embed_anime = nn.Embedding(num_anime, num_latent)\n",
    "        \n",
    "    def forward(self, user_idx, anime_idx):\n",
    "        users = self.embed_user(user_idx) # users size = user_idx.size(0) x num_latent\n",
    "        animes = self.embed_anime(anime_idx) # animes size = anime_idx.size(0) x num_latent\n",
    "        # shape of user_idx and shape of anime_idx are broadcastable\n",
    "        ratings = (users * animes).sum(1) # rating size = user_idx.size(0)\n",
    "        return ratings\n",
    "    \n",
    "    def weight_init(self, low, high):\n",
    "        self.embed_user.weight.data.uniform_(low, high)\n",
    "        self.embed_anime.weight.data.uniform_(low, high)\n"
   ]
  },
  {
   "cell_type": "code",
   "execution_count": null,
   "metadata": {
    "colab": {},
    "colab_type": "code",
    "id": "7UXXDo3BEGFi"
   },
   "outputs": [],
   "source": [
    "# Colborative filtering model with bias terms\n",
    "class CFNetwBias(nn.Module):\n",
    "    def __init__(self, num_latent, num_anime, num_user):\n",
    "        super(CFNetwBias, self).__init__()\n",
    "        self.embed_user = nn.Embedding(num_user, num_latent)\n",
    "        self.user_bias = nn.Embedding(num_user, 1)\n",
    "        self.embed_anime = nn.Embedding(num_anime, num_latent)\n",
    "        self.anime_bias = nn.Embedding(num_anime, 1)\n",
    "        \n",
    "    def forward(self, user_idx, anime_idx):\n",
    "        users = self.embed_user(user_idx) # users size = user_idx.size(0) x num_latent\n",
    "        animes = self.embed_anime(anime_idx) # animes size = anime_idx.size(0) x num_latent\n",
    "        bias_users = self.user_bias(user_idx).squeeze() # bias_users size = (user_idx.size(0), )\n",
    "        bias_animes = self.anime_bias(anime_idx).squeeze() # bias_animes size = (anime_idx.size(0), )\n",
    "        # shape of user_idx and shape of anime_idx are broadcastable\n",
    "        ratings = (users * animes).sum(1) + bias_users + bias_animes # rating size = user_idx.size(0)\n",
    "        return ratings\n",
    "    \n",
    "    def weight_init(self, low_w, high_w, low_b, high_b):\n",
    "        self.embed_user.weight.data.uniform_(low_w, high_w)\n",
    "        self.embed_anime.weight.data.uniform_(low_w, high_w)\n",
    "        self.user_bias.weight.data.uniform_(low_b, high_b)\n",
    "        self.anime_bias.weight.data.uniform_(low_b, high_b)\n",
    "        "
   ]
  },
  {
   "cell_type": "code",
   "execution_count": 28,
   "metadata": {
    "colab": {
     "base_uri": "https://localhost:8080/",
     "height": 128
    },
    "colab_type": "code",
    "id": "HTRRBTvDzS9E",
    "outputId": "28690461-0887-4a40-f1cf-0cc371157814"
   },
   "outputs": [
    {
     "data": {
      "text/plain": [
       "CFNet(\n",
       "  (embed_user): Embedding(73515, 100)\n",
       "  (embed_anime): Embedding(11200, 100)\n",
       ")"
      ]
     },
     "execution_count": 28,
     "metadata": {
      "tags": []
     },
     "output_type": "execute_result"
    }
   ],
   "source": [
    "NUM_LATENT = 100 #len(genres)\n",
    "\n",
    "model = CFNet(NUM_LATENT, num_anime, num_user).to(device)\n",
    "model.weight_init(0.0, 0.02)\n",
    "\n",
    "# model = CFNetwBias(NUM_LATENT, num_anime, num_user).to(device)\n",
    "# model.weight_init(0.0, 0.02, -0.01, 0.01)\n",
    "\n",
    "model"
   ]
  },
  {
   "cell_type": "markdown",
   "metadata": {
    "colab_type": "text",
    "id": "lSLKr_c9M3cj"
   },
   "source": [
    "## Model training"
   ]
  },
  {
   "cell_type": "code",
   "execution_count": null,
   "metadata": {
    "colab": {},
    "colab_type": "code",
    "id": "FfYTMoSA_105"
   },
   "outputs": [],
   "source": [
    "criterion = nn.MSELoss().to(device)\n",
    "wd = 1e-6\n",
    "lr = 0.001\n",
    "optimizer = torch.optim.Adam(model.parameters(), lr=0.1, weight_decay = 1e-6)"
   ]
  },
  {
   "cell_type": "code",
   "execution_count": null,
   "metadata": {
    "colab": {},
    "colab_type": "code",
    "id": "mefCgdmEAyUp"
   },
   "outputs": [],
   "source": [
    "train_loss = []\n",
    "def train(user_idx, anime_idx, target, criterion, optimizer):\n",
    "    model.train()\n",
    "    prediction = model(user_idx, anime_idx)\n",
    "    loss = criterion(prediction, target)\n",
    "    optimizer.zero_grad()\n",
    "    loss.backward()\n",
    "    optimizer.step()\n",
    "    train_loss.append(loss.item())\n",
    "    print('\\nEpoch: {}/{}\\nTraining Loss: {:.4f}\\t'.format(epoch+1, NUM_EPOCHS, loss.item()), end=\"\")\n",
    "\n",
    "val_loss = []\n",
    "def validate(user_idx, anime_idx, target, criterion):\n",
    "    model.eval()\n",
    "    prediction = model(user_idx, anime_idx)\n",
    "    loss = criterion(prediction, target)\n",
    "    val_loss.append(loss.item())\n",
    "    print('Validation Loss: {:.4f}'.format(loss.item()))"
   ]
  },
  {
   "cell_type": "code",
   "execution_count": 31,
   "metadata": {
    "colab": {
     "base_uri": "https://localhost:8080/",
     "height": 1000
    },
    "colab_type": "code",
    "id": "M5yiSGPJY8a5",
    "outputId": "305cb3df-a8ae-4e07-f6a2-74c9b09b9533"
   },
   "outputs": [
    {
     "name": "stdout",
     "output_type": "stream",
     "text": [
      "Train on 4436068 samples, validate on 1330821 samples\n",
      "\n",
      "Epoch: 1/40\n",
      "Training Loss: 63.2844\tValidation Loss: 47.6878\n",
      "Time taken for epoch 1: 0.825112 seconds\n",
      "\n",
      "Epoch: 2/40\n",
      "Training Loss: 47.6332\tValidation Loss: 21.8332\n",
      "Time taken for epoch 2: 0.731603 seconds\n",
      "\n",
      "Epoch: 3/40\n",
      "Training Loss: 21.7366\tValidation Loss: 2.8801\n",
      "Time taken for epoch 3: 0.712807 seconds\n",
      "\n",
      "Epoch: 4/40\n",
      "Training Loss: 2.7829\tValidation Loss: 20.3778\n",
      "Time taken for epoch 4: 0.718013 seconds\n",
      "\n",
      "Epoch: 5/40\n",
      "Training Loss: 20.3479\tValidation Loss: 16.4510\n",
      "Time taken for epoch 5: 0.647085 seconds\n",
      "\n",
      "Epoch: 6/40\n",
      "Training Loss: 16.3817\tValidation Loss: 4.3900\n",
      "Time taken for epoch 6: 0.630050 seconds\n",
      "\n",
      "Epoch: 7/40\n",
      "Training Loss: 4.2661\tValidation Loss: 2.3834\n",
      "Time taken for epoch 7: 0.629181 seconds\n",
      "\n",
      "Epoch: 8/40\n",
      "Training Loss: 2.2390\tValidation Loss: 7.1458\n",
      "Time taken for epoch 8: 0.640469 seconds\n",
      "\n",
      "Epoch: 9/40\n",
      "Training Loss: 7.0070\tValidation Loss: 11.2194\n",
      "Time taken for epoch 9: 0.623976 seconds\n",
      "\n",
      "Epoch: 10/40\n",
      "Training Loss: 11.0912\tValidation Loss: 11.7148\n",
      "Time taken for epoch 10: 0.627365 seconds\n",
      "\n",
      "Epoch: 11/40\n",
      "Training Loss: 11.5909\tValidation Loss: 8.9264\n",
      "Time taken for epoch 11: 0.636952 seconds\n",
      "\n",
      "Epoch: 12/40\n",
      "Training Loss: 8.7985\tValidation Loss: 4.7177\n",
      "Time taken for epoch 12: 0.624136 seconds\n",
      "\n",
      "Epoch: 13/40\n",
      "Training Loss: 4.5808\tValidation Loss: 1.9131\n",
      "Time taken for epoch 13: 0.634881 seconds\n",
      "\n",
      "Epoch: 14/40\n",
      "Training Loss: 1.7700\tValidation Loss: 2.7101\n",
      "Time taken for epoch 14: 0.628231 seconds\n",
      "\n",
      "Epoch: 15/40\n",
      "Training Loss: 2.5726\tValidation Loss: 5.6987\n",
      "Time taken for epoch 15: 0.640650 seconds\n",
      "\n",
      "Epoch: 16/40\n",
      "Training Loss: 5.5800\tValidation Loss: 6.5799\n",
      "Time taken for epoch 16: 0.635668 seconds\n",
      "\n",
      "Epoch: 17/40\n",
      "Training Loss: 6.4799\tValidation Loss: 4.3849\n",
      "Time taken for epoch 17: 0.624268 seconds\n",
      "\n",
      "Epoch: 18/40\n",
      "Training Loss: 4.2906\tValidation Loss: 2.1321\n",
      "Time taken for epoch 18: 0.634063 seconds\n",
      "\n",
      "Epoch: 19/40\n",
      "Training Loss: 2.0320\tValidation Loss: 1.9454\n",
      "Time taken for epoch 19: 0.630859 seconds\n",
      "\n",
      "Epoch: 20/40\n",
      "Training Loss: 1.8361\tValidation Loss: 3.2295\n",
      "Time taken for epoch 20: 0.626164 seconds\n",
      "\n",
      "Epoch: 21/40\n",
      "Training Loss: 3.1132\tValidation Loss: 4.3645\n",
      "Time taken for epoch 21: 0.635503 seconds\n",
      "\n",
      "Epoch: 22/40\n",
      "Training Loss: 4.2439\tValidation Loss: 4.3759\n",
      "Time taken for epoch 22: 0.650619 seconds\n",
      "\n",
      "Epoch: 23/40\n",
      "Training Loss: 4.2524\tValidation Loss: 3.3355\n",
      "Time taken for epoch 23: 0.629374 seconds\n",
      "\n",
      "Epoch: 24/40\n",
      "Training Loss: 3.2093\tValidation Loss: 2.0878\n",
      "Time taken for epoch 24: 0.644676 seconds\n",
      "\n",
      "Epoch: 25/40\n",
      "Training Loss: 1.9590\tValidation Loss: 1.6369\n",
      "Time taken for epoch 25: 0.653403 seconds\n",
      "\n",
      "Epoch: 26/40\n",
      "Training Loss: 1.5054\tValidation Loss: 2.2501\n",
      "Time taken for epoch 26: 0.650598 seconds\n",
      "\n",
      "Epoch: 27/40\n",
      "Training Loss: 2.1162\tValidation Loss: 3.0285\n",
      "Time taken for epoch 27: 0.644052 seconds\n",
      "\n",
      "Epoch: 28/40\n",
      "Training Loss: 2.8935\tValidation Loss: 2.9423\n",
      "Time taken for epoch 28: 0.638640 seconds\n",
      "\n",
      "Epoch: 29/40\n",
      "Training Loss: 2.8084\tValidation Loss: 2.1601\n",
      "Time taken for epoch 29: 0.639219 seconds\n",
      "\n",
      "Epoch: 30/40\n",
      "Training Loss: 2.0298\tValidation Loss: 1.6307\n",
      "Time taken for epoch 30: 0.625450 seconds\n",
      "\n",
      "Epoch: 31/40\n",
      "Training Loss: 1.5053\tValidation Loss: 1.7956\n",
      "Time taken for epoch 31: 0.626629 seconds\n",
      "\n",
      "Epoch: 32/40\n",
      "Training Loss: 1.6748\tValidation Loss: 2.2811\n",
      "Time taken for epoch 32: 0.631085 seconds\n",
      "\n",
      "Epoch: 33/40\n",
      "Training Loss: 2.1634\tValidation Loss: 2.5120\n",
      "Time taken for epoch 33: 0.633350 seconds\n",
      "\n",
      "Epoch: 34/40\n",
      "Training Loss: 2.3955\tValidation Loss: 2.2751\n",
      "Time taken for epoch 34: 0.630157 seconds\n",
      "\n",
      "Epoch: 35/40\n",
      "Training Loss: 2.1589\tValidation Loss: 1.8205\n",
      "Time taken for epoch 35: 0.636799 seconds\n",
      "\n",
      "Epoch: 36/40\n",
      "Training Loss: 1.7045\tValidation Loss: 1.5816\n",
      "Time taken for epoch 36: 0.639582 seconds\n",
      "\n",
      "Epoch: 37/40\n",
      "Training Loss: 1.4661\tValidation Loss: 1.7344\n",
      "Time taken for epoch 37: 0.631721 seconds\n",
      "\n",
      "Epoch: 38/40\n",
      "Training Loss: 1.6188\tValidation Loss: 1.9969\n",
      "Time taken for epoch 38: 0.630745 seconds\n",
      "\n",
      "Epoch: 39/40\n",
      "Training Loss: 1.8789\tValidation Loss: 1.9918\n",
      "Time taken for epoch 39: 0.628818 seconds\n",
      "\n",
      "Epoch: 40/40\n",
      "Training Loss: 1.8693\tValidation Loss: 1.7422\n",
      "Time taken for epoch 40: 0.631124 seconds\n",
      "CPU times: user 22.4 s, sys: 3.39 s, total: 25.8 s\n",
      "Wall time: 25.8 s\n"
     ]
    }
   ],
   "source": [
    "%%time\n",
    "NUM_EPOCHS = 40  \n",
    "print('Train on {} samples, validate on {} samples'.format(len(target_train), len(target_val)))\n",
    "for epoch in range(NUM_EPOCHS):\n",
    "    epoch_start_time = time.time()\n",
    "    user_idx_train, anime_idx_train, target_train = ratingData(rating_filtered_train, shuffle=True)\n",
    "    train(user_idx_train, anime_idx_train, target_train, criterion, optimizer)\n",
    "    user_idx_val, anime_idx_val, target_val = ratingData(rating_filtered_val, shuffle=False)\n",
    "    validate(user_idx_val, anime_idx_val, target_val, criterion)\n",
    "    epoch_end_time = time.time() - epoch_start_time\n",
    "    print('Time taken for epoch {}: {:3f} seconds'.format(epoch+1, epoch_end_time))"
   ]
  },
  {
   "cell_type": "markdown",
   "metadata": {
    "colab_type": "text",
    "id": "bIc8RZYQM_wd"
   },
   "source": [
    "## Model evaluation and prediction"
   ]
  },
  {
   "cell_type": "code",
   "execution_count": 32,
   "metadata": {
    "colab": {
     "base_uri": "https://localhost:8080/",
     "height": 520
    },
    "colab_type": "code",
    "id": "t1zMqR5R9Kwe",
    "outputId": "e8ba4b26-faa2-4d72-9c51-ef7b76194887"
   },
   "outputs": [
    {
     "data": {
      "image/png": "[encoded data removed]",
      "text/plain": [
       "<Figure size 720x576 with 1 Axes>"
      ]
     },
     "metadata": {
      "tags": []
     },
     "output_type": "display_data"
    }
   ],
   "source": [
    "plt.figure(figsize=(10,8))\n",
    "plt.plot(train_loss, label='train')\n",
    "plt.plot(val_loss, label='val')\n",
    "plt.xlabel('Epoch')\n",
    "plt.ylabel('Loss')\n",
    "plt.legend()\n",
    "plt.show()"
   ]
  },
  {
   "cell_type": "code",
   "execution_count": 35,
   "metadata": {
    "colab": {
     "base_uri": "https://localhost:8080/",
     "height": 497
    },
    "colab_type": "code",
    "id": "wTR9-v9kj2XR",
    "outputId": "d6d5de5c-e45e-4393-82d1-2dc9753c294d"
   },
   "outputs": [
    {
     "name": "stdout",
     "output_type": "stream",
     "text": [
      "Prediction on test set (only first 20/570352 data are shown)\n",
      "\n",
      "    target  prediction\n",
      "0      8.0    8.381859\n",
      "1      9.0    9.376514\n",
      "2      8.0    8.023071\n",
      "3      7.0    8.214961\n",
      "4      7.0    8.305619\n",
      "5      8.0    8.368932\n",
      "6      8.0    7.148010\n",
      "7     10.0   10.575562\n",
      "8      9.0    9.458033\n",
      "9      7.0    5.750719\n",
      "10     7.0    7.733507\n",
      "11     7.0    8.617054\n",
      "12     7.0    7.306227\n",
      "13     9.0    7.342526\n",
      "14     8.0    7.654259\n",
      "15     8.0    7.638124\n",
      "16     9.0    7.783444\n",
      "17     8.0    8.248083\n",
      "18    10.0    8.011716\n",
      "19     8.0    7.675083\n",
      "\n",
      "Loss:\t 1.7366348505020142\n"
     ]
    }
   ],
   "source": [
    "model.eval()\n",
    "user_idx_test, anime_idx_test, target_test = ratingData(rating_filtered_test, shuffle=False)\n",
    "prediction = model(user_idx_test, anime_idx_test)\n",
    "results = pd.DataFrame({\n",
    "                        'target': target_test.cpu().detach().numpy(),\n",
    "                        'prediction': prediction.cpu().detach().numpy(),\n",
    "                        })\n",
    "show = 20\n",
    "print('Prediction on test set (only first {}/{} data are shown)\\n'.format(show, len(rating_filtered_test)))\n",
    "print(results.head(show))\n",
    "print('\\nLoss:\\t', criterion(prediction, target_test).item())"
   ]
  },
  {
   "cell_type": "markdown",
   "metadata": {
    "colab_type": "text",
    "id": "leoV4rMfUMbA"
   },
   "source": [
    "## Result"
   ]
  },
  {
   "cell_type": "code",
   "execution_count": null,
   "metadata": {
    "colab": {},
    "colab_type": "code",
    "id": "5ZbF8RDAULYN"
   },
   "outputs": [],
   "source": [
    "# Get Recommendation\n",
    "animes_idx = torch.arange(num_anime).to(device)\n",
    "def getRecommendation(user_id, animes_idx, min_score, top_num, loose):\n",
    "    \"\"\"\n",
    "    Get top_num numbers of recommendation with predicted rating \n",
    "    at least min_score for a single user with user id = user_id.\n",
    "    If loose is set to True, then return randomly selected items \n",
    "    with predicted rating at least min_score, otherwise, return \n",
    "    items with top_num highest predicted rating.\n",
    "    \"\"\"\n",
    "    model.eval()\n",
    "    user_idx = user_id2idx[user_id]\n",
    "    user_idx = torch.tensor([user_idx]).to(device)\n",
    "    with torch.no_grad(): \n",
    "        pred = model(animes_idx, user_idx)\n",
    "    \n",
    "    pred = pred.cpu().numpy()\n",
    "    recommend = list(enumerate(pred))\n",
    "    recommend = [elm for elm in recommend if elm[1] > min_score]\n",
    "    if len(recommend) >= top_num:\n",
    "        if loose: \n",
    "            recommend = random.sample(recommend, top_num)\n",
    "        else:\n",
    "            recommend = sorted(recommend, key=lambda x: x[1], reverse=True)\n",
    "            recommend = recommend[0:top_num]\n",
    "    elif 0 < len(recommend) < top_num:\n",
    "        pass\n",
    "    else:\n",
    "        return []  \n",
    "    \n",
    "    output = []\n",
    "    for (idx, value) in recommend:\n",
    "        anime_id = anime_idx2id.get(idx)\n",
    "        name = anime_id2name.get(anime_id)\n",
    "        output.append((name, value))\n",
    "    return output \n",
    "        "
   ]
  },
  {
   "cell_type": "code",
   "execution_count": 38,
   "metadata": {
    "colab": {
     "base_uri": "https://localhost:8080/",
     "height": 424
    },
    "colab_type": "code",
    "id": "gpor03iSd3Zq",
    "outputId": "50730752-6775-480f-8a1b-fa37447e3a2c"
   },
   "outputs": [
    {
     "name": "stdout",
     "output_type": "stream",
     "text": [
      "3 recommendations to user 1 to user 20 with corresponding predicted ratings\n",
      "\n",
      "user 1: [('Baka to Test to Shoukanjuu: Matsuri - Sentakushi Ikou nomi', 9.853443), ('Xiao Qian', 9.750408), ('Hoshi ni Negai wo: Cold Body + Warm Heart', 9.742124)]\n",
      "user 2: [('Date A Live: Encore OVA', 9.259101), ('One Off', 9.680873), ('Ganbare! Kickers: Hitoribocchi no Ace Striker', 9.583363)]\n",
      "user 3: [('Qi Cai Lao Fu Zi', 9.872902), ('Beast Wars Second Chou Seimeitai Transformers', 9.511072), ('Triage X: Recollection XOXO', 10.206439)]\n",
      "user 4: [('Bakugan Battle Brawlers: Mechtanium Surge', 9.409443), ('Bic Contact X Mameshiba Collab CM', 10.269596), ('Sekai Monoshiri Ryoko', 9.2397785)]\n",
      "user 5: [('Tatakae! Osper', 9.2699), ('Sei Michaela Gakuen Hyouryuuki', 9.2182455), ('Corrector Yui', 9.1039095)]\n",
      "user 6: [('Fushigi no Umi no Nadia', 9.004905), ('Tide-Line Blue', 10.275102), ('Zoku Zoku Mura no Obaketachi', 9.258064)]\n",
      "user 7: [('Super GALS! Kotobuki Ran', 11.063879), ('Gegege no Kitarou (1968)', 9.304348), ('Bishoujo Senshi Sailor Moon R: The Movie', 9.051023)]\n",
      "user 8: [('Nyan Koi!', 9.147002), ('JoJo no Kimyou na Bouken: Adventure', 9.032252), ('Lupin III: Part III', 9.789422)]\n",
      "user 9: [('Kaitou Jigoma Ongaku-hen', 10.127503), ('Lupin III: Kiri no Elusive', 9.444296), ('Sekai no Hikari: Shinran Shounin', 9.667109)]\n",
      "user 10: [('Cynical Hysterie Hour: Trip Coaster', 9.950297), ('Joshidai: Ecchi Soudanshitsu', 10.545771), ('Gall Force 3: Stardust War', 9.899679)]\n",
      "user 11: [('Futago no Monchhichi', 9.383945), ('Wagamama High Spec', 9.180607), ('Bronze: Zetsuai Since 1989', 9.231852)]\n",
      "user 12: [('Makai Ouji: Devils and Realist', 9.2440815), ('Ghost in the Shell: Arise - Border:3 Ghost Tears', 9.549101), ('The Adventures of Hello Kitty &amp; Friends', 9.8832855)]\n",
      "user 13: [('Hitsuji no Uta', 9.3258), ('Danna ga Nani wo Itteiru ka Wakaranai Ken', 9.006895), ('Tres Marias: Sannin no Sei Shojo', 9.209512)]\n",
      "user 14: [('City Hunter: Ai to Shukumei no Magnum', 9.420658), ('Amada Anime Series: Super Mario Brothers', 9.937954), ('Tight-rope', 9.825399)]\n",
      "user 15: [('Weiß Kreuz', 9.31824), ('Shiden Pilot', 9.257462), ('Shoujouji no Tanuki-bayashi Ban Danemon', 9.621561)]\n",
      "user 16: [('Self-Portrait', 9.334839), ('Inferno Cop: Fact Files', 10.021893), ('Mahou no Star Magical Emi: Finale! Finale!', 9.879778)]\n",
      "user 17: [('Hyakka Ryouran: Samurai Girls', 9.285107), ('Itsuka Tenma no Kuro Usagi OVA', 9.197044), ('Rurouni Kenshin: Meiji Kenkaku Romantan', 9.148755)]\n",
      "user 18: [('Kagirinaki Rakuen', 9.759977), ('Mermaid Forest', 9.52202), ('Hustle Punch', 9.805652)]\n",
      "user 19: [('Kero Kero Keroppi no Sora Tobu Yume no Fune', 9.285634), ('Zonmi-chan: Halloween☆Special Movie!', 9.062726), ('Higurashi no Naku Koro ni Special: Nekogoroshi-hen', 9.767187)]\n",
      "user 20: [('Head Spoon', 9.25496), ('Haiyore! Nyaruko-san W', 9.164211), ('Mardock Scramble: The First Compression', 9.408962)]\n"
     ]
    }
   ],
   "source": [
    "print('3 recommendations to user 1 to user 20 with corresponding predicted ratings\\n')\n",
    "for user_id in range(1,21):\n",
    "    print('user {}:'.format(user_id), getRecommendation(user_id, animes_idx, 9, 3, 1))"
   ]
  }
 ],
 "metadata": {
  "accelerator": "GPU",
  "colab": {
   "collapsed_sections": [],
   "name": "Recommendation_System.ipynb",
   "provenance": [],
   "toc_visible": true,
   "version": "0.3.2"
  },
  "kernelspec": {
   "display_name": "Python 3",
   "language": "python",
   "name": "python3"
  },
  "language_info": {
   "codemirror_mode": {
    "name": "ipython",
    "version": 3
   },
   "file_extension": ".py",
   "mimetype": "text/x-python",
   "name": "python",
   "nbconvert_exporter": "python",
   "pygments_lexer": "ipython3",
   "version": "3.6.8"
  }
 },
 "nbformat": 4,
 "nbformat_minor": 2
}
